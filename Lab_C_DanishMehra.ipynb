{
  "nbformat": 4,
  "nbformat_minor": 0,
  "metadata": {
    "accelerator": "GPU",
    "colab": {
      "name": "Lab_C_DanishMehra.ipynb",
      "provenance": [],
      "collapsed_sections": [],
      "machine_shape": "hm"
    },
    "kernelspec": {
      "display_name": "Python 3",
      "language": "python",
      "name": "python3"
    },
    "language_info": {
      "codemirror_mode": {
        "name": "ipython",
        "version": 3
      },
      "file_extension": ".py",
      "mimetype": "text/x-python",
      "name": "python",
      "nbconvert_exporter": "python",
      "pygments_lexer": "ipython3",
      "version": "3.8.3"
    }
  },
  "cells": [
    {
      "cell_type": "markdown",
      "metadata": {
        "id": "hExKCzh6doIW"
      },
      "source": [
        "# Lab 4 - Comparing Classification Models\n",
        "\n",
        "\n",
        "\n",
        "---\n",
        "\n",
        "\n",
        "\n",
        "\n",
        "\n",
        "\n",
        "\n",
        "\n",
        "\n",
        "\n",
        "\n",
        "\n",
        "\n"
      ]
    },
    {
      "cell_type": "markdown",
      "metadata": {
        "id": "HixoFOoCIJ7V"
      },
      "source": [
        "In this session, we demonstrate how to solve a text classification task using simple \n",
        "feedforward neural network classifier. We will use IMDB Large Movie Review Dataset to train a binary classification model, able to predict whether a review is positive or negative. First, our network takes one-hot word vectors as input, averages them to make one vector and trains a \n",
        "fully-connected layer to predict the output. In the second part, we replace the one-hot vectors with the word embeddings and add a layer to see how much that improves the performance.\n",
        "\n",
        "We are going to use Keras Sequential API in this session. The Sequential API allows you to make models layer-by-layer. But it is not straightforward to define models where layers connect to more than just the previous and next layers. "
      ]
    },
    {
      "cell_type": "code",
      "metadata": {
        "id": "m8fpBfhBpupy"
      },
      "source": [
        "import keras\n",
        "import numpy as np\n",
        "from keras.layers import Lambda, GlobalAveragePooling1D, Dense, Embedding\n",
        "from keras import backend as K\n",
        "from keras.models import Sequential\n",
        "import matplotlib.pyplot as plt\n"
      ],
      "execution_count": 1,
      "outputs": []
    },
    {
      "cell_type": "markdown",
      "metadata": {
        "id": "cqvPQvgvPv1W"
      },
      "source": [
        "### Downloading data"
      ]
    },
    {
      "cell_type": "markdown",
      "metadata": {
        "id": "EundMtGPpCdf"
      },
      "source": [
        "The dataset we will be using is the IMDB Large Movie Review Dataset, which consists of 50000 labeled movie reviews. These are split into 25,000 reviews for training and 25,000 reviews for testing. The  dataset contains an even number of positive and negative reviews, so randomly guessing yields 50% accuracy. The data is preprocessed. For text classification, it is ususal to limit the size of the vocabulary to stop the dataset from becoming too sparse, creating possible overfitting. We keep the top 10,000 most frequently occurring words in the training data.\n"
      ]
    },
    {
      "cell_type": "code",
      "metadata": {
        "id": "NyuSzkafqNca",
        "colab": {
          "base_uri": "https://localhost:8080/"
        },
        "outputId": "859a14eb-294e-402b-c41a-212b7b879a30"
      },
      "source": [
        "imdb = keras.datasets.imdb\n",
        "(X_train, y_train), (X_test, y_test) = imdb.load_data(num_words=10000)"
      ],
      "execution_count": 2,
      "outputs": [
        {
          "output_type": "stream",
          "text": [
            "Downloading data from https://storage.googleapis.com/tensorflow/tf-keras-datasets/imdb.npz\n",
            "17465344/17464789 [==============================] - 0s 0us/step\n"
          ],
          "name": "stdout"
        },
        {
          "output_type": "stream",
          "text": [
            "<string>:6: VisibleDeprecationWarning: Creating an ndarray from ragged nested sequences (which is a list-or-tuple of lists-or-tuples-or ndarrays with different lengths or shapes) is deprecated. If you meant to do this, you must specify 'dtype=object' when creating the ndarray\n",
            "/usr/local/lib/python3.7/dist-packages/tensorflow/python/keras/datasets/imdb.py:159: VisibleDeprecationWarning: Creating an ndarray from ragged nested sequences (which is a list-or-tuple of lists-or-tuples-or ndarrays with different lengths or shapes) is deprecated. If you meant to do this, you must specify 'dtype=object' when creating the ndarray\n",
            "  x_train, y_train = np.array(xs[:idx]), np.array(labels[:idx])\n",
            "/usr/local/lib/python3.7/dist-packages/tensorflow/python/keras/datasets/imdb.py:160: VisibleDeprecationWarning: Creating an ndarray from ragged nested sequences (which is a list-or-tuple of lists-or-tuples-or ndarrays with different lengths or shapes) is deprecated. If you meant to do this, you must specify 'dtype=object' when creating the ndarray\n",
            "  x_test, y_test = np.array(xs[idx:]), np.array(labels[idx:])\n"
          ],
          "name": "stderr"
        }
      ]
    },
    {
      "cell_type": "markdown",
      "metadata": {
        "id": "6U4iCV9-rmay"
      },
      "source": [
        "We now can start playing around with the data, let’s first see the length:"
      ]
    },
    {
      "cell_type": "code",
      "metadata": {
        "id": "h-gjWRAuqg5s",
        "colab": {
          "base_uri": "https://localhost:8080/"
        },
        "outputId": "1de3363d-ec46-4aa5-d568-7fd558958ade"
      },
      "source": [
        "print(\"Training entries: {}, labels: {}\".format(len(X_train), len(y_train)))"
      ],
      "execution_count": 3,
      "outputs": [
        {
          "output_type": "stream",
          "text": [
            "Training entries: 25000, labels: 25000\n"
          ],
          "name": "stdout"
        }
      ]
    },
    {
      "cell_type": "markdown",
      "metadata": {
        "id": "MTRZrpcyr-4x"
      },
      "source": [
        "The  reviews have been converted to integers and each integer represents a  word in a dictionary. "
      ]
    },
    {
      "cell_type": "code",
      "metadata": {
        "id": "79Ev72Kgq4XL",
        "colab": {
          "base_uri": "https://localhost:8080/"
        },
        "outputId": "2ff08763-dba6-4915-c688-4adc3c1b8a82"
      },
      "source": [
        " X_train[0][:10]"
      ],
      "execution_count": 4,
      "outputs": [
        {
          "output_type": "execute_result",
          "data": {
            "text/plain": [
              "[1, 14, 22, 16, 43, 530, 973, 1622, 1385, 65]"
            ]
          },
          "metadata": {
            "tags": []
          },
          "execution_count": 4
        }
      ]
    },
    {
      "cell_type": "markdown",
      "metadata": {
        "id": "Tvuu4KhStqei"
      },
      "source": [
        "We can convert integers back to words by querying a dictionary object that contains the integer to string mapping:"
      ]
    },
    {
      "cell_type": "code",
      "metadata": {
        "id": "gMCH1OoDrSNR",
        "colab": {
          "base_uri": "https://localhost:8080/"
        },
        "outputId": "196e567b-1373-4563-ed75-7909e33c7033"
      },
      "source": [
        "word_index = imdb.get_word_index()"
      ],
      "execution_count": 5,
      "outputs": [
        {
          "output_type": "stream",
          "text": [
            "Downloading data from https://storage.googleapis.com/tensorflow/tf-keras-datasets/imdb_word_index.json\n",
            "1646592/1641221 [==============================] - 0s 0us/step\n"
          ],
          "name": "stdout"
        }
      ]
    },
    {
      "cell_type": "markdown",
      "metadata": {
        "id": "5IreFXgruZot"
      },
      "source": [
        "Index 1 represents the beginning of the sentence and the index 2 is assigned to all unknown tokens. Index 0 will be used for padding."
      ]
    },
    {
      "cell_type": "code",
      "metadata": {
        "id": "abIb7Fe5u3GQ"
      },
      "source": [
        "word_index = {k:(v+3) for k,v in word_index.items()}\n",
        "word_index[\"<PAD>\"] = 0\n",
        "word_index[\"<START>\"] = 1\n",
        "word_index[\"<UNK>\"] = 2  \n",
        "word_index[\"<UNUSED>\"] = 3"
      ],
      "execution_count": 7,
      "outputs": []
    },
    {
      "cell_type": "markdown",
      "metadata": {
        "id": "9TnnSuspvC5b"
      },
      "source": [
        "To reverse key and values in a dictionary:"
      ]
    },
    {
      "cell_type": "code",
      "metadata": {
        "id": "nKOiVVXQu-_I"
      },
      "source": [
        "reverse_word_index = dict([(value, key) for (key, value) in word_index.items()])"
      ],
      "execution_count": 8,
      "outputs": []
    },
    {
      "cell_type": "markdown",
      "metadata": {
        "id": "ZmTJEm8xvUvW"
      },
      "source": [
        "To view a word:"
      ]
    },
    {
      "cell_type": "code",
      "metadata": {
        "id": "SqN5jgVKvJJZ",
        "colab": {
          "base_uri": "https://localhost:8080/",
          "height": 34
        },
        "outputId": "570e331b-5135-4ca5-822f-9275f148def2"
      },
      "source": [
        "reverse_word_index[25]"
      ],
      "execution_count": 9,
      "outputs": [
        {
          "output_type": "execute_result",
          "data": {
            "application/vnd.google.colaboratory.intrinsic+json": {
              "type": "string"
            },
            "text/plain": [
              "'film'"
            ]
          },
          "metadata": {
            "tags": []
          },
          "execution_count": 9
        }
      ]
    },
    {
      "cell_type": "markdown",
      "metadata": {
        "id": "Q6QjrzgVvrYn"
      },
      "source": [
        "And to recreate the whole sentence from our training data we define decode_review:\n"
      ]
    },
    {
      "cell_type": "code",
      "metadata": {
        "id": "wvrKeMgxvWlv"
      },
      "source": [
        "def decode_review(text):\n",
        "    return ' '.join([reverse_word_index.get(i, '?') for i in text])"
      ],
      "execution_count": 10,
      "outputs": []
    },
    {
      "cell_type": "code",
      "metadata": {
        "id": "Sxg4YA_NvdRg",
        "colab": {
          "base_uri": "https://localhost:8080/",
          "height": 156
        },
        "outputId": "2ea674cf-9d0d-40f2-c19b-36c3088af342"
      },
      "source": [
        "decode_review(X_train[10])"
      ],
      "execution_count": 11,
      "outputs": [
        {
          "output_type": "execute_result",
          "data": {
            "application/vnd.google.colaboratory.intrinsic+json": {
              "type": "string"
            },
            "text/plain": [
              "\"<START> york seems went about two scenes the ? lunatic little ? anything next the now was people characters why this co ? <UNK> killing <UNK> movie and ? here <UNK> <UNK> ? lunatic like party for ahead lost ? josh little because turned seems warned ? a pass have the ? never york seems characters show him <UNK> i stories excellent movie ? use men for in a him more that to bit there team were have one ? freeman the ? with ? in to seemed a <UNK> one ? special totally ? life it jealousy ? with a ? recall ? many alice movie think worth outside company ? war ex ? government watch a ? your surprised <UNK> aspects and company that faded are a place to ? sleeping was wasn't human ? rude wood <UNK> started element <UNK> unwilling ? not usa fascinating ambitions could ? used these to ? sleeping job at scheming entertainment ? hoped set to ? system it slowly all though <UNK> could <UNK> going the is at genre derek most aka pop ? derek at between his side and enjoy is and potential go ? company hype of of war ex a ? good isn't bbc ? through new lot red it has silly there characters evil movie is this least an well understandable that down and bad was is or utterly and man it <UNK> funny ? never the or <UNK> this example or <UNK> ? with being new lady cons ? attempts and obsession can despite nothing strength <UNK> ground ? people imagine that ? with ? horror it because the is said set co ? government company sleeping <UNK> it ? with lady good coup ? in 3rd talky ? government star the ? proceeds jump and enjoy ex and potential just the ? sleeping or good named and much guys then or getting american it ? vhs a ? doesn't it which <UNK> do ? in with americans it this ? nothing <UNK> it me see being which his worst the seriously if a anime ? patient ? in race and jealousy it <UNK> new know vs and his lot walked ? with a let's that ? part the inside cop ? government many ? movies on he good isn't to story give made ? ? horror it ? goes definitely role said movie most give watch a good can interesting played superhero it ? with etc mouth one ? does etc his modern 3 this ? book long funny money ? attempts and his lot chess entertaining <UNK> a ? full people seems with ? have the ? never the ? keaton decent chemistry peter\""
            ]
          },
          "metadata": {
            "tags": []
          },
          "execution_count": 11
        }
      ]
    },
    {
      "cell_type": "markdown",
      "metadata": {
        "id": "c8gIzXncfaJK"
      },
      "source": [
        "### Creating One-hot word vectors"
      ]
    },
    {
      "cell_type": "markdown",
      "metadata": {
        "id": "B9W4yb3rv_E0"
      },
      "source": [
        "It is  common to use one-hot representation as input in Natural Language Processing tasks. In Keras, the Embedding layer takes an index as an input and convert it to one-hot vector with the length of the vocabulary size. Then multiplies these vectors by a normal weight matrix. But there is no way to only get a one-hot vector as the output of a layer in Keras. To solve this we use Lambda() layer and a function that creates the one-hot layer. "
      ]
    },
    {
      "cell_type": "code",
      "metadata": {
        "id": "RPO_pK9zH4C5"
      },
      "source": [
        "def OneHot(input_dim=None, input_length=None):\n",
        "    \n",
        "    if input_dim is None or input_length is None:\n",
        "        raise TypeError(\"input_dim or input_length is not set\")\n",
        "\n",
        "    \n",
        "    def _one_hot(x, num_classes):\n",
        "        return K.one_hot(K.cast(x, 'uint8'),\n",
        "                          num_classes=num_classes)\n",
        "\n",
        "    return Lambda(_one_hot,\n",
        "                  arguments={'num_classes': input_dim},\n",
        "                  input_shape=(input_length,))"
      ],
      "execution_count": 12,
      "outputs": []
    },
    {
      "cell_type": "markdown",
      "metadata": {
        "id": "364d3MAw0ez9"
      },
      "source": [
        "input_dim refers to the length of the one-hot vector and input_length refers to the length of the input sequence. Since the input to K.one_hot should be an integer tensor, we cast x to one (Keras passes around float tensors by default).\n",
        "\n"
      ]
    },
    {
      "cell_type": "markdown",
      "metadata": {
        "id": "VHz76GNA2M4r"
      },
      "source": [
        " Each text sequence has in most cases different length of words. Here, we fill sequences with a pad token (0) to fit the size. This special tokens is then masked not to be accounted in averaging, loss calculation etc. We set the maximum length to 256."
      ]
    },
    {
      "cell_type": "markdown",
      "metadata": {
        "id": "9G_o7PsvgSFt"
      },
      "source": [
        "### Preparing input data"
      ]
    },
    {
      "cell_type": "code",
      "metadata": {
        "id": "jiFn7sd_wF5j"
      },
      "source": [
        "VOCAB_SIZE = 10000\n",
        "MAX_SEQUENCE_LENGTH = 256\n",
        "\n",
        "X_train_enc = keras.preprocessing.sequence.pad_sequences(X_train,\n",
        "                                                        value=word_index[\"<PAD>\"],\n",
        "                                                        padding='post',\n",
        "                                                        maxlen=256)\n",
        "\n",
        "X_test_enc = keras.preprocessing.sequence.pad_sequences(X_test,\n",
        "                                                       value=word_index[\"<PAD>\"],\n",
        "                                                       padding='post',\n",
        "                                                       maxlen=256)"
      ],
      "execution_count": 13,
      "outputs": []
    },
    {
      "cell_type": "markdown",
      "metadata": {
        "id": "kcjFH1wKF_7d"
      },
      "source": [
        "And to view a padded review:"
      ]
    },
    {
      "cell_type": "code",
      "metadata": {
        "id": "zwH4dcfW_a18",
        "colab": {
          "base_uri": "https://localhost:8080/"
        },
        "outputId": "0e0bc4b7-ff5b-496e-ad36-8ea5ea992192"
      },
      "source": [
        "print(X_train_enc[1])\n",
        "print('\\nLength: ',len(X_train_enc))"
      ],
      "execution_count": 14,
      "outputs": [
        {
          "output_type": "stream",
          "text": [
            "[   1  194 1153  194 8255   78  228    5    6 1463 4369 5012  134   26\n",
            "    4  715    8  118 1634   14  394   20   13  119  954  189  102    5\n",
            "  207  110 3103   21   14   69  188    8   30   23    7    4  249  126\n",
            "   93    4  114    9 2300 1523    5  647    4  116    9   35 8163    4\n",
            "  229    9  340 1322    4  118    9    4  130 4901   19    4 1002    5\n",
            "   89   29  952   46   37    4  455    9   45   43   38 1543 1905  398\n",
            "    4 1649   26 6853    5  163   11 3215    2    4 1153    9  194  775\n",
            "    7 8255    2  349 2637  148  605    2 8003   15  123  125   68    2\n",
            " 6853   15  349  165 4362   98    5    4  228    9   43    2 1157   15\n",
            "  299  120    5  120  174   11  220  175  136   50    9 4373  228 8255\n",
            "    5    2  656  245 2350    5    4 9837  131  152  491   18    2   32\n",
            " 7464 1212   14    9    6  371   78   22  625   64 1382    9    8  168\n",
            "  145   23    4 1690   15   16    4 1355    5   28    6   52  154  462\n",
            "   33   89   78  285   16  145   95    0    0    0    0    0    0    0\n",
            "    0    0    0    0    0    0    0    0    0    0    0    0    0    0\n",
            "    0    0    0    0    0    0    0    0    0    0    0    0    0    0\n",
            "    0    0    0    0    0    0    0    0    0    0    0    0    0    0\n",
            "    0    0    0    0    0    0    0    0    0    0    0    0    0    0\n",
            "    0    0    0    0]\n",
            "\n",
            "Length:  25000\n"
          ],
          "name": "stdout"
        }
      ]
    },
    {
      "cell_type": "markdown",
      "metadata": {
        "id": "F1zcxFwNGepA"
      },
      "source": [
        "Now we want to build the neural network model. We  are going to have a hidden layer with 16 hidden units. \n",
        "\n",
        "First, we want to transform each index to an embedded vector and then average all vectors to a single one. It has been showed that unweighted average of word vectors outperforms many complicated networks that model semantic and syntactic compositionality. As an example you can take a look at this: (http://anthology.aclweb.org/P/P15/P15-1162.pdf)\n",
        "\n",
        "To average we need to ignore padded zeros:"
      ]
    },
    {
      "cell_type": "code",
      "metadata": {
        "id": "Yi04MLIvJOGZ"
      },
      "source": [
        "class GlobalAveragePooling1DMasked(GlobalAveragePooling1D):\n",
        "    def call(self, x, mask=None):\n",
        "        if mask != None:\n",
        "            return K.sum(x, axis=1) / K.sum(mask, axis=1)\n",
        "        else:\n",
        "            return super().call(x)\n"
      ],
      "execution_count": 15,
      "outputs": []
    },
    {
      "cell_type": "markdown",
      "metadata": {
        "id": "whgIIB5ggjna"
      },
      "source": [
        "# Model 1: Neural averaging network using one-hot vectors"
      ]
    },
    {
      "cell_type": "markdown",
      "metadata": {
        "id": "jlOLnlnSJgrU"
      },
      "source": [
        "The first layer is an one-hot layer. The second layer is to compute average on all word vectors in a sentence without considering padding. The  output vector is piped through a fully-connected layer. The last layer is connected with a single output node with the sigmoid activation function. The final value is a float between 0 and 1. \n",
        "The vocabulary count of the movie reviews (10000) is used as the input shape. At the end we visualize the model summary."
      ]
    },
    {
      "cell_type": "code",
      "metadata": {
        "colab": {
          "base_uri": "https://localhost:8080/"
        },
        "id": "_Pn83gBbxiK7",
        "outputId": "e1846a87-c5a8-4a56-9088-ae8588804815"
      },
      "source": [
        "# Created a model with one hot encoded first layer and then took the global average. After that there are 2 dense layers that follow.\n",
        "from keras.layers import Input, Embedding, Dense, LSTM\n",
        "from keras.models import Model\n",
        "from keras.layers import Dot, Input\n",
        "input_review = Input ( (MAX_SEQUENCE_LENGTH, ), dtype='int32')\n",
        "\n",
        "review_onehot = OneHot(input_dim = VOCAB_SIZE, input_length = MAX_SEQUENCE_LENGTH)(input_review)\n",
        "\n",
        "layer2 = GlobalAveragePooling1DMasked() (review_onehot)\n",
        "\n",
        "layer3 = Dense(16, activation='sigmoid') (layer2)\n",
        "\n",
        "label = Dense(1, activation = 'sigmoid') (layer3)\n",
        "\n",
        "model = Model (inputs=[input_review], outputs=[label])\n",
        "model.summary()"
      ],
      "execution_count": 16,
      "outputs": [
        {
          "output_type": "stream",
          "text": [
            "Model: \"model\"\n",
            "_________________________________________________________________\n",
            "Layer (type)                 Output Shape              Param #   \n",
            "=================================================================\n",
            "input_1 (InputLayer)         [(None, 256)]             0         \n",
            "_________________________________________________________________\n",
            "lambda (Lambda)              (None, 256, 10000)        0         \n",
            "_________________________________________________________________\n",
            "global_average_pooling1d_mas (None, 10000)             0         \n",
            "_________________________________________________________________\n",
            "dense (Dense)                (None, 16)                160016    \n",
            "_________________________________________________________________\n",
            "dense_1 (Dense)              (None, 1)                 17        \n",
            "=================================================================\n",
            "Total params: 160,033\n",
            "Trainable params: 160,033\n",
            "Non-trainable params: 0\n",
            "_________________________________________________________________\n"
          ],
          "name": "stdout"
        }
      ]
    },
    {
      "cell_type": "markdown",
      "metadata": {
        "id": "_Mz96xpCgvTj"
      },
      "source": [
        "### Training the model"
      ]
    },
    {
      "cell_type": "markdown",
      "metadata": {
        "id": "F3HbW_IKLqwT"
      },
      "source": [
        "To compile the model we need a loss function and an optimizer. We use binary_crossentropy loss function which is just a special case of categorical cross entropy. We also use Adam optimizer that can be used instead of the classical stochastic gradient descent procedure to update network weights iterative based in training data. You can read more about it here:\n",
        "(https://arxiv.org/abs/1412.6980v8\n",
        ")\n"
      ]
    },
    {
      "cell_type": "code",
      "metadata": {
        "id": "qh1PWTNMxjUw"
      },
      "source": [
        "# Compiled the model taking adam as the optimizer and loss as binary crossentropy\r\n",
        "model.compile(optimizer = 'adam', loss = 'binary_crossentropy',metrics=['accuracy'])"
      ],
      "execution_count": 17,
      "outputs": []
    },
    {
      "cell_type": "markdown",
      "metadata": {
        "id": "E1jwQQqCN5Ia"
      },
      "source": [
        "When training, we want to check the accuracy of the model on data it hasn't seen before. So we create a validation set:"
      ]
    },
    {
      "cell_type": "code",
      "metadata": {
        "id": "f5lAqzQlxjSM"
      },
      "source": [
        "X_val = np.array(X_train_enc[:10000])\n",
        "partial_X_train = np.array(X_train_enc[10000:])\n",
        "\n",
        "y_val = np.array(y_train[:10000])\n",
        "partial_y_train = np.array(y_train[10000:])"
      ],
      "execution_count": 18,
      "outputs": []
    },
    {
      "cell_type": "markdown",
      "metadata": {
        "id": "E8Kpo5G3OJEY"
      },
      "source": [
        "Then we start to train the model for 40 epochs in mini-batches of 512 samples and monitor the model's loss and accuracy on the validation set."
      ]
    },
    {
      "cell_type": "code",
      "metadata": {
        "id": "99_z39KAxjPi",
        "colab": {
          "base_uri": "https://localhost:8080/"
        },
        "outputId": "0520abcf-666f-47bf-fd91-9a6286a254ee"
      },
      "source": [
        "#Fit the data for the x_train and y_train data\n",
        "history = model.fit(partial_X_train,\n",
        "                    partial_y_train,\n",
        "                    epochs=40,\n",
        "                    batch_size=512,\n",
        "                    validation_data=(X_val, y_val),\n",
        "                    verbose=1)"
      ],
      "execution_count": null,
      "outputs": [
        {
          "output_type": "stream",
          "text": [
            "Epoch 1/40\n",
            "30/30 [==============================] - 5s 112ms/step - loss: 0.7661 - accuracy: 0.4996 - val_loss: 0.7242 - val_accuracy: 0.5053\n",
            "Epoch 2/40\n",
            "30/30 [==============================] - 3s 106ms/step - loss: 0.7185 - accuracy: 0.5005 - val_loss: 0.7005 - val_accuracy: 0.5053\n",
            "Epoch 3/40\n",
            "30/30 [==============================] - 3s 106ms/step - loss: 0.7004 - accuracy: 0.4948 - val_loss: 0.6937 - val_accuracy: 0.5053\n",
            "Epoch 4/40\n",
            "30/30 [==============================] - 3s 106ms/step - loss: 0.6937 - accuracy: 0.5002 - val_loss: 0.6927 - val_accuracy: 0.5053\n",
            "Epoch 5/40\n",
            "30/30 [==============================] - 3s 106ms/step - loss: 0.6928 - accuracy: 0.5140 - val_loss: 0.6925 - val_accuracy: 0.5102\n",
            "Epoch 6/40\n",
            "30/30 [==============================] - 3s 106ms/step - loss: 0.6923 - accuracy: 0.5264 - val_loss: 0.6923 - val_accuracy: 0.5157\n",
            "Epoch 7/40\n",
            "30/30 [==============================] - 3s 106ms/step - loss: 0.6920 - accuracy: 0.5146 - val_loss: 0.6920 - val_accuracy: 0.5146\n",
            "Epoch 8/40\n",
            "30/30 [==============================] - 3s 106ms/step - loss: 0.6918 - accuracy: 0.5571 - val_loss: 0.6917 - val_accuracy: 0.5335\n",
            "Epoch 9/40\n",
            "30/30 [==============================] - 3s 106ms/step - loss: 0.6915 - accuracy: 0.5465 - val_loss: 0.6914 - val_accuracy: 0.5575\n",
            "Epoch 10/40\n",
            "30/30 [==============================] - 3s 106ms/step - loss: 0.6911 - accuracy: 0.5550 - val_loss: 0.6910 - val_accuracy: 0.6162\n",
            "Epoch 11/40\n",
            "30/30 [==============================] - 3s 106ms/step - loss: 0.6908 - accuracy: 0.6505 - val_loss: 0.6908 - val_accuracy: 0.5460\n",
            "Epoch 12/40\n",
            "30/30 [==============================] - 3s 106ms/step - loss: 0.6905 - accuracy: 0.5838 - val_loss: 0.6904 - val_accuracy: 0.6114\n",
            "Epoch 13/40\n",
            "30/30 [==============================] - 3s 106ms/step - loss: 0.6900 - accuracy: 0.6137 - val_loss: 0.6901 - val_accuracy: 0.6454\n",
            "Epoch 14/40\n",
            "30/30 [==============================] - 3s 106ms/step - loss: 0.6897 - accuracy: 0.6513 - val_loss: 0.6897 - val_accuracy: 0.6296\n",
            "Epoch 15/40\n",
            "30/30 [==============================] - 3s 106ms/step - loss: 0.6894 - accuracy: 0.6553 - val_loss: 0.6894 - val_accuracy: 0.6612\n",
            "Epoch 16/40\n",
            "30/30 [==============================] - 3s 106ms/step - loss: 0.6890 - accuracy: 0.6393 - val_loss: 0.6890 - val_accuracy: 0.6622\n",
            "Epoch 17/40\n",
            "30/30 [==============================] - 3s 106ms/step - loss: 0.6886 - accuracy: 0.6725 - val_loss: 0.6887 - val_accuracy: 0.6361\n",
            "Epoch 18/40\n",
            "30/30 [==============================] - 3s 106ms/step - loss: 0.6881 - accuracy: 0.6479 - val_loss: 0.6883 - val_accuracy: 0.6366\n",
            "Epoch 19/40\n",
            "30/30 [==============================] - 3s 106ms/step - loss: 0.6878 - accuracy: 0.6526 - val_loss: 0.6878 - val_accuracy: 0.6848\n",
            "Epoch 20/40\n",
            "30/30 [==============================] - 3s 106ms/step - loss: 0.6872 - accuracy: 0.6793 - val_loss: 0.6876 - val_accuracy: 0.6247\n",
            "Epoch 21/40\n",
            "30/30 [==============================] - 3s 106ms/step - loss: 0.6870 - accuracy: 0.6355 - val_loss: 0.6871 - val_accuracy: 0.6652\n",
            "Epoch 22/40\n",
            "30/30 [==============================] - 3s 106ms/step - loss: 0.6865 - accuracy: 0.6820 - val_loss: 0.6867 - val_accuracy: 0.6595\n",
            "Epoch 23/40\n",
            "30/30 [==============================] - 3s 106ms/step - loss: 0.6862 - accuracy: 0.6637 - val_loss: 0.6863 - val_accuracy: 0.6670\n",
            "Epoch 24/40\n",
            "30/30 [==============================] - 3s 106ms/step - loss: 0.6856 - accuracy: 0.6831 - val_loss: 0.6858 - val_accuracy: 0.6818\n",
            "Epoch 25/40\n",
            "30/30 [==============================] - 3s 106ms/step - loss: 0.6853 - accuracy: 0.6909 - val_loss: 0.6853 - val_accuracy: 0.6854\n",
            "Epoch 26/40\n",
            "30/30 [==============================] - 3s 105ms/step - loss: 0.6846 - accuracy: 0.6802 - val_loss: 0.6849 - val_accuracy: 0.6828\n",
            "Epoch 27/40\n",
            "30/30 [==============================] - 3s 106ms/step - loss: 0.6841 - accuracy: 0.6878 - val_loss: 0.6844 - val_accuracy: 0.6819\n",
            "Epoch 28/40\n",
            "30/30 [==============================] - 3s 106ms/step - loss: 0.6834 - accuracy: 0.6821 - val_loss: 0.6839 - val_accuracy: 0.6811\n",
            "Epoch 29/40\n",
            "30/30 [==============================] - 3s 106ms/step - loss: 0.6832 - accuracy: 0.6887 - val_loss: 0.6834 - val_accuracy: 0.6835\n",
            "Epoch 30/40\n",
            "30/30 [==============================] - 3s 106ms/step - loss: 0.6828 - accuracy: 0.6669 - val_loss: 0.6830 - val_accuracy: 0.6695\n",
            "Epoch 31/40\n",
            "30/30 [==============================] - 3s 106ms/step - loss: 0.6822 - accuracy: 0.6799 - val_loss: 0.6823 - val_accuracy: 0.6836\n",
            "Epoch 32/40\n",
            "30/30 [==============================] - 3s 106ms/step - loss: 0.6815 - accuracy: 0.6904 - val_loss: 0.6818 - val_accuracy: 0.6830\n",
            "Epoch 33/40\n",
            "30/30 [==============================] - 3s 106ms/step - loss: 0.6808 - accuracy: 0.6877 - val_loss: 0.6812 - val_accuracy: 0.6842\n",
            "Epoch 34/40\n",
            "30/30 [==============================] - 3s 106ms/step - loss: 0.6803 - accuracy: 0.6958 - val_loss: 0.6807 - val_accuracy: 0.6823\n",
            "Epoch 35/40\n",
            "30/30 [==============================] - 3s 106ms/step - loss: 0.6793 - accuracy: 0.6866 - val_loss: 0.6800 - val_accuracy: 0.6835\n",
            "Epoch 36/40\n",
            "30/30 [==============================] - 3s 106ms/step - loss: 0.6792 - accuracy: 0.6910 - val_loss: 0.6794 - val_accuracy: 0.6836\n",
            "Epoch 37/40\n",
            "30/30 [==============================] - 3s 105ms/step - loss: 0.6783 - accuracy: 0.6861 - val_loss: 0.6787 - val_accuracy: 0.6856\n",
            "Epoch 38/40\n",
            "30/30 [==============================] - 3s 106ms/step - loss: 0.6772 - accuracy: 0.6989 - val_loss: 0.6781 - val_accuracy: 0.6832\n",
            "Epoch 39/40\n",
            "30/30 [==============================] - 3s 106ms/step - loss: 0.6770 - accuracy: 0.6898 - val_loss: 0.6776 - val_accuracy: 0.6808\n",
            "Epoch 40/40\n",
            "30/30 [==============================] - 3s 106ms/step - loss: 0.6758 - accuracy: 0.6909 - val_loss: 0.6766 - val_accuracy: 0.6826\n"
          ],
          "name": "stdout"
        }
      ]
    },
    {
      "cell_type": "markdown",
      "metadata": {
        "id": "i_9a_rybhG5J"
      },
      "source": [
        "### Evaluating the model"
      ]
    },
    {
      "cell_type": "markdown",
      "metadata": {
        "id": "EYLH8kOgOo9W"
      },
      "source": [
        "To evaulate the model on test data:"
      ]
    },
    {
      "cell_type": "code",
      "metadata": {
        "id": "CFMt2Q7b3taP",
        "colab": {
          "base_uri": "https://localhost:8080/"
        },
        "outputId": "3aac44df-6a1c-4a14-9ba2-22396869408d"
      },
      "source": [
        "results = model.evaluate(X_test_enc, y_test)"
      ],
      "execution_count": null,
      "outputs": [
        {
          "output_type": "stream",
          "text": [
            "782/782 [==============================] - 4s 6ms/step - loss: 0.6765 - accuracy: 0.6873\n"
          ],
          "name": "stdout"
        }
      ]
    },
    {
      "cell_type": "code",
      "metadata": {
        "id": "9RrKiPHcAmQU",
        "colab": {
          "base_uri": "https://localhost:8080/"
        },
        "outputId": "be15ebce-2e6e-4564-d60f-4a69f04ece9b"
      },
      "source": [
        "print(results)\n",
        "# loss is about 68%, accuracy is about 68%"
      ],
      "execution_count": null,
      "outputs": [
        {
          "output_type": "stream",
          "text": [
            "[0.6764910817146301, 0.687279999256134]\n"
          ],
          "name": "stdout"
        }
      ]
    },
    {
      "cell_type": "markdown",
      "metadata": {
        "id": "pW7IpHxMO6qp"
      },
      "source": [
        "Our first model accuracy using one-hot vectors is ~68%\n",
        "\n",
        "\n",
        "\n",
        "\n",
        "\n"
      ]
    },
    {
      "cell_type": "markdown",
      "metadata": {
        "id": "OwZk_yoWhPJB"
      },
      "source": [
        "### Plotting the accuracy graph"
      ]
    },
    {
      "cell_type": "markdown",
      "metadata": {
        "id": "JIDPH1J7PMzN"
      },
      "source": [
        "To plot a graph of accuracy and loss over time we can use Matplotlib:"
      ]
    },
    {
      "cell_type": "code",
      "metadata": {
        "colab": {
          "base_uri": "https://localhost:8080/"
        },
        "id": "xv8H0aN4qInY",
        "outputId": "2d5edc98-5511-48e9-cae4-d0c1ccb15873"
      },
      "source": [
        "pip install plot_keras_history"
      ],
      "execution_count": null,
      "outputs": [
        {
          "output_type": "stream",
          "text": [
            "Collecting plot_keras_history\n",
            "  Downloading https://files.pythonhosted.org/packages/b1/d9/95c2a5bb533fc5cc0c6d99bc4c37c61c8cc6a7a1719b65ea659b2c3a7e2b/plot_keras_history-1.1.27.tar.gz\n",
            "Requirement already satisfied: matplotlib in /usr/local/lib/python3.7/dist-packages (from plot_keras_history) (3.2.2)\n",
            "Requirement already satisfied: pandas in /usr/local/lib/python3.7/dist-packages (from plot_keras_history) (1.1.5)\n",
            "Requirement already satisfied: scipy in /usr/local/lib/python3.7/dist-packages (from plot_keras_history) (1.4.1)\n",
            "Collecting sanitize_ml_labels\n",
            "  Downloading https://files.pythonhosted.org/packages/99/8e/c11845c546742bd2c97c33bad1eccb0c71e4962d91d9d02d32ee5ad985a8/sanitize_ml_labels-1.0.24.tar.gz\n",
            "Requirement already satisfied: numpy>=1.11 in /usr/local/lib/python3.7/dist-packages (from matplotlib->plot_keras_history) (1.19.5)\n",
            "Requirement already satisfied: kiwisolver>=1.0.1 in /usr/local/lib/python3.7/dist-packages (from matplotlib->plot_keras_history) (1.3.1)\n",
            "Requirement already satisfied: python-dateutil>=2.1 in /usr/local/lib/python3.7/dist-packages (from matplotlib->plot_keras_history) (2.8.1)\n",
            "Requirement already satisfied: cycler>=0.10 in /usr/local/lib/python3.7/dist-packages (from matplotlib->plot_keras_history) (0.10.0)\n",
            "Requirement already satisfied: pyparsing!=2.0.4,!=2.1.2,!=2.1.6,>=2.0.1 in /usr/local/lib/python3.7/dist-packages (from matplotlib->plot_keras_history) (2.4.7)\n",
            "Requirement already satisfied: pytz>=2017.2 in /usr/local/lib/python3.7/dist-packages (from pandas->plot_keras_history) (2018.9)\n",
            "Collecting compress_json\n",
            "  Downloading https://files.pythonhosted.org/packages/c0/9d/1a79dbc3b9d69c57be363b4cc8bd6f278f919a0973f46c7bb831438c9333/compress_json-1.0.4.tar.gz\n",
            "Requirement already satisfied: six>=1.5 in /usr/local/lib/python3.7/dist-packages (from python-dateutil>=2.1->matplotlib->plot_keras_history) (1.15.0)\n",
            "Building wheels for collected packages: plot-keras-history, sanitize-ml-labels, compress-json\n",
            "  Building wheel for plot-keras-history (setup.py) ... \u001b[?25l\u001b[?25hdone\n",
            "  Created wheel for plot-keras-history: filename=plot_keras_history-1.1.27-cp37-none-any.whl size=7332 sha256=614f0ddf2b19a1696852cf5b094e94d9117efe884d235526e4378e4fdd86c200\n",
            "  Stored in directory: /root/.cache/pip/wheels/38/9e/e3/6cde1b6b6141b044c692d88980f26c4fe7806cc92ddd009c8c\n",
            "  Building wheel for sanitize-ml-labels (setup.py) ... \u001b[?25l\u001b[?25hdone\n",
            "  Created wheel for sanitize-ml-labels: filename=sanitize_ml_labels-1.0.24-cp37-none-any.whl size=6999 sha256=fa8c01df74fc4d3e9faf9178f1fa06ef9698c87633b1399adc595ff0da8506e8\n",
            "  Stored in directory: /root/.cache/pip/wheels/0c/3b/5d/f2fb3eff7f2fe268463b91a825816a07cd8458c4fe359f034a\n",
            "  Building wheel for compress-json (setup.py) ... \u001b[?25l\u001b[?25hdone\n",
            "  Created wheel for compress-json: filename=compress_json-1.0.4-cp37-none-any.whl size=4586 sha256=884fd19dd8b054504202637a1229c1c0f5b6e77f3fa969a4bfac5d80775da26d\n",
            "  Stored in directory: /root/.cache/pip/wheels/83/ec/21/51460dd508e4a152c0643946c21fae84eb3391171164d35745\n",
            "Successfully built plot-keras-history sanitize-ml-labels compress-json\n",
            "Installing collected packages: compress-json, sanitize-ml-labels, plot-keras-history\n",
            "Successfully installed compress-json-1.0.4 plot-keras-history-1.1.27 sanitize-ml-labels-1.0.24\n"
          ],
          "name": "stdout"
        }
      ]
    },
    {
      "cell_type": "code",
      "metadata": {
        "id": "LS9k2vvSAqB7",
        "colab": {
          "base_uri": "https://localhost:8080/",
          "height": 369
        },
        "outputId": "6aadb842-03d1-427d-f95f-1c6121402f94"
      },
      "source": [
        "# Plotted the graph for accuracy and loss over training and validation data\n",
        "from plot_keras_history import plot_history\n",
        "import matplotlib.pyplot as plt\n",
        "plot_history(history.history, path=\"standard.png\")\n",
        "plt.show()"
      ],
      "execution_count": null,
      "outputs": [
        {
          "output_type": "display_data",
          "data": {
            "image/png": "[encoded data removed]",
            "text/plain": [
              "<Figure size 720x360 with 2 Axes>"
            ]
          },
          "metadata": {
            "tags": [],
            "needs_background": "light"
          }
        }
      ]
    },
    {
      "cell_type": "markdown",
      "metadata": {
        "id": "a7OwOQw4h8RX"
      },
      "source": [
        "# Model 2: Neural averaging network using embedding layer"
      ]
    },
    {
      "cell_type": "markdown",
      "metadata": {
        "id": "l-QzOMO_P4jc"
      },
      "source": [
        "Now instead of one-hot vectors, we want to use embedding. We change our first layer in model1 to an Embedding layer. This layer takes the integer-encoded vocabulary and looks up the embedding vector for each word-index. These vectors are learned as the model trains. The vectors add a dimension to the output array. The resulting dimensions are: (batch, sequence, embedding)."
      ]
    },
    {
      "cell_type": "code",
      "metadata": {
        "id": "MFrCsL-NBFVL",
        "colab": {
          "base_uri": "https://localhost:8080/"
        },
        "outputId": "73b82010-7931-4ff5-ce0c-7df82836f96f"
      },
      "source": [
        "# Created another model with embedding layer\n",
        "input_review = Input ( (MAX_SEQUENCE_LENGTH, ), dtype='int32')\n",
        "EMBED_SIZE = 100\n",
        "review_onehot = Embedding(VOCAB_SIZE, EMBED_SIZE, name='target_embed_layer', input_length = MAX_SEQUENCE_LENGTH)(input_review)\n",
        "layer2 = GlobalAveragePooling1DMasked() (review_onehot)\n",
        "\n",
        "layer3 = Dense(16, activation='sigmoid') (layer2)\n",
        "\n",
        "label = Dense(1, activation = 'sigmoid') (layer3)\n",
        "\n",
        "model = Model (inputs=[input_review], outputs=[label])\n",
        "model.summary()\n",
        "model.compile(optimizer = 'adam', loss = 'binary_crossentropy',metrics=['accuracy'])\n",
        "history = model.fit(partial_X_train,\n",
        "                    partial_y_train,\n",
        "                    epochs=40,\n",
        "                    batch_size=512,\n",
        "                    validation_data=(X_val, y_val),\n",
        "                    verbose=1)"
      ],
      "execution_count": 19,
      "outputs": [
        {
          "output_type": "stream",
          "text": [
            "Model: \"model_1\"\n",
            "_________________________________________________________________\n",
            "Layer (type)                 Output Shape              Param #   \n",
            "=================================================================\n",
            "input_2 (InputLayer)         [(None, 256)]             0         \n",
            "_________________________________________________________________\n",
            "target_embed_layer (Embeddin (None, 256, 100)          1000000   \n",
            "_________________________________________________________________\n",
            "global_average_pooling1d_mas (None, 100)               0         \n",
            "_________________________________________________________________\n",
            "dense_2 (Dense)              (None, 16)                1616      \n",
            "_________________________________________________________________\n",
            "dense_3 (Dense)              (None, 1)                 17        \n",
            "=================================================================\n",
            "Total params: 1,001,633\n",
            "Trainable params: 1,001,633\n",
            "Non-trainable params: 0\n",
            "_________________________________________________________________\n",
            "Epoch 1/40\n",
            "30/30 [==============================] - 4s 45ms/step - loss: 0.7118 - accuracy: 0.4989 - val_loss: 0.6922 - val_accuracy: 0.4947\n",
            "Epoch 2/40\n",
            "30/30 [==============================] - 1s 34ms/step - loss: 0.6890 - accuracy: 0.5475 - val_loss: 0.6842 - val_accuracy: 0.6353\n",
            "Epoch 3/40\n",
            "30/30 [==============================] - 1s 34ms/step - loss: 0.6807 - accuracy: 0.6666 - val_loss: 0.6703 - val_accuracy: 0.7427\n",
            "Epoch 4/40\n",
            "30/30 [==============================] - 1s 34ms/step - loss: 0.6625 - accuracy: 0.7608 - val_loss: 0.6457 - val_accuracy: 0.7568\n",
            "Epoch 5/40\n",
            "30/30 [==============================] - 1s 34ms/step - loss: 0.6332 - accuracy: 0.7707 - val_loss: 0.6125 - val_accuracy: 0.7635\n",
            "Epoch 6/40\n",
            "30/30 [==============================] - 1s 34ms/step - loss: 0.5939 - accuracy: 0.7806 - val_loss: 0.5722 - val_accuracy: 0.7838\n",
            "Epoch 7/40\n",
            "30/30 [==============================] - 1s 34ms/step - loss: 0.5488 - accuracy: 0.8041 - val_loss: 0.5301 - val_accuracy: 0.8038\n",
            "Epoch 8/40\n",
            "30/30 [==============================] - 1s 33ms/step - loss: 0.5023 - accuracy: 0.8302 - val_loss: 0.4888 - val_accuracy: 0.8193\n",
            "Epoch 9/40\n",
            "30/30 [==============================] - 1s 33ms/step - loss: 0.4589 - accuracy: 0.8427 - val_loss: 0.4511 - val_accuracy: 0.8337\n",
            "Epoch 10/40\n",
            "30/30 [==============================] - 1s 33ms/step - loss: 0.4150 - accuracy: 0.8622 - val_loss: 0.4188 - val_accuracy: 0.8448\n",
            "Epoch 11/40\n",
            "30/30 [==============================] - 1s 33ms/step - loss: 0.3864 - accuracy: 0.8706 - val_loss: 0.3913 - val_accuracy: 0.8546\n",
            "Epoch 12/40\n",
            "30/30 [==============================] - 1s 33ms/step - loss: 0.3482 - accuracy: 0.8842 - val_loss: 0.3701 - val_accuracy: 0.8599\n",
            "Epoch 13/40\n",
            "30/30 [==============================] - 1s 33ms/step - loss: 0.3222 - accuracy: 0.8940 - val_loss: 0.3530 - val_accuracy: 0.8670\n",
            "Epoch 14/40\n",
            "30/30 [==============================] - 1s 33ms/step - loss: 0.3027 - accuracy: 0.8967 - val_loss: 0.3393 - val_accuracy: 0.8697\n",
            "Epoch 15/40\n",
            "30/30 [==============================] - 1s 33ms/step - loss: 0.2851 - accuracy: 0.9017 - val_loss: 0.3284 - val_accuracy: 0.8731\n",
            "Epoch 16/40\n",
            "30/30 [==============================] - 1s 33ms/step - loss: 0.2673 - accuracy: 0.9059 - val_loss: 0.3187 - val_accuracy: 0.8740\n",
            "Epoch 17/40\n",
            "30/30 [==============================] - 1s 33ms/step - loss: 0.2568 - accuracy: 0.9113 - val_loss: 0.3110 - val_accuracy: 0.8765\n",
            "Epoch 18/40\n",
            "30/30 [==============================] - 1s 34ms/step - loss: 0.2439 - accuracy: 0.9158 - val_loss: 0.3052 - val_accuracy: 0.8773\n",
            "Epoch 19/40\n",
            "30/30 [==============================] - 1s 34ms/step - loss: 0.2259 - accuracy: 0.9220 - val_loss: 0.2999 - val_accuracy: 0.8800\n",
            "Epoch 20/40\n",
            "30/30 [==============================] - 1s 33ms/step - loss: 0.2159 - accuracy: 0.9261 - val_loss: 0.2957 - val_accuracy: 0.8816\n",
            "Epoch 21/40\n",
            "30/30 [==============================] - 1s 33ms/step - loss: 0.2076 - accuracy: 0.9295 - val_loss: 0.2926 - val_accuracy: 0.8838\n",
            "Epoch 22/40\n",
            "30/30 [==============================] - 1s 33ms/step - loss: 0.1937 - accuracy: 0.9356 - val_loss: 0.2899 - val_accuracy: 0.8838\n",
            "Epoch 23/40\n",
            "30/30 [==============================] - 1s 33ms/step - loss: 0.1874 - accuracy: 0.9385 - val_loss: 0.2886 - val_accuracy: 0.8843\n",
            "Epoch 24/40\n",
            "30/30 [==============================] - 1s 33ms/step - loss: 0.1753 - accuracy: 0.9442 - val_loss: 0.2867 - val_accuracy: 0.8841\n",
            "Epoch 25/40\n",
            "30/30 [==============================] - 1s 34ms/step - loss: 0.1672 - accuracy: 0.9476 - val_loss: 0.2858 - val_accuracy: 0.8861\n",
            "Epoch 26/40\n",
            "30/30 [==============================] - 1s 34ms/step - loss: 0.1655 - accuracy: 0.9484 - val_loss: 0.2857 - val_accuracy: 0.8850\n",
            "Epoch 27/40\n",
            "30/30 [==============================] - 1s 34ms/step - loss: 0.1549 - accuracy: 0.9520 - val_loss: 0.2873 - val_accuracy: 0.8856\n",
            "Epoch 28/40\n",
            "30/30 [==============================] - 1s 35ms/step - loss: 0.1441 - accuracy: 0.9575 - val_loss: 0.2871 - val_accuracy: 0.8860\n",
            "Epoch 29/40\n",
            "30/30 [==============================] - 1s 33ms/step - loss: 0.1396 - accuracy: 0.9601 - val_loss: 0.2888 - val_accuracy: 0.8856\n",
            "Epoch 30/40\n",
            "30/30 [==============================] - 1s 34ms/step - loss: 0.1315 - accuracy: 0.9634 - val_loss: 0.2891 - val_accuracy: 0.8863\n",
            "Epoch 31/40\n",
            "30/30 [==============================] - 1s 34ms/step - loss: 0.1280 - accuracy: 0.9624 - val_loss: 0.2911 - val_accuracy: 0.8862\n",
            "Epoch 32/40\n",
            "30/30 [==============================] - 1s 33ms/step - loss: 0.1195 - accuracy: 0.9671 - val_loss: 0.2926 - val_accuracy: 0.8845\n",
            "Epoch 33/40\n",
            "30/30 [==============================] - 1s 34ms/step - loss: 0.1142 - accuracy: 0.9695 - val_loss: 0.2952 - val_accuracy: 0.8834\n",
            "Epoch 34/40\n",
            "30/30 [==============================] - 1s 34ms/step - loss: 0.1115 - accuracy: 0.9709 - val_loss: 0.2988 - val_accuracy: 0.8839\n",
            "Epoch 35/40\n",
            "30/30 [==============================] - 1s 33ms/step - loss: 0.1065 - accuracy: 0.9717 - val_loss: 0.3010 - val_accuracy: 0.8845\n",
            "Epoch 36/40\n",
            "30/30 [==============================] - 1s 33ms/step - loss: 0.1006 - accuracy: 0.9740 - val_loss: 0.3033 - val_accuracy: 0.8828\n",
            "Epoch 37/40\n",
            "30/30 [==============================] - 1s 33ms/step - loss: 0.0997 - accuracy: 0.9742 - val_loss: 0.3071 - val_accuracy: 0.8814\n",
            "Epoch 38/40\n",
            "30/30 [==============================] - 1s 34ms/step - loss: 0.0959 - accuracy: 0.9768 - val_loss: 0.3100 - val_accuracy: 0.8809\n",
            "Epoch 39/40\n",
            "30/30 [==============================] - 1s 33ms/step - loss: 0.0895 - accuracy: 0.9793 - val_loss: 0.3139 - val_accuracy: 0.8807\n",
            "Epoch 40/40\n",
            "30/30 [==============================] - 1s 33ms/step - loss: 0.0892 - accuracy: 0.9800 - val_loss: 0.3172 - val_accuracy: 0.8807\n"
          ],
          "name": "stdout"
        }
      ]
    },
    {
      "cell_type": "code",
      "metadata": {
        "id": "I4zIPJDcTPq3",
        "colab": {
          "base_uri": "https://localhost:8080/"
        },
        "outputId": "71d1560a-f506-400d-c956-2a24106fafeb"
      },
      "source": [
        "#Evaluated on the test data, got 87% accuracy\r\n",
        "results = model.evaluate(X_test_enc, y_test)"
      ],
      "execution_count": 20,
      "outputs": [
        {
          "output_type": "stream",
          "text": [
            "782/782 [==============================] - 1s 2ms/step - loss: 0.3376 - accuracy: 0.8716\n"
          ],
          "name": "stdout"
        }
      ]
    },
    {
      "cell_type": "code",
      "metadata": {
        "id": "waS96edDTRyL",
        "colab": {
          "base_uri": "https://localhost:8080/"
        },
        "outputId": "f784bf6f-e748-465f-f153-3c633dd822af"
      },
      "source": [
        "print (results)"
      ],
      "execution_count": 21,
      "outputs": [
        {
          "output_type": "stream",
          "text": [
            "[0.33763137459754944, 0.8715999722480774]\n"
          ],
          "name": "stdout"
        }
      ]
    },
    {
      "cell_type": "code",
      "metadata": {
        "colab": {
          "base_uri": "https://localhost:8080/"
        },
        "id": "2AieLFHwMhII",
        "outputId": "330ea58e-3395-41b4-e0b8-e2135146543f"
      },
      "source": [
        "pip install plot_keras_history"
      ],
      "execution_count": 23,
      "outputs": [
        {
          "output_type": "stream",
          "text": [
            "Collecting plot_keras_history\n",
            "  Downloading https://files.pythonhosted.org/packages/b1/d9/95c2a5bb533fc5cc0c6d99bc4c37c61c8cc6a7a1719b65ea659b2c3a7e2b/plot_keras_history-1.1.27.tar.gz\n",
            "Requirement already satisfied: matplotlib in /usr/local/lib/python3.7/dist-packages (from plot_keras_history) (3.2.2)\n",
            "Requirement already satisfied: pandas in /usr/local/lib/python3.7/dist-packages (from plot_keras_history) (1.1.5)\n",
            "Requirement already satisfied: scipy in /usr/local/lib/python3.7/dist-packages (from plot_keras_history) (1.4.1)\n",
            "Collecting sanitize_ml_labels\n",
            "  Downloading https://files.pythonhosted.org/packages/99/8e/c11845c546742bd2c97c33bad1eccb0c71e4962d91d9d02d32ee5ad985a8/sanitize_ml_labels-1.0.24.tar.gz\n",
            "Requirement already satisfied: cycler>=0.10 in /usr/local/lib/python3.7/dist-packages (from matplotlib->plot_keras_history) (0.10.0)\n",
            "Requirement already satisfied: kiwisolver>=1.0.1 in /usr/local/lib/python3.7/dist-packages (from matplotlib->plot_keras_history) (1.3.1)\n",
            "Requirement already satisfied: python-dateutil>=2.1 in /usr/local/lib/python3.7/dist-packages (from matplotlib->plot_keras_history) (2.8.1)\n",
            "Requirement already satisfied: pyparsing!=2.0.4,!=2.1.2,!=2.1.6,>=2.0.1 in /usr/local/lib/python3.7/dist-packages (from matplotlib->plot_keras_history) (2.4.7)\n",
            "Requirement already satisfied: numpy>=1.11 in /usr/local/lib/python3.7/dist-packages (from matplotlib->plot_keras_history) (1.19.5)\n",
            "Requirement already satisfied: pytz>=2017.2 in /usr/local/lib/python3.7/dist-packages (from pandas->plot_keras_history) (2018.9)\n",
            "Collecting compress_json\n",
            "  Downloading https://files.pythonhosted.org/packages/c0/9d/1a79dbc3b9d69c57be363b4cc8bd6f278f919a0973f46c7bb831438c9333/compress_json-1.0.4.tar.gz\n",
            "Requirement already satisfied: six in /usr/local/lib/python3.7/dist-packages (from cycler>=0.10->matplotlib->plot_keras_history) (1.15.0)\n",
            "Building wheels for collected packages: plot-keras-history, sanitize-ml-labels, compress-json\n",
            "  Building wheel for plot-keras-history (setup.py) ... \u001b[?25l\u001b[?25hdone\n",
            "  Created wheel for plot-keras-history: filename=plot_keras_history-1.1.27-cp37-none-any.whl size=7332 sha256=d1b41e4afae61fd5499b377d9d41cd6b6612e4b2d5cacedd2a4a5dbea7208845\n",
            "  Stored in directory: /root/.cache/pip/wheels/38/9e/e3/6cde1b6b6141b044c692d88980f26c4fe7806cc92ddd009c8c\n",
            "  Building wheel for sanitize-ml-labels (setup.py) ... \u001b[?25l\u001b[?25hdone\n",
            "  Created wheel for sanitize-ml-labels: filename=sanitize_ml_labels-1.0.24-cp37-none-any.whl size=6999 sha256=1a478f020f2a99f5aefd091385ec8160cf2eaeebddb74858717b52d83d05b8ca\n",
            "  Stored in directory: /root/.cache/pip/wheels/0c/3b/5d/f2fb3eff7f2fe268463b91a825816a07cd8458c4fe359f034a\n",
            "  Building wheel for compress-json (setup.py) ... \u001b[?25l\u001b[?25hdone\n",
            "  Created wheel for compress-json: filename=compress_json-1.0.4-cp37-none-any.whl size=4586 sha256=14ac42db11085dcbfc950c02c79f98d26816db4f8ffb9408263f4aaa173fadc8\n",
            "  Stored in directory: /root/.cache/pip/wheels/83/ec/21/51460dd508e4a152c0643946c21fae84eb3391171164d35745\n",
            "Successfully built plot-keras-history sanitize-ml-labels compress-json\n",
            "Installing collected packages: compress-json, sanitize-ml-labels, plot-keras-history\n",
            "Successfully installed compress-json-1.0.4 plot-keras-history-1.1.27 sanitize-ml-labels-1.0.24\n"
          ],
          "name": "stdout"
        }
      ]
    },
    {
      "cell_type": "code",
      "metadata": {
        "colab": {
          "base_uri": "https://localhost:8080/",
          "height": 369
        },
        "id": "8Q_GR4IoJWVk",
        "outputId": "a9eb402f-766c-4153-cb91-4af6e92dd982"
      },
      "source": [
        "# Plotted the graph for accuracy and loss over training and validation data\r\n",
        "from plot_keras_history import plot_history\r\n",
        "import matplotlib.pyplot as plt\r\n",
        "plot_history(history.history, path=\"standard.png\")\r\n",
        "plt.show()"
      ],
      "execution_count": 24,
      "outputs": [
        {
          "output_type": "display_data",
          "data": {
            "image/png": "[encoded data removed]",
            "text/plain": [
              "<Figure size 720x360 with 2 Axes>"
            ]
          },
          "metadata": {
            "tags": [],
            "needs_background": "light"
          }
        }
      ]
    },
    {
      "cell_type": "markdown",
      "metadata": {
        "id": "7FBpTc_rXGvQ"
      },
      "source": [
        "The accuracy of model2 is 87%. Using Embedding layer instead of one-hot layer improved the performance."
      ]
    },
    {
      "cell_type": "markdown",
      "metadata": {
        "id": "--020hfG6rN2"
      },
      "source": [
        "# Model 3: Using pre-trained word embeddings"
      ]
    },
    {
      "cell_type": "markdown",
      "metadata": {
        "id": "7GdY2-64YG1B"
      },
      "source": [
        "### Preparing pre-trained word embeddings (GLOVE)"
      ]
    },
    {
      "cell_type": "markdown",
      "metadata": {
        "id": "J4gBeOyi4gkM"
      },
      "source": [
        "The Embedding layer can be used to load a pre-trained word embedding model. We are going to use GloVe embeddings, which you can read about it here (https://nlp.stanford.edu/projects/glove/). GloVe stands for \"Global Vectors for Word Representation\". It's a somewhat popular embedding technique based on factorizing a matrix of word co-occurence statistics. You can download GloVe and we can seed the Keras Embedding layer with weights from the pre-trained embedding for the words in your dataset.\n",
        "First, we need to read GloVe and map words to GloVe:\n"
      ]
    },
    {
      "cell_type": "code",
      "metadata": {
        "id": "f_PypdqG9Iis"
      },
      "source": [
        "def readGloveFile(gloveFile):\n",
        "    with open(gloveFile, 'r') as f:\n",
        "        wordToGlove = {}  \n",
        "        wordToIndex = {}  \n",
        "        indexToWord = {}  \n",
        "\n",
        "        for line in f:\n",
        "            record = line.strip().split()\n",
        "            token = record[0] \n",
        "            wordToGlove[token] = np.array(record[1:], dtype=np.float64) \n",
        "            \n",
        "        tokens = sorted(wordToGlove.keys())\n",
        "        for idx, tok in enumerate(tokens):\n",
        "            kerasIdx = idx + 1  \n",
        "            wordToIndex[tok] = kerasIdx \n",
        "            indexToWord[kerasIdx] = tok \n",
        "\n",
        "    return wordToIndex, indexToWord, wordToGlove"
      ],
      "execution_count": 25,
      "outputs": []
    },
    {
      "cell_type": "markdown",
      "metadata": {
        "id": "ZcIZ3dq59bCh"
      },
      "source": [
        "Now, we create our pre-trained Embedding layer:"
      ]
    },
    {
      "cell_type": "code",
      "metadata": {
        "id": "gembn7VM3ex8"
      },
      "source": [
        "from keras.initializers import Constant\n",
        "\n",
        "def createPretrainedEmbeddingLayer(wordToGlove, wordToIndex, isTrainable):\n",
        "    vocabLen = len(wordToIndex) + 1  \n",
        "    embDim = next(iter(wordToGlove.values())).shape[0]  \n",
        "   \n",
        "    embeddingMatrix = np.zeros((vocabLen, embDim))  \n",
        "    for word, index in wordToIndex.items():\n",
        "        embeddingMatrix[index, :] = wordToGlove[word] \n",
        "\n",
        "    embeddingLayer = Embedding(vocabLen, embDim, embeddings_initializer=Constant(embeddingMatrix), trainable=isTrainable, name='GloVe_Embeddings')\n",
        "    return embeddingLayer"
      ],
      "execution_count": 26,
      "outputs": []
    },
    {
      "cell_type": "code",
      "metadata": {
        "colab": {
          "base_uri": "https://localhost:8080/"
        },
        "id": "8OC1wuctdFvA",
        "outputId": "a8959458-a2b2-410a-cc1c-2dcbb448bc3b"
      },
      "source": [
        "!wget http://nlp.stanford.edu/data/glove.6B.zip\n",
        "!unzip '/content/glove.6B.zip'"
      ],
      "execution_count": 27,
      "outputs": [
        {
          "output_type": "stream",
          "text": [
            "--2021-03-04 07:48:52--  http://nlp.stanford.edu/data/glove.6B.zip\n",
            "Resolving nlp.stanford.edu (nlp.stanford.edu)... 171.64.67.140\n",
            "Connecting to nlp.stanford.edu (nlp.stanford.edu)|171.64.67.140|:80... connected.\n",
            "HTTP request sent, awaiting response... 302 Found\n",
            "Location: https://nlp.stanford.edu/data/glove.6B.zip [following]\n",
            "--2021-03-04 07:48:52--  https://nlp.stanford.edu/data/glove.6B.zip\n",
            "Connecting to nlp.stanford.edu (nlp.stanford.edu)|171.64.67.140|:443... connected.\n",
            "HTTP request sent, awaiting response... 301 Moved Permanently\n",
            "Location: http://downloads.cs.stanford.edu/nlp/data/glove.6B.zip [following]\n",
            "--2021-03-04 07:48:52--  http://downloads.cs.stanford.edu/nlp/data/glove.6B.zip\n",
            "Resolving downloads.cs.stanford.edu (downloads.cs.stanford.edu)... 171.64.64.22\n",
            "Connecting to downloads.cs.stanford.edu (downloads.cs.stanford.edu)|171.64.64.22|:80... connected.\n",
            "HTTP request sent, awaiting response... 200 OK\n",
            "Length: 862182613 (822M) [application/zip]\n",
            "Saving to: ‘glove.6B.zip’\n",
            "\n",
            "glove.6B.zip        100%[===================>] 822.24M  2.12MB/s    in 6m 51s  \n",
            "\n",
            "2021-03-04 07:55:43 (2.00 MB/s) - ‘glove.6B.zip’ saved [862182613/862182613]\n",
            "\n",
            "Archive:  /content/glove.6B.zip\n",
            "  inflating: glove.6B.50d.txt        \n",
            "  inflating: glove.6B.100d.txt       \n",
            "  inflating: glove.6B.200d.txt       \n",
            "  inflating: glove.6B.300d.txt       \n"
          ],
          "name": "stdout"
        }
      ]
    },
    {
      "cell_type": "markdown",
      "metadata": {
        "id": "HGxciLK4-xOr"
      },
      "source": [
        "We freeze the weights. To create the model: "
      ]
    },
    {
      "cell_type": "code",
      "metadata": {
        "colab": {
          "base_uri": "https://localhost:8080/"
        },
        "id": "PZCPUM0W_Drc",
        "outputId": "4dfffe18-4021-4d70-abd4-23b144d82c82"
      },
      "source": [
        "# wordToIndex,indexToWord,wordToGlove=readGloveFile('/content/glove.6B.50d.txt')\n",
        "# wordToIndex,indexToWord,wordToGlove=readGloveFile('/content/glove.6B.100d.txt')\n",
        "wordToIndex,indexToWord,wordToGlove=readGloveFile('/content/glove.6B.300d.txt')\n",
        "\n",
        "# vocabLen = len(wordToIndex) + 1 \n",
        "\n",
        "EMBED_SIZE = next(iter(wordToGlove.values())).shape[0]\n",
        "print('Size of Embedding: ',EMBED_SIZE)\n",
        "\n",
        "embeddingLayer=createPretrainedEmbeddingLayer(wordToGlove,wordToIndex,isTrainable=False)\n",
        "#Created an embedding layer with istrainable = True to get all trainable params\n",
        "embeddingLayer2=createPretrainedEmbeddingLayer(wordToGlove,wordToIndex,isTrainable=True)"
      ],
      "execution_count": 28,
      "outputs": [
        {
          "output_type": "stream",
          "text": [
            "Size of Embedding:  300\n"
          ],
          "name": "stdout"
        }
      ]
    },
    {
      "cell_type": "markdown",
      "metadata": {
        "id": "vdZ4nl08vp9A"
      },
      "source": [
        "## Model 3-1: Neural bag of words using pre-trained word embeddings"
      ]
    },
    {
      "cell_type": "markdown",
      "metadata": {
        "id": "2gyCwXFj_R5w"
      },
      "source": [
        "Now we change our model to use GloVe:"
      ]
    },
    {
      "cell_type": "code",
      "metadata": {
        "colab": {
          "base_uri": "https://localhost:8080/"
        },
        "id": "VICS9rY8C7KH",
        "outputId": "fac106ac-00ca-445a-c4ed-c4c764896c84"
      },
      "source": [
        "# Inspect model performance with 1 hidden layer, pre-trained embeddings\n",
        "# Model created with glove input\n",
        "input_review = Input ( (MAX_SEQUENCE_LENGTH, ), dtype='int32')\n",
        "glove_embed = embeddingLayer(input_review)\n",
        "layer2 = GlobalAveragePooling1DMasked() (glove_embed)\n",
        "\n",
        "layer3 = Dense(16, activation='sigmoid') (layer2)\n",
        "\n",
        "label = Dense(1, activation = 'sigmoid') (layer3)\n",
        "\n",
        "model = Model (inputs=[input_review], outputs=[label])\n",
        "model.summary()"
      ],
      "execution_count": 29,
      "outputs": [
        {
          "output_type": "stream",
          "text": [
            "Model: \"model_2\"\n",
            "_________________________________________________________________\n",
            "Layer (type)                 Output Shape              Param #   \n",
            "=================================================================\n",
            "input_3 (InputLayer)         [(None, 256)]             0         \n",
            "_________________________________________________________________\n",
            "GloVe_Embeddings (Embedding) (None, 256, 300)          120000300 \n",
            "_________________________________________________________________\n",
            "global_average_pooling1d_mas (None, 300)               0         \n",
            "_________________________________________________________________\n",
            "dense_4 (Dense)              (None, 16)                4816      \n",
            "_________________________________________________________________\n",
            "dense_5 (Dense)              (None, 1)                 17        \n",
            "=================================================================\n",
            "Total params: 120,005,133\n",
            "Trainable params: 4,833\n",
            "Non-trainable params: 120,000,300\n",
            "_________________________________________________________________\n"
          ],
          "name": "stdout"
        }
      ]
    },
    {
      "cell_type": "code",
      "metadata": {
        "id": "r6sj_FnOD9Sb",
        "colab": {
          "base_uri": "https://localhost:8080/"
        },
        "outputId": "b3922cd4-1d7a-43bb-c12c-1d30f764ca1d"
      },
      "source": [
        "# Train and test the model\n",
        "model.compile(optimizer = 'adam', loss = 'binary_crossentropy',metrics=['accuracy'])\n",
        "history = model.fit(partial_X_train,\n",
        "                    partial_y_train,\n",
        "                    epochs=40,\n",
        "                    batch_size=512,\n",
        "                    validation_data=(X_val, y_val),\n",
        "                    verbose=1)"
      ],
      "execution_count": 30,
      "outputs": [
        {
          "output_type": "stream",
          "text": [
            "Epoch 1/40\n",
            "30/30 [==============================] - 2s 45ms/step - loss: 0.6924 - accuracy: 0.5125 - val_loss: 0.6887 - val_accuracy: 0.5592\n",
            "Epoch 2/40\n",
            "30/30 [==============================] - 1s 41ms/step - loss: 0.6884 - accuracy: 0.5578 - val_loss: 0.6849 - val_accuracy: 0.5799\n",
            "Epoch 3/40\n",
            "30/30 [==============================] - 1s 41ms/step - loss: 0.6834 - accuracy: 0.5911 - val_loss: 0.6816 - val_accuracy: 0.5897\n",
            "Epoch 4/40\n",
            "30/30 [==============================] - 1s 41ms/step - loss: 0.6797 - accuracy: 0.5953 - val_loss: 0.6786 - val_accuracy: 0.5897\n",
            "Epoch 5/40\n",
            "30/30 [==============================] - 1s 41ms/step - loss: 0.6775 - accuracy: 0.5963 - val_loss: 0.6763 - val_accuracy: 0.5956\n",
            "Epoch 6/40\n",
            "30/30 [==============================] - 1s 41ms/step - loss: 0.6755 - accuracy: 0.5989 - val_loss: 0.6736 - val_accuracy: 0.5977\n",
            "Epoch 7/40\n",
            "30/30 [==============================] - 1s 41ms/step - loss: 0.6720 - accuracy: 0.6102 - val_loss: 0.6713 - val_accuracy: 0.6010\n",
            "Epoch 8/40\n",
            "30/30 [==============================] - 1s 41ms/step - loss: 0.6691 - accuracy: 0.6052 - val_loss: 0.6693 - val_accuracy: 0.6040\n",
            "Epoch 9/40\n",
            "30/30 [==============================] - 1s 41ms/step - loss: 0.6664 - accuracy: 0.6149 - val_loss: 0.6669 - val_accuracy: 0.6069\n",
            "Epoch 10/40\n",
            "30/30 [==============================] - 1s 41ms/step - loss: 0.6647 - accuracy: 0.6173 - val_loss: 0.6650 - val_accuracy: 0.6078\n",
            "Epoch 11/40\n",
            "30/30 [==============================] - 1s 41ms/step - loss: 0.6642 - accuracy: 0.6199 - val_loss: 0.6627 - val_accuracy: 0.6149\n",
            "Epoch 12/40\n",
            "30/30 [==============================] - 1s 41ms/step - loss: 0.6594 - accuracy: 0.6277 - val_loss: 0.6609 - val_accuracy: 0.6126\n",
            "Epoch 13/40\n",
            "30/30 [==============================] - 1s 41ms/step - loss: 0.6595 - accuracy: 0.6211 - val_loss: 0.6586 - val_accuracy: 0.6174\n",
            "Epoch 14/40\n",
            "30/30 [==============================] - 1s 41ms/step - loss: 0.6540 - accuracy: 0.6390 - val_loss: 0.6563 - val_accuracy: 0.6247\n",
            "Epoch 15/40\n",
            "30/30 [==============================] - 1s 41ms/step - loss: 0.6496 - accuracy: 0.6449 - val_loss: 0.6543 - val_accuracy: 0.6295\n",
            "Epoch 16/40\n",
            "30/30 [==============================] - 1s 41ms/step - loss: 0.6526 - accuracy: 0.6369 - val_loss: 0.6525 - val_accuracy: 0.6328\n",
            "Epoch 17/40\n",
            "30/30 [==============================] - 1s 41ms/step - loss: 0.6479 - accuracy: 0.6481 - val_loss: 0.6500 - val_accuracy: 0.6332\n",
            "Epoch 18/40\n",
            "30/30 [==============================] - 1s 41ms/step - loss: 0.6446 - accuracy: 0.6521 - val_loss: 0.6478 - val_accuracy: 0.6355\n",
            "Epoch 19/40\n",
            "30/30 [==============================] - 1s 41ms/step - loss: 0.6440 - accuracy: 0.6478 - val_loss: 0.6457 - val_accuracy: 0.6410\n",
            "Epoch 20/40\n",
            "30/30 [==============================] - 1s 41ms/step - loss: 0.6414 - accuracy: 0.6594 - val_loss: 0.6436 - val_accuracy: 0.6440\n",
            "Epoch 21/40\n",
            "30/30 [==============================] - 1s 41ms/step - loss: 0.6390 - accuracy: 0.6564 - val_loss: 0.6416 - val_accuracy: 0.6472\n",
            "Epoch 22/40\n",
            "30/30 [==============================] - 1s 41ms/step - loss: 0.6367 - accuracy: 0.6611 - val_loss: 0.6403 - val_accuracy: 0.6493\n",
            "Epoch 23/40\n",
            "30/30 [==============================] - 1s 41ms/step - loss: 0.6344 - accuracy: 0.6615 - val_loss: 0.6385 - val_accuracy: 0.6520\n",
            "Epoch 24/40\n",
            "30/30 [==============================] - 1s 41ms/step - loss: 0.6350 - accuracy: 0.6567 - val_loss: 0.6360 - val_accuracy: 0.6542\n",
            "Epoch 25/40\n",
            "30/30 [==============================] - 1s 41ms/step - loss: 0.6322 - accuracy: 0.6634 - val_loss: 0.6334 - val_accuracy: 0.6589\n",
            "Epoch 26/40\n",
            "30/30 [==============================] - 1s 41ms/step - loss: 0.6282 - accuracy: 0.6666 - val_loss: 0.6319 - val_accuracy: 0.6571\n",
            "Epoch 27/40\n",
            "30/30 [==============================] - 1s 41ms/step - loss: 0.6284 - accuracy: 0.6668 - val_loss: 0.6295 - val_accuracy: 0.6625\n",
            "Epoch 28/40\n",
            "30/30 [==============================] - 1s 41ms/step - loss: 0.6284 - accuracy: 0.6636 - val_loss: 0.6279 - val_accuracy: 0.6632\n",
            "Epoch 29/40\n",
            "30/30 [==============================] - 1s 41ms/step - loss: 0.6218 - accuracy: 0.6770 - val_loss: 0.6266 - val_accuracy: 0.6639\n",
            "Epoch 30/40\n",
            "30/30 [==============================] - 1s 41ms/step - loss: 0.6220 - accuracy: 0.6755 - val_loss: 0.6241 - val_accuracy: 0.6664\n",
            "Epoch 31/40\n",
            "30/30 [==============================] - 1s 41ms/step - loss: 0.6195 - accuracy: 0.6772 - val_loss: 0.6241 - val_accuracy: 0.6641\n",
            "Epoch 32/40\n",
            "30/30 [==============================] - 1s 42ms/step - loss: 0.6186 - accuracy: 0.6756 - val_loss: 0.6204 - val_accuracy: 0.6707\n",
            "Epoch 33/40\n",
            "30/30 [==============================] - 1s 41ms/step - loss: 0.6159 - accuracy: 0.6840 - val_loss: 0.6205 - val_accuracy: 0.6686\n",
            "Epoch 34/40\n",
            "30/30 [==============================] - 1s 41ms/step - loss: 0.6152 - accuracy: 0.6797 - val_loss: 0.6171 - val_accuracy: 0.6740\n",
            "Epoch 35/40\n",
            "30/30 [==============================] - 1s 41ms/step - loss: 0.6109 - accuracy: 0.6840 - val_loss: 0.6152 - val_accuracy: 0.6771\n",
            "Epoch 36/40\n",
            "30/30 [==============================] - 1s 41ms/step - loss: 0.6087 - accuracy: 0.6857 - val_loss: 0.6147 - val_accuracy: 0.6744\n",
            "Epoch 37/40\n",
            "30/30 [==============================] - 1s 41ms/step - loss: 0.6058 - accuracy: 0.6890 - val_loss: 0.6121 - val_accuracy: 0.6798\n",
            "Epoch 38/40\n",
            "30/30 [==============================] - 1s 41ms/step - loss: 0.6051 - accuracy: 0.6910 - val_loss: 0.6109 - val_accuracy: 0.6797\n",
            "Epoch 39/40\n",
            "30/30 [==============================] - 1s 41ms/step - loss: 0.6045 - accuracy: 0.6899 - val_loss: 0.6090 - val_accuracy: 0.6848\n",
            "Epoch 40/40\n",
            "30/30 [==============================] - 1s 41ms/step - loss: 0.6034 - accuracy: 0.6889 - val_loss: 0.6075 - val_accuracy: 0.6821\n"
          ],
          "name": "stdout"
        }
      ]
    },
    {
      "cell_type": "code",
      "metadata": {
        "colab": {
          "base_uri": "https://localhost:8080/",
          "height": 369
        },
        "id": "ItsTxJrBPXwn",
        "outputId": "bb084f72-d9db-448e-9fce-42421e05de07"
      },
      "source": [
        "from plot_keras_history import plot_history\r\n",
        "import matplotlib.pyplot as plt\r\n",
        "plot_history(history.history, path=\"standard.png\")\r\n",
        "plt.show()"
      ],
      "execution_count": 31,
      "outputs": [
        {
          "output_type": "display_data",
          "data": {
            "image/png": "[encoded data removed]",
            "text/plain": [
              "<Figure size 720x360 with 2 Axes>"
            ]
          },
          "metadata": {
            "tags": [],
            "needs_background": "light"
          }
        }
      ]
    },
    {
      "cell_type": "markdown",
      "metadata": {
        "id": "wxJhlT3whoDE"
      },
      "source": [
        "To compare freezing and fine-tuning the pre-train embedding weights, we fine-tune the weights here:"
      ]
    },
    {
      "cell_type": "code",
      "metadata": {
        "colab": {
          "base_uri": "https://localhost:8080/"
        },
        "id": "u_xmeuuhhtbH",
        "outputId": "1d8c671f-46c3-456b-d44d-901e6d57c820"
      },
      "source": [
        "# Another model with fine tuning the pre-train embedding weights in each epoch\n",
        "input_review = Input ( (MAX_SEQUENCE_LENGTH, ), dtype='int32')\n",
        "glove_embed = embeddingLayer2(input_review)\n",
        "layer2 = GlobalAveragePooling1DMasked() (glove_embed)\n",
        "\n",
        "layer3 = Dense(16, activation='sigmoid') (layer2)\n",
        "\n",
        "label = Dense(1, activation = 'sigmoid') (layer3)\n",
        "\n",
        "model3 = Model (inputs=[input_review], outputs=[label])\n",
        "model3.summary()"
      ],
      "execution_count": 32,
      "outputs": [
        {
          "output_type": "stream",
          "text": [
            "Model: \"model_3\"\n",
            "_________________________________________________________________\n",
            "Layer (type)                 Output Shape              Param #   \n",
            "=================================================================\n",
            "input_4 (InputLayer)         [(None, 256)]             0         \n",
            "_________________________________________________________________\n",
            "GloVe_Embeddings (Embedding) (None, 256, 300)          120000300 \n",
            "_________________________________________________________________\n",
            "global_average_pooling1d_mas (None, 300)               0         \n",
            "_________________________________________________________________\n",
            "dense_6 (Dense)              (None, 16)                4816      \n",
            "_________________________________________________________________\n",
            "dense_7 (Dense)              (None, 1)                 17        \n",
            "=================================================================\n",
            "Total params: 120,005,133\n",
            "Trainable params: 120,005,133\n",
            "Non-trainable params: 0\n",
            "_________________________________________________________________\n"
          ],
          "name": "stdout"
        }
      ]
    },
    {
      "cell_type": "code",
      "metadata": {
        "id": "3rz8MEm6iHj6",
        "colab": {
          "base_uri": "https://localhost:8080/"
        },
        "outputId": "b4c6d3df-375e-47c3-dbf2-591312d43084"
      },
      "source": [
        "# Train and test the model\n",
        "model3.compile(optimizer = 'adam', loss = 'binary_crossentropy',metrics=['accuracy'])\n",
        "history = model3.fit(partial_X_train,\n",
        "                    partial_y_train,\n",
        "                    epochs=40,\n",
        "                    batch_size=512,\n",
        "                    validation_data=(X_val, y_val),\n",
        "                    verbose=1)"
      ],
      "execution_count": 33,
      "outputs": [
        {
          "output_type": "stream",
          "text": [
            "Epoch 1/40\n",
            "30/30 [==============================] - 21s 673ms/step - loss: 0.7941 - accuracy: 0.5046 - val_loss: 0.6960 - val_accuracy: 0.5021\n",
            "Epoch 2/40\n",
            "30/30 [==============================] - 19s 642ms/step - loss: 0.6953 - accuracy: 0.5130 - val_loss: 0.6872 - val_accuracy: 0.5300\n",
            "Epoch 3/40\n",
            "30/30 [==============================] - 19s 641ms/step - loss: 0.6835 - accuracy: 0.5528 - val_loss: 0.6763 - val_accuracy: 0.6225\n",
            "Epoch 4/40\n",
            "30/30 [==============================] - 19s 640ms/step - loss: 0.6712 - accuracy: 0.6554 - val_loss: 0.6629 - val_accuracy: 0.6942\n",
            "Epoch 5/40\n",
            "30/30 [==============================] - 19s 644ms/step - loss: 0.6562 - accuracy: 0.7099 - val_loss: 0.6453 - val_accuracy: 0.7132\n",
            "Epoch 6/40\n",
            "30/30 [==============================] - 19s 643ms/step - loss: 0.6344 - accuracy: 0.7334 - val_loss: 0.6191 - val_accuracy: 0.7368\n",
            "Epoch 7/40\n",
            "30/30 [==============================] - 19s 639ms/step - loss: 0.6052 - accuracy: 0.7508 - val_loss: 0.5861 - val_accuracy: 0.7588\n",
            "Epoch 8/40\n",
            "30/30 [==============================] - 19s 640ms/step - loss: 0.5645 - accuracy: 0.7881 - val_loss: 0.5476 - val_accuracy: 0.7878\n",
            "Epoch 9/40\n",
            "30/30 [==============================] - 19s 641ms/step - loss: 0.5235 - accuracy: 0.8087 - val_loss: 0.5056 - val_accuracy: 0.8123\n",
            "Epoch 10/40\n",
            "30/30 [==============================] - 19s 641ms/step - loss: 0.4789 - accuracy: 0.8264 - val_loss: 0.4652 - val_accuracy: 0.8289\n",
            "Epoch 11/40\n",
            "30/30 [==============================] - 19s 641ms/step - loss: 0.4378 - accuracy: 0.8477 - val_loss: 0.4295 - val_accuracy: 0.8429\n",
            "Epoch 12/40\n",
            "30/30 [==============================] - 19s 643ms/step - loss: 0.3944 - accuracy: 0.8717 - val_loss: 0.4009 - val_accuracy: 0.8490\n",
            "Epoch 13/40\n",
            "30/30 [==============================] - 19s 641ms/step - loss: 0.3605 - accuracy: 0.8840 - val_loss: 0.3767 - val_accuracy: 0.8598\n",
            "Epoch 14/40\n",
            "30/30 [==============================] - 19s 641ms/step - loss: 0.3382 - accuracy: 0.8866 - val_loss: 0.3585 - val_accuracy: 0.8635\n",
            "Epoch 15/40\n",
            "30/30 [==============================] - 19s 641ms/step - loss: 0.3101 - accuracy: 0.8973 - val_loss: 0.3433 - val_accuracy: 0.8664\n",
            "Epoch 16/40\n",
            "30/30 [==============================] - 19s 645ms/step - loss: 0.2916 - accuracy: 0.9016 - val_loss: 0.3311 - val_accuracy: 0.8700\n",
            "Epoch 17/40\n",
            "30/30 [==============================] - 19s 637ms/step - loss: 0.2724 - accuracy: 0.9078 - val_loss: 0.3209 - val_accuracy: 0.8733\n",
            "Epoch 18/40\n",
            "30/30 [==============================] - 19s 644ms/step - loss: 0.2583 - accuracy: 0.9133 - val_loss: 0.3147 - val_accuracy: 0.8737\n",
            "Epoch 19/40\n",
            "30/30 [==============================] - 19s 642ms/step - loss: 0.2460 - accuracy: 0.9178 - val_loss: 0.3061 - val_accuracy: 0.8793\n",
            "Epoch 20/40\n",
            "30/30 [==============================] - 19s 643ms/step - loss: 0.2304 - accuracy: 0.9217 - val_loss: 0.3002 - val_accuracy: 0.8812\n",
            "Epoch 21/40\n",
            "30/30 [==============================] - 19s 640ms/step - loss: 0.2133 - accuracy: 0.9310 - val_loss: 0.2963 - val_accuracy: 0.8818\n",
            "Epoch 22/40\n",
            "30/30 [==============================] - 19s 642ms/step - loss: 0.2041 - accuracy: 0.9303 - val_loss: 0.2928 - val_accuracy: 0.8823\n",
            "Epoch 23/40\n",
            "30/30 [==============================] - 19s 645ms/step - loss: 0.1940 - accuracy: 0.9390 - val_loss: 0.2897 - val_accuracy: 0.8837\n",
            "Epoch 24/40\n",
            "30/30 [==============================] - 19s 646ms/step - loss: 0.1898 - accuracy: 0.9396 - val_loss: 0.2876 - val_accuracy: 0.8854\n",
            "Epoch 25/40\n",
            "30/30 [==============================] - 19s 643ms/step - loss: 0.1765 - accuracy: 0.9487 - val_loss: 0.2900 - val_accuracy: 0.8827\n",
            "Epoch 26/40\n",
            "30/30 [==============================] - 19s 643ms/step - loss: 0.1666 - accuracy: 0.9511 - val_loss: 0.2866 - val_accuracy: 0.8860\n",
            "Epoch 27/40\n",
            "30/30 [==============================] - 19s 639ms/step - loss: 0.1600 - accuracy: 0.9531 - val_loss: 0.2861 - val_accuracy: 0.8858\n",
            "Epoch 28/40\n",
            "30/30 [==============================] - 19s 639ms/step - loss: 0.1530 - accuracy: 0.9542 - val_loss: 0.2861 - val_accuracy: 0.8868\n",
            "Epoch 29/40\n",
            "30/30 [==============================] - 19s 641ms/step - loss: 0.1402 - accuracy: 0.9601 - val_loss: 0.2881 - val_accuracy: 0.8861\n",
            "Epoch 30/40\n",
            "30/30 [==============================] - 19s 642ms/step - loss: 0.1439 - accuracy: 0.9579 - val_loss: 0.2886 - val_accuracy: 0.8865\n",
            "Epoch 31/40\n",
            "30/30 [==============================] - 19s 645ms/step - loss: 0.1330 - accuracy: 0.9614 - val_loss: 0.2904 - val_accuracy: 0.8861\n",
            "Epoch 32/40\n",
            "30/30 [==============================] - 19s 645ms/step - loss: 0.1251 - accuracy: 0.9664 - val_loss: 0.2956 - val_accuracy: 0.8839\n",
            "Epoch 33/40\n",
            "30/30 [==============================] - 19s 639ms/step - loss: 0.1250 - accuracy: 0.9667 - val_loss: 0.2936 - val_accuracy: 0.8845\n",
            "Epoch 34/40\n",
            "30/30 [==============================] - 19s 638ms/step - loss: 0.1146 - accuracy: 0.9702 - val_loss: 0.2986 - val_accuracy: 0.8835\n",
            "Epoch 35/40\n",
            "30/30 [==============================] - 19s 643ms/step - loss: 0.1062 - accuracy: 0.9727 - val_loss: 0.2995 - val_accuracy: 0.8838\n",
            "Epoch 36/40\n",
            "30/30 [==============================] - 19s 642ms/step - loss: 0.1060 - accuracy: 0.9730 - val_loss: 0.3022 - val_accuracy: 0.8830\n",
            "Epoch 37/40\n",
            "30/30 [==============================] - 19s 640ms/step - loss: 0.0966 - accuracy: 0.9755 - val_loss: 0.3078 - val_accuracy: 0.8824\n",
            "Epoch 38/40\n",
            "30/30 [==============================] - 19s 643ms/step - loss: 0.0968 - accuracy: 0.9776 - val_loss: 0.3082 - val_accuracy: 0.8810\n",
            "Epoch 39/40\n",
            "30/30 [==============================] - 19s 640ms/step - loss: 0.0938 - accuracy: 0.9772 - val_loss: 0.3148 - val_accuracy: 0.8811\n",
            "Epoch 40/40\n",
            "30/30 [==============================] - 19s 643ms/step - loss: 0.0846 - accuracy: 0.9815 - val_loss: 0.3158 - val_accuracy: 0.8797\n"
          ],
          "name": "stdout"
        }
      ]
    },
    {
      "cell_type": "code",
      "metadata": {
        "colab": {
          "base_uri": "https://localhost:8080/",
          "height": 369
        },
        "id": "O1McAxYPP6QE",
        "outputId": "8dfa4433-96ac-4170-9242-5cc0f3f72a33"
      },
      "source": [
        "from plot_keras_history import plot_history\r\n",
        "import matplotlib.pyplot as plt\r\n",
        "plot_history(history.history, path=\"standard.png\")\r\n",
        "plt.show()"
      ],
      "execution_count": 34,
      "outputs": [
        {
          "output_type": "display_data",
          "data": {
            "image/png": "[encoded data removed]",
            "text/plain": [
              "<Figure size 720x360 with 2 Axes>"
            ]
          },
          "metadata": {
            "tags": [],
            "needs_background": "light"
          }
        }
      ]
    },
    {
      "cell_type": "markdown",
      "metadata": {
        "id": "cAdOh2IHnKuT"
      },
      "source": [
        "Experiments here show that fine-tuning the pre-trained embeddings would obtain better accuracy.\n",
        "\n",
        "Note that although fine-tuning the pre-trained embeddings is better here, we do not fine-tune it in other models. You could conduct extra experiments to compare the results."
      ]
    },
    {
      "cell_type": "markdown",
      "metadata": {
        "id": "xZ1KWFKvcagS"
      },
      "source": [
        "##  Model 3-2: LSTM with pre-trained word embeddings"
      ]
    },
    {
      "cell_type": "markdown",
      "metadata": {
        "id": "S1lKisy3kb60"
      },
      "source": [
        "In previous labs, we have conducted an experiment based on LSTM. Now, we replace its embeddings with the GloVe pre-trained embeddings."
      ]
    },
    {
      "cell_type": "code",
      "metadata": {
        "colab": {
          "base_uri": "https://localhost:8080/"
        },
        "id": "oz92rv2iTbo8",
        "outputId": "a53d4541-d981-4e6a-a930-15138182cfb9"
      },
      "source": [
        "# LSTM Model with pre-trained word embeddings\n",
        "input_review = Input ( (MAX_SEQUENCE_LENGTH, ), dtype='int32')\n",
        "glove_embed = embeddingLayer(input_review)\n",
        "layer2 = LSTM(100, return_sequences=False)(glove_embed)\n",
        "label = Dense(1, activation = 'sigmoid') (layer2)\n",
        "model7 = Model (inputs=[input_review], outputs=[label])\n",
        "model7.summary()"
      ],
      "execution_count": 35,
      "outputs": [
        {
          "output_type": "stream",
          "text": [
            "Model: \"model_4\"\n",
            "_________________________________________________________________\n",
            "Layer (type)                 Output Shape              Param #   \n",
            "=================================================================\n",
            "input_5 (InputLayer)         [(None, 256)]             0         \n",
            "_________________________________________________________________\n",
            "GloVe_Embeddings (Embedding) (None, 256, 300)          120000300 \n",
            "_________________________________________________________________\n",
            "lstm (LSTM)                  (None, 100)               160400    \n",
            "_________________________________________________________________\n",
            "dense_8 (Dense)              (None, 1)                 101       \n",
            "=================================================================\n",
            "Total params: 120,160,801\n",
            "Trainable params: 160,501\n",
            "Non-trainable params: 120,000,300\n",
            "_________________________________________________________________\n"
          ],
          "name": "stdout"
        }
      ]
    },
    {
      "cell_type": "code",
      "metadata": {
        "id": "EqyL_rhaUElx",
        "colab": {
          "base_uri": "https://localhost:8080/"
        },
        "outputId": "a26378e2-6b05-44ac-d854-68db7a887d1e"
      },
      "source": [
        "# Train and test the model\n",
        "model7.compile(optimizer = 'adam', loss = 'binary_crossentropy',metrics=['accuracy'])\n",
        "history = model7.fit(partial_X_train,\n",
        "                    partial_y_train,\n",
        "                    epochs=40,\n",
        "                    batch_size=512,\n",
        "                    validation_data=(X_val, y_val),\n",
        "                    verbose=1)"
      ],
      "execution_count": 36,
      "outputs": [
        {
          "output_type": "stream",
          "text": [
            "Epoch 1/40\n",
            "30/30 [==============================] - 31s 113ms/step - loss: 0.6920 - accuracy: 0.5161 - val_loss: 0.6783 - val_accuracy: 0.5429\n",
            "Epoch 2/40\n",
            "30/30 [==============================] - 3s 90ms/step - loss: 0.6761 - accuracy: 0.5563 - val_loss: 0.6720 - val_accuracy: 0.5570\n",
            "Epoch 3/40\n",
            "30/30 [==============================] - 3s 90ms/step - loss: 0.6486 - accuracy: 0.6185 - val_loss: 0.6513 - val_accuracy: 0.6237\n",
            "Epoch 4/40\n",
            "30/30 [==============================] - 3s 90ms/step - loss: 0.6640 - accuracy: 0.5903 - val_loss: 0.6800 - val_accuracy: 0.5336\n",
            "Epoch 5/40\n",
            "30/30 [==============================] - 3s 91ms/step - loss: 0.6715 - accuracy: 0.5571 - val_loss: 0.6734 - val_accuracy: 0.5502\n",
            "Epoch 6/40\n",
            "30/30 [==============================] - 3s 90ms/step - loss: 0.6588 - accuracy: 0.5843 - val_loss: 0.6496 - val_accuracy: 0.6190\n",
            "Epoch 7/40\n",
            "30/30 [==============================] - 3s 90ms/step - loss: 0.6274 - accuracy: 0.6359 - val_loss: 0.6291 - val_accuracy: 0.6335\n",
            "Epoch 8/40\n",
            "30/30 [==============================] - 3s 90ms/step - loss: 0.6368 - accuracy: 0.6240 - val_loss: 0.6811 - val_accuracy: 0.5290\n",
            "Epoch 9/40\n",
            "30/30 [==============================] - 3s 90ms/step - loss: 0.6640 - accuracy: 0.5640 - val_loss: 0.6745 - val_accuracy: 0.5404\n",
            "Epoch 10/40\n",
            "30/30 [==============================] - 3s 90ms/step - loss: 0.6576 - accuracy: 0.5767 - val_loss: 0.6678 - val_accuracy: 0.5530\n",
            "Epoch 11/40\n",
            "30/30 [==============================] - 3s 90ms/step - loss: 0.6434 - accuracy: 0.5791 - val_loss: 0.7271 - val_accuracy: 0.6379\n",
            "Epoch 12/40\n",
            "30/30 [==============================] - 3s 90ms/step - loss: 0.6482 - accuracy: 0.6183 - val_loss: 0.6808 - val_accuracy: 0.5411\n",
            "Epoch 13/40\n",
            "30/30 [==============================] - 3s 90ms/step - loss: 0.6691 - accuracy: 0.5586 - val_loss: 0.6739 - val_accuracy: 0.5372\n",
            "Epoch 14/40\n",
            "30/30 [==============================] - 3s 91ms/step - loss: 0.6554 - accuracy: 0.5739 - val_loss: 0.6711 - val_accuracy: 0.5426\n",
            "Epoch 15/40\n",
            "30/30 [==============================] - 3s 90ms/step - loss: 0.6497 - accuracy: 0.5880 - val_loss: 0.6503 - val_accuracy: 0.6153\n",
            "Epoch 16/40\n",
            "30/30 [==============================] - 3s 91ms/step - loss: 0.6280 - accuracy: 0.6488 - val_loss: 0.6625 - val_accuracy: 0.5456\n",
            "Epoch 17/40\n",
            "30/30 [==============================] - 3s 90ms/step - loss: 0.6391 - accuracy: 0.5925 - val_loss: 0.6262 - val_accuracy: 0.6674\n",
            "Epoch 18/40\n",
            "30/30 [==============================] - 3s 91ms/step - loss: 0.6285 - accuracy: 0.6454 - val_loss: 0.6957 - val_accuracy: 0.5401\n",
            "Epoch 19/40\n",
            "30/30 [==============================] - 3s 91ms/step - loss: 0.6576 - accuracy: 0.5709 - val_loss: 0.7068 - val_accuracy: 0.5891\n",
            "Epoch 20/40\n",
            "30/30 [==============================] - 3s 91ms/step - loss: 0.6569 - accuracy: 0.6242 - val_loss: 0.6619 - val_accuracy: 0.5998\n",
            "Epoch 21/40\n",
            "30/30 [==============================] - 3s 91ms/step - loss: 0.6323 - accuracy: 0.6402 - val_loss: 0.6623 - val_accuracy: 0.5913\n",
            "Epoch 22/40\n",
            "30/30 [==============================] - 3s 91ms/step - loss: 0.6521 - accuracy: 0.5797 - val_loss: 0.6792 - val_accuracy: 0.5282\n",
            "Epoch 23/40\n",
            "30/30 [==============================] - 3s 91ms/step - loss: 0.6544 - accuracy: 0.5677 - val_loss: 0.6754 - val_accuracy: 0.5342\n",
            "Epoch 24/40\n",
            "30/30 [==============================] - 3s 91ms/step - loss: 0.6460 - accuracy: 0.5817 - val_loss: 0.6743 - val_accuracy: 0.5370\n",
            "Epoch 25/40\n",
            "30/30 [==============================] - 3s 91ms/step - loss: 0.6365 - accuracy: 0.5829 - val_loss: 0.6640 - val_accuracy: 0.5497\n",
            "Epoch 26/40\n",
            "30/30 [==============================] - 3s 91ms/step - loss: 0.6235 - accuracy: 0.5887 - val_loss: 0.6483 - val_accuracy: 0.5723\n",
            "Epoch 27/40\n",
            "30/30 [==============================] - 3s 91ms/step - loss: 0.6074 - accuracy: 0.6104 - val_loss: 0.6181 - val_accuracy: 0.6864\n",
            "Epoch 28/40\n",
            "30/30 [==============================] - 3s 91ms/step - loss: 0.6210 - accuracy: 0.6562 - val_loss: 0.6744 - val_accuracy: 0.5311\n",
            "Epoch 29/40\n",
            "30/30 [==============================] - 3s 91ms/step - loss: 0.6340 - accuracy: 0.5927 - val_loss: 0.6733 - val_accuracy: 0.5355\n",
            "Epoch 30/40\n",
            "30/30 [==============================] - 3s 91ms/step - loss: 0.6269 - accuracy: 0.5893 - val_loss: 0.6712 - val_accuracy: 0.5382\n",
            "Epoch 31/40\n",
            "30/30 [==============================] - 3s 91ms/step - loss: 0.6217 - accuracy: 0.5975 - val_loss: 0.6686 - val_accuracy: 0.5449\n",
            "Epoch 32/40\n",
            "30/30 [==============================] - 3s 91ms/step - loss: 0.6107 - accuracy: 0.6113 - val_loss: 0.6617 - val_accuracy: 0.5623\n",
            "Epoch 33/40\n",
            "30/30 [==============================] - 3s 91ms/step - loss: 0.5950 - accuracy: 0.6348 - val_loss: 0.7261 - val_accuracy: 0.5829\n",
            "Epoch 34/40\n",
            "30/30 [==============================] - 3s 91ms/step - loss: 0.5874 - accuracy: 0.6974 - val_loss: 0.6681 - val_accuracy: 0.6158\n",
            "Epoch 35/40\n",
            "30/30 [==============================] - 3s 91ms/step - loss: 0.6024 - accuracy: 0.6852 - val_loss: 0.6582 - val_accuracy: 0.6093\n",
            "Epoch 36/40\n",
            "30/30 [==============================] - 3s 91ms/step - loss: 0.5901 - accuracy: 0.6880 - val_loss: 0.6674 - val_accuracy: 0.6040\n",
            "Epoch 37/40\n",
            "30/30 [==============================] - 3s 91ms/step - loss: 0.6113 - accuracy: 0.6511 - val_loss: 0.6452 - val_accuracy: 0.6357\n",
            "Epoch 38/40\n",
            "30/30 [==============================] - 3s 91ms/step - loss: 0.5927 - accuracy: 0.6866 - val_loss: 0.7104 - val_accuracy: 0.5366\n",
            "Epoch 39/40\n",
            "30/30 [==============================] - 3s 91ms/step - loss: 0.6284 - accuracy: 0.5881 - val_loss: 0.6741 - val_accuracy: 0.5403\n",
            "Epoch 40/40\n",
            "30/30 [==============================] - 3s 90ms/step - loss: 0.6001 - accuracy: 0.6272 - val_loss: 0.6361 - val_accuracy: 0.6569\n"
          ],
          "name": "stdout"
        }
      ]
    },
    {
      "cell_type": "code",
      "metadata": {
        "colab": {
          "base_uri": "https://localhost:8080/",
          "height": 369
        },
        "id": "PT0RkmyyTP5l",
        "outputId": "0e26ef99-4596-4163-8d3a-bd825038230e"
      },
      "source": [
        "from plot_keras_history import plot_history\r\n",
        "import matplotlib.pyplot as plt\r\n",
        "plot_history(history.history, path=\"standard.png\")\r\n",
        "plt.show()"
      ],
      "execution_count": 37,
      "outputs": [
        {
          "output_type": "display_data",
          "data": {
            "image/png": "[encoded data removed]",
            "text/plain": [
              "<Figure size 720x360 with 2 Axes>"
            ]
          },
          "metadata": {
            "tags": [],
            "needs_background": "light"
          }
        }
      ]
    },
    {
      "cell_type": "markdown",
      "metadata": {
        "id": "XOqePi5-I1Xq"
      },
      "source": [
        "Experiment show that simply replacing the lab 2 model embeddings with pre-trained word embeddings (GloVe) will cause performance to drop significantly. \n",
        "What can you do to improve the situation?"
      ]
    },
    {
      "cell_type": "markdown",
      "metadata": {
        "id": "M-bZ5SCHiIMl"
      },
      "source": [
        "#  Model 4: Adding extra dense layer into Neural averaging network model"
      ]
    },
    {
      "cell_type": "markdown",
      "metadata": {
        "id": "G85QM3lSV7qp"
      },
      "source": [
        "We add extra dense layers into model 3-1 (neural network model) to evaluate extra dense layers' contribution. We start by adding one layer, then add two. All parameters are the same as model 3-1."
      ]
    },
    {
      "cell_type": "markdown",
      "metadata": {
        "id": "ExgX8bxpVgps"
      },
      "source": [
        "### Adding one extra dense layer"
      ]
    },
    {
      "cell_type": "code",
      "metadata": {
        "colab": {
          "base_uri": "https://localhost:8080/"
        },
        "id": "dTgD_gMzXa1z",
        "outputId": "bc81ccc2-9745-4507-a78f-ef6c12516794"
      },
      "source": [
        "# Inspect model performance with 1 hidden layer, pre-trained embeddings\n",
        "# Added an extra dense layer\n",
        "input_review = Input ( (MAX_SEQUENCE_LENGTH, ), dtype='int32')\n",
        "glove_embed = embeddingLayer(input_review)\n",
        "layer2 = GlobalAveragePooling1DMasked() (glove_embed)\n",
        "layer3 = Dense(100, activation='sigmoid') (layer2)\n",
        "layer4 = Dense(16, activation='sigmoid') (layer3)\n",
        "\n",
        "label = Dense(1, activation = 'sigmoid') (layer4)\n",
        "\n",
        "model4 = Model (inputs=[input_review], outputs=[label])\n",
        "model4.summary()"
      ],
      "execution_count": 38,
      "outputs": [
        {
          "output_type": "stream",
          "text": [
            "Model: \"model_5\"\n",
            "_________________________________________________________________\n",
            "Layer (type)                 Output Shape              Param #   \n",
            "=================================================================\n",
            "input_6 (InputLayer)         [(None, 256)]             0         \n",
            "_________________________________________________________________\n",
            "GloVe_Embeddings (Embedding) (None, 256, 300)          120000300 \n",
            "_________________________________________________________________\n",
            "global_average_pooling1d_mas (None, 300)               0         \n",
            "_________________________________________________________________\n",
            "dense_9 (Dense)              (None, 100)               30100     \n",
            "_________________________________________________________________\n",
            "dense_10 (Dense)             (None, 16)                1616      \n",
            "_________________________________________________________________\n",
            "dense_11 (Dense)             (None, 1)                 17        \n",
            "=================================================================\n",
            "Total params: 120,032,033\n",
            "Trainable params: 31,733\n",
            "Non-trainable params: 120,000,300\n",
            "_________________________________________________________________\n"
          ],
          "name": "stdout"
        }
      ]
    },
    {
      "cell_type": "code",
      "metadata": {
        "colab": {
          "base_uri": "https://localhost:8080/"
        },
        "id": "DCdwBNBSCOio",
        "outputId": "cb26608f-2057-417c-a049-541eec83d7ed"
      },
      "source": [
        "# Train and test the model\n",
        "model4.compile(optimizer = 'adam', loss = 'binary_crossentropy',metrics=['accuracy'])\n",
        "history = model4.fit(partial_X_train,\n",
        "                    partial_y_train,\n",
        "                    epochs=40,\n",
        "                    batch_size=512,\n",
        "                    validation_data=(X_val, y_val),\n",
        "                    verbose=1)"
      ],
      "execution_count": 39,
      "outputs": [
        {
          "output_type": "stream",
          "text": [
            "Epoch 1/40\n",
            "30/30 [==============================] - 2s 47ms/step - loss: 0.6983 - accuracy: 0.5058 - val_loss: 0.6921 - val_accuracy: 0.5167\n",
            "Epoch 2/40\n",
            "30/30 [==============================] - 1s 41ms/step - loss: 0.6906 - accuracy: 0.5467 - val_loss: 0.6892 - val_accuracy: 0.5486\n",
            "Epoch 3/40\n",
            "30/30 [==============================] - 1s 41ms/step - loss: 0.6897 - accuracy: 0.5239 - val_loss: 0.6866 - val_accuracy: 0.5860\n",
            "Epoch 4/40\n",
            "30/30 [==============================] - 1s 41ms/step - loss: 0.6860 - accuracy: 0.5671 - val_loss: 0.6839 - val_accuracy: 0.5837\n",
            "Epoch 5/40\n",
            "30/30 [==============================] - 1s 41ms/step - loss: 0.6825 - accuracy: 0.5872 - val_loss: 0.6803 - val_accuracy: 0.5896\n",
            "Epoch 6/40\n",
            "30/30 [==============================] - 1s 41ms/step - loss: 0.6792 - accuracy: 0.5870 - val_loss: 0.6764 - val_accuracy: 0.5933\n",
            "Epoch 7/40\n",
            "30/30 [==============================] - 1s 41ms/step - loss: 0.6738 - accuracy: 0.5963 - val_loss: 0.6723 - val_accuracy: 0.5952\n",
            "Epoch 8/40\n",
            "30/30 [==============================] - 1s 42ms/step - loss: 0.6729 - accuracy: 0.5864 - val_loss: 0.6683 - val_accuracy: 0.6002\n",
            "Epoch 9/40\n",
            "30/30 [==============================] - 1s 42ms/step - loss: 0.6648 - accuracy: 0.6129 - val_loss: 0.6640 - val_accuracy: 0.6061\n",
            "Epoch 10/40\n",
            "30/30 [==============================] - 1s 42ms/step - loss: 0.6606 - accuracy: 0.6180 - val_loss: 0.6596 - val_accuracy: 0.6153\n",
            "Epoch 11/40\n",
            "30/30 [==============================] - 1s 43ms/step - loss: 0.6589 - accuracy: 0.6162 - val_loss: 0.6587 - val_accuracy: 0.6111\n",
            "Epoch 12/40\n",
            "30/30 [==============================] - 1s 43ms/step - loss: 0.6527 - accuracy: 0.6212 - val_loss: 0.6487 - val_accuracy: 0.6325\n",
            "Epoch 13/40\n",
            "30/30 [==============================] - 1s 41ms/step - loss: 0.6450 - accuracy: 0.6417 - val_loss: 0.6438 - val_accuracy: 0.6410\n",
            "Epoch 14/40\n",
            "30/30 [==============================] - 1s 41ms/step - loss: 0.6374 - accuracy: 0.6518 - val_loss: 0.6370 - val_accuracy: 0.6502\n",
            "Epoch 15/40\n",
            "30/30 [==============================] - 1s 41ms/step - loss: 0.6349 - accuracy: 0.6555 - val_loss: 0.6307 - val_accuracy: 0.6568\n",
            "Epoch 16/40\n",
            "30/30 [==============================] - 1s 41ms/step - loss: 0.6245 - accuracy: 0.6708 - val_loss: 0.6246 - val_accuracy: 0.6632\n",
            "Epoch 17/40\n",
            "30/30 [==============================] - 1s 42ms/step - loss: 0.6191 - accuracy: 0.6733 - val_loss: 0.6186 - val_accuracy: 0.6696\n",
            "Epoch 18/40\n",
            "30/30 [==============================] - 1s 41ms/step - loss: 0.6097 - accuracy: 0.6834 - val_loss: 0.6131 - val_accuracy: 0.6754\n",
            "Epoch 19/40\n",
            "30/30 [==============================] - 1s 41ms/step - loss: 0.6061 - accuracy: 0.6832 - val_loss: 0.6081 - val_accuracy: 0.6790\n",
            "Epoch 20/40\n",
            "30/30 [==============================] - 1s 41ms/step - loss: 0.5978 - accuracy: 0.6926 - val_loss: 0.6040 - val_accuracy: 0.6808\n",
            "Epoch 21/40\n",
            "30/30 [==============================] - 1s 41ms/step - loss: 0.5964 - accuracy: 0.6926 - val_loss: 0.6053 - val_accuracy: 0.6762\n",
            "Epoch 22/40\n",
            "30/30 [==============================] - 1s 41ms/step - loss: 0.5959 - accuracy: 0.6802 - val_loss: 0.5973 - val_accuracy: 0.6868\n",
            "Epoch 23/40\n",
            "30/30 [==============================] - 1s 41ms/step - loss: 0.5897 - accuracy: 0.6974 - val_loss: 0.5931 - val_accuracy: 0.6917\n",
            "Epoch 24/40\n",
            "30/30 [==============================] - 1s 41ms/step - loss: 0.5781 - accuracy: 0.7105 - val_loss: 0.5906 - val_accuracy: 0.6922\n",
            "Epoch 25/40\n",
            "30/30 [==============================] - 1s 41ms/step - loss: 0.5774 - accuracy: 0.7097 - val_loss: 0.5880 - val_accuracy: 0.6951\n",
            "Epoch 26/40\n",
            "30/30 [==============================] - 1s 41ms/step - loss: 0.5825 - accuracy: 0.7018 - val_loss: 0.5850 - val_accuracy: 0.6969\n",
            "Epoch 27/40\n",
            "30/30 [==============================] - 1s 41ms/step - loss: 0.5717 - accuracy: 0.7087 - val_loss: 0.5828 - val_accuracy: 0.6986\n",
            "Epoch 28/40\n",
            "30/30 [==============================] - 1s 41ms/step - loss: 0.5751 - accuracy: 0.7076 - val_loss: 0.5805 - val_accuracy: 0.7004\n",
            "Epoch 29/40\n",
            "30/30 [==============================] - 1s 41ms/step - loss: 0.5727 - accuracy: 0.7103 - val_loss: 0.5792 - val_accuracy: 0.7019\n",
            "Epoch 30/40\n",
            "30/30 [==============================] - 1s 41ms/step - loss: 0.5720 - accuracy: 0.7085 - val_loss: 0.5766 - val_accuracy: 0.7026\n",
            "Epoch 31/40\n",
            "30/30 [==============================] - 1s 41ms/step - loss: 0.5657 - accuracy: 0.7177 - val_loss: 0.5748 - val_accuracy: 0.7072\n",
            "Epoch 32/40\n",
            "30/30 [==============================] - 1s 41ms/step - loss: 0.5647 - accuracy: 0.7173 - val_loss: 0.5756 - val_accuracy: 0.7040\n",
            "Epoch 33/40\n",
            "30/30 [==============================] - 1s 41ms/step - loss: 0.5628 - accuracy: 0.7186 - val_loss: 0.5733 - val_accuracy: 0.7060\n",
            "Epoch 34/40\n",
            "30/30 [==============================] - 1s 42ms/step - loss: 0.5617 - accuracy: 0.7178 - val_loss: 0.5711 - val_accuracy: 0.7089\n",
            "Epoch 35/40\n",
            "30/30 [==============================] - 1s 41ms/step - loss: 0.5614 - accuracy: 0.7166 - val_loss: 0.5690 - val_accuracy: 0.7085\n",
            "Epoch 36/40\n",
            "30/30 [==============================] - 1s 41ms/step - loss: 0.5615 - accuracy: 0.7151 - val_loss: 0.5671 - val_accuracy: 0.7099\n",
            "Epoch 37/40\n",
            "30/30 [==============================] - 1s 41ms/step - loss: 0.5582 - accuracy: 0.7159 - val_loss: 0.5685 - val_accuracy: 0.7102\n",
            "Epoch 38/40\n",
            "30/30 [==============================] - 1s 41ms/step - loss: 0.5552 - accuracy: 0.7222 - val_loss: 0.5657 - val_accuracy: 0.7129\n",
            "Epoch 39/40\n",
            "30/30 [==============================] - 1s 41ms/step - loss: 0.5556 - accuracy: 0.7216 - val_loss: 0.5744 - val_accuracy: 0.7061\n",
            "Epoch 40/40\n",
            "30/30 [==============================] - 1s 40ms/step - loss: 0.5591 - accuracy: 0.7204 - val_loss: 0.5673 - val_accuracy: 0.7101\n"
          ],
          "name": "stdout"
        }
      ]
    },
    {
      "cell_type": "code",
      "metadata": {
        "colab": {
          "base_uri": "https://localhost:8080/",
          "height": 369
        },
        "id": "zcAcpkoRURHF",
        "outputId": "ffc2b7a3-6469-4a96-b9be-996181d38848"
      },
      "source": [
        "from plot_keras_history import plot_history\r\n",
        "import matplotlib.pyplot as plt\r\n",
        "plot_history(history.history, path=\"standard.png\")\r\n",
        "plt.show()"
      ],
      "execution_count": 40,
      "outputs": [
        {
          "output_type": "display_data",
          "data": {
            "image/png": "[encoded data removed]",
            "text/plain": [
              "<Figure size 720x360 with 2 Axes>"
            ]
          },
          "metadata": {
            "tags": [],
            "needs_background": "light"
          }
        }
      ]
    },
    {
      "cell_type": "markdown",
      "metadata": {
        "id": "K0npTvFuVt5R"
      },
      "source": [
        "### Adding two extra dense layers"
      ]
    },
    {
      "cell_type": "code",
      "metadata": {
        "colab": {
          "base_uri": "https://localhost:8080/"
        },
        "id": "PowyhyRqcdDA",
        "outputId": "ea8844f5-2d74-495b-e1e8-19ed542cc62f"
      },
      "source": [
        "# Inspect model performance with 1 hidden layer, pre-trained embeddings\n",
        "# Added another dense layer\n",
        "input_review = Input ( (MAX_SEQUENCE_LENGTH, ), dtype='int32')\n",
        "glove_embed = embeddingLayer(input_review)\n",
        "layer2 = GlobalAveragePooling1DMasked() (glove_embed)\n",
        "layer3 = Dense(300, activation='sigmoid') (layer2)\n",
        "layer4 = Dense(100, activation='sigmoid') (layer3)\n",
        "layer5 = Dense(16, activation='sigmoid') (layer4)\n",
        "\n",
        "label = Dense(1, activation = 'sigmoid') (layer5)\n",
        "\n",
        "model4 = Model (inputs=[input_review], outputs=[label])\n",
        "model4.summary()"
      ],
      "execution_count": 41,
      "outputs": [
        {
          "output_type": "stream",
          "text": [
            "Model: \"model_6\"\n",
            "_________________________________________________________________\n",
            "Layer (type)                 Output Shape              Param #   \n",
            "=================================================================\n",
            "input_7 (InputLayer)         [(None, 256)]             0         \n",
            "_________________________________________________________________\n",
            "GloVe_Embeddings (Embedding) (None, 256, 300)          120000300 \n",
            "_________________________________________________________________\n",
            "global_average_pooling1d_mas (None, 300)               0         \n",
            "_________________________________________________________________\n",
            "dense_12 (Dense)             (None, 300)               90300     \n",
            "_________________________________________________________________\n",
            "dense_13 (Dense)             (None, 100)               30100     \n",
            "_________________________________________________________________\n",
            "dense_14 (Dense)             (None, 16)                1616      \n",
            "_________________________________________________________________\n",
            "dense_15 (Dense)             (None, 1)                 17        \n",
            "=================================================================\n",
            "Total params: 120,122,333\n",
            "Trainable params: 122,033\n",
            "Non-trainable params: 120,000,300\n",
            "_________________________________________________________________\n"
          ],
          "name": "stdout"
        }
      ]
    },
    {
      "cell_type": "code",
      "metadata": {
        "colab": {
          "base_uri": "https://localhost:8080/"
        },
        "id": "ZsNrEPqrDSB8",
        "outputId": "d2a7da4c-4636-4318-b916-8c5fa6efda12"
      },
      "source": [
        "# Train and test the model\n",
        "model4.compile(optimizer = 'adam', loss = 'binary_crossentropy',metrics=['accuracy'])\n",
        "history = model4.fit(partial_X_train,\n",
        "                    partial_y_train,\n",
        "                    epochs=40,\n",
        "                    batch_size=512,\n",
        "                    validation_data=(X_val, y_val),\n",
        "                    verbose=1)"
      ],
      "execution_count": 42,
      "outputs": [
        {
          "output_type": "stream",
          "text": [
            "Epoch 1/40\n",
            "30/30 [==============================] - 2s 46ms/step - loss: 0.6952 - accuracy: 0.4999 - val_loss: 0.6929 - val_accuracy: 0.4947\n",
            "Epoch 2/40\n",
            "30/30 [==============================] - 1s 41ms/step - loss: 0.6924 - accuracy: 0.5145 - val_loss: 0.6950 - val_accuracy: 0.4947\n",
            "Epoch 3/40\n",
            "30/30 [==============================] - 1s 42ms/step - loss: 0.6933 - accuracy: 0.5094 - val_loss: 0.6898 - val_accuracy: 0.5283\n",
            "Epoch 4/40\n",
            "30/30 [==============================] - 1s 42ms/step - loss: 0.6900 - accuracy: 0.5270 - val_loss: 0.6886 - val_accuracy: 0.5203\n",
            "Epoch 5/40\n",
            "30/30 [==============================] - 1s 41ms/step - loss: 0.6860 - accuracy: 0.5553 - val_loss: 0.6813 - val_accuracy: 0.5822\n",
            "Epoch 6/40\n",
            "30/30 [==============================] - 1s 41ms/step - loss: 0.6789 - accuracy: 0.5754 - val_loss: 0.6868 - val_accuracy: 0.5348\n",
            "Epoch 7/40\n",
            "30/30 [==============================] - 1s 41ms/step - loss: 0.6779 - accuracy: 0.5630 - val_loss: 0.6667 - val_accuracy: 0.5976\n",
            "Epoch 8/40\n",
            "30/30 [==============================] - 1s 41ms/step - loss: 0.6636 - accuracy: 0.6062 - val_loss: 0.6600 - val_accuracy: 0.6088\n",
            "Epoch 9/40\n",
            "30/30 [==============================] - 1s 41ms/step - loss: 0.6567 - accuracy: 0.6165 - val_loss: 0.6503 - val_accuracy: 0.6256\n",
            "Epoch 10/40\n",
            "30/30 [==============================] - 1s 41ms/step - loss: 0.6485 - accuracy: 0.6303 - val_loss: 0.6445 - val_accuracy: 0.6326\n",
            "Epoch 11/40\n",
            "30/30 [==============================] - 1s 43ms/step - loss: 0.6367 - accuracy: 0.6447 - val_loss: 0.6268 - val_accuracy: 0.6564\n",
            "Epoch 12/40\n",
            "30/30 [==============================] - 1s 43ms/step - loss: 0.6197 - accuracy: 0.6643 - val_loss: 0.6205 - val_accuracy: 0.6588\n",
            "Epoch 13/40\n",
            "30/30 [==============================] - 1s 42ms/step - loss: 0.6119 - accuracy: 0.6761 - val_loss: 0.6077 - val_accuracy: 0.6748\n",
            "Epoch 14/40\n",
            "30/30 [==============================] - 1s 42ms/step - loss: 0.6004 - accuracy: 0.6841 - val_loss: 0.6004 - val_accuracy: 0.6827\n",
            "Epoch 15/40\n",
            "30/30 [==============================] - 1s 42ms/step - loss: 0.5896 - accuracy: 0.6955 - val_loss: 0.5948 - val_accuracy: 0.6868\n",
            "Epoch 16/40\n",
            "30/30 [==============================] - 1s 42ms/step - loss: 0.5916 - accuracy: 0.6900 - val_loss: 0.6074 - val_accuracy: 0.6680\n",
            "Epoch 17/40\n",
            "30/30 [==============================] - 1s 42ms/step - loss: 0.5833 - accuracy: 0.6942 - val_loss: 0.5864 - val_accuracy: 0.6946\n",
            "Epoch 18/40\n",
            "30/30 [==============================] - 1s 43ms/step - loss: 0.5687 - accuracy: 0.7120 - val_loss: 0.5827 - val_accuracy: 0.6983\n",
            "Epoch 19/40\n",
            "30/30 [==============================] - 1s 43ms/step - loss: 0.5742 - accuracy: 0.7040 - val_loss: 0.5820 - val_accuracy: 0.6976\n",
            "Epoch 20/40\n",
            "30/30 [==============================] - 1s 43ms/step - loss: 0.5727 - accuracy: 0.7059 - val_loss: 0.5772 - val_accuracy: 0.7020\n",
            "Epoch 21/40\n",
            "30/30 [==============================] - 1s 41ms/step - loss: 0.5693 - accuracy: 0.7081 - val_loss: 0.5837 - val_accuracy: 0.6951\n",
            "Epoch 22/40\n",
            "30/30 [==============================] - 1s 41ms/step - loss: 0.5643 - accuracy: 0.7123 - val_loss: 0.5866 - val_accuracy: 0.6911\n",
            "Epoch 23/40\n",
            "30/30 [==============================] - 1s 41ms/step - loss: 0.5558 - accuracy: 0.7191 - val_loss: 0.5708 - val_accuracy: 0.7044\n",
            "Epoch 24/40\n",
            "30/30 [==============================] - 1s 41ms/step - loss: 0.5561 - accuracy: 0.7211 - val_loss: 0.5669 - val_accuracy: 0.7124\n",
            "Epoch 25/40\n",
            "30/30 [==============================] - 1s 41ms/step - loss: 0.5576 - accuracy: 0.7191 - val_loss: 0.5721 - val_accuracy: 0.7022\n",
            "Epoch 26/40\n",
            "30/30 [==============================] - 1s 41ms/step - loss: 0.5597 - accuracy: 0.7105 - val_loss: 0.5641 - val_accuracy: 0.7139\n",
            "Epoch 27/40\n",
            "30/30 [==============================] - 1s 41ms/step - loss: 0.5523 - accuracy: 0.7214 - val_loss: 0.5721 - val_accuracy: 0.7013\n",
            "Epoch 28/40\n",
            "30/30 [==============================] - 1s 41ms/step - loss: 0.5561 - accuracy: 0.7207 - val_loss: 0.5601 - val_accuracy: 0.7149\n",
            "Epoch 29/40\n",
            "30/30 [==============================] - 1s 42ms/step - loss: 0.5495 - accuracy: 0.7250 - val_loss: 0.5607 - val_accuracy: 0.7182\n",
            "Epoch 30/40\n",
            "30/30 [==============================] - 1s 41ms/step - loss: 0.5505 - accuracy: 0.7253 - val_loss: 0.5681 - val_accuracy: 0.7116\n",
            "Epoch 31/40\n",
            "30/30 [==============================] - 1s 41ms/step - loss: 0.5527 - accuracy: 0.7188 - val_loss: 0.5558 - val_accuracy: 0.7198\n",
            "Epoch 32/40\n",
            "30/30 [==============================] - 1s 41ms/step - loss: 0.5410 - accuracy: 0.7333 - val_loss: 0.5585 - val_accuracy: 0.7149\n",
            "Epoch 33/40\n",
            "30/30 [==============================] - 1s 41ms/step - loss: 0.5450 - accuracy: 0.7284 - val_loss: 0.5599 - val_accuracy: 0.7197\n",
            "Epoch 34/40\n",
            "30/30 [==============================] - 1s 41ms/step - loss: 0.5435 - accuracy: 0.7238 - val_loss: 0.5555 - val_accuracy: 0.7228\n",
            "Epoch 35/40\n",
            "30/30 [==============================] - 1s 41ms/step - loss: 0.5391 - accuracy: 0.7335 - val_loss: 0.5515 - val_accuracy: 0.7225\n",
            "Epoch 36/40\n",
            "30/30 [==============================] - 1s 41ms/step - loss: 0.5382 - accuracy: 0.7382 - val_loss: 0.5626 - val_accuracy: 0.7110\n",
            "Epoch 37/40\n",
            "30/30 [==============================] - 1s 41ms/step - loss: 0.5437 - accuracy: 0.7308 - val_loss: 0.5692 - val_accuracy: 0.7026\n",
            "Epoch 38/40\n",
            "30/30 [==============================] - 1s 42ms/step - loss: 0.5491 - accuracy: 0.7214 - val_loss: 0.5483 - val_accuracy: 0.7245\n",
            "Epoch 39/40\n",
            "30/30 [==============================] - 1s 43ms/step - loss: 0.5323 - accuracy: 0.7377 - val_loss: 0.5501 - val_accuracy: 0.7228\n",
            "Epoch 40/40\n",
            "30/30 [==============================] - 1s 43ms/step - loss: 0.5402 - accuracy: 0.7305 - val_loss: 0.5749 - val_accuracy: 0.7065\n"
          ],
          "name": "stdout"
        }
      ]
    },
    {
      "cell_type": "code",
      "metadata": {
        "colab": {
          "base_uri": "https://localhost:8080/",
          "height": 369
        },
        "id": "FYO6hsFQUzKQ",
        "outputId": "68ca93a5-421c-4c62-a403-a262504ac65c"
      },
      "source": [
        "from plot_keras_history import plot_history\r\n",
        "import matplotlib.pyplot as plt\r\n",
        "plot_history(history.history, path=\"standard.png\")\r\n",
        "plt.show()"
      ],
      "execution_count": 43,
      "outputs": [
        {
          "output_type": "display_data",
          "data": {
            "image/png": "[encoded data removed]",
            "text/plain": [
              "<Figure size 720x360 with 2 Axes>"
            ]
          },
          "metadata": {
            "tags": [],
            "needs_background": "light"
          }
        }
      ]
    },
    {
      "cell_type": "markdown",
      "metadata": {
        "id": "XisS32PaTATf"
      },
      "source": [
        "These two experiments show that adding extra dense layers can slightly improve accuracy over model 3-1.\n",
        "\n",
        "---\n",
        "\n"
      ]
    },
    {
      "cell_type": "markdown",
      "metadata": {
        "id": "CrfC9Mu-RHID"
      },
      "source": [
        "#  Model 5: CNN for Text Classification"
      ]
    },
    {
      "cell_type": "markdown",
      "metadata": {
        "id": "EPaFmFk1BMFf"
      },
      "source": [
        "In this section, we build a Convolutional Neural Network (CNN) for text classification. We start by using one CNN layer and then adding another layer. You could use embeddings from pre-trained or scratch."
      ]
    },
    {
      "cell_type": "markdown",
      "metadata": {
        "id": "zjOJrGCzwGM5"
      },
      "source": [
        "##  Model 5-1: Basic CNN model for Text Classification "
      ]
    },
    {
      "cell_type": "code",
      "metadata": {
        "colab": {
          "base_uri": "https://localhost:8080/"
        },
        "id": "rXBstOw0sCYF",
        "outputId": "45512ff8-1388-4f06-d8b7-c16baba0a8a4"
      },
      "source": [
        "hidden_layer=16\n",
        "from keras.layers.convolutional import Conv1D\n",
        "from keras.layers.convolutional import MaxPooling1D\n",
        "# Created a model with convolutional layer\n",
        "input_review = Input ( (MAX_SEQUENCE_LENGTH, ), dtype='int32')\n",
        "EMBED_SIZE = 300\n",
        "review_embed = Embedding(VOCAB_SIZE, EMBED_SIZE, name='embed_layer', input_length = MAX_SEQUENCE_LENGTH)(input_review)\n",
        "#embed = embeddingLayer2(input_review)\n",
        "cnn = Conv1D(filters = 100, kernel_size = 6,activation = 'relu')(review_embed)\n",
        "maxp = GlobalAveragePooling1DMasked() (cnn)\n",
        "label = Dense(1, activation = 'sigmoid') (maxp)\n",
        "\n",
        "model5 = Model(inputs=[input_review], outputs=[label])\n",
        "model5.summary()"
      ],
      "execution_count": 44,
      "outputs": [
        {
          "output_type": "stream",
          "text": [
            "Model: \"model_7\"\n",
            "_________________________________________________________________\n",
            "Layer (type)                 Output Shape              Param #   \n",
            "=================================================================\n",
            "input_8 (InputLayer)         [(None, 256)]             0         \n",
            "_________________________________________________________________\n",
            "embed_layer (Embedding)      (None, 256, 300)          3000000   \n",
            "_________________________________________________________________\n",
            "conv1d (Conv1D)              (None, 251, 100)          180100    \n",
            "_________________________________________________________________\n",
            "global_average_pooling1d_mas (None, 100)               0         \n",
            "_________________________________________________________________\n",
            "dense_16 (Dense)             (None, 1)                 101       \n",
            "=================================================================\n",
            "Total params: 3,180,201\n",
            "Trainable params: 3,180,201\n",
            "Non-trainable params: 0\n",
            "_________________________________________________________________\n"
          ],
          "name": "stdout"
        }
      ]
    },
    {
      "cell_type": "code",
      "metadata": {
        "id": "-G5MrDPJFBzK",
        "colab": {
          "base_uri": "https://localhost:8080/"
        },
        "outputId": "fc3f52d8-3485-4e99-d3c5-a1c578108c9d"
      },
      "source": [
        "# Train and test the model\n",
        "model5.compile(optimizer = 'adam', loss = 'binary_crossentropy',metrics=['accuracy'])\n",
        "history = model5.fit(partial_X_train,\n",
        "                    partial_y_train,\n",
        "                    epochs=40,\n",
        "                    batch_size=512,\n",
        "                    validation_data=(X_val, y_val),\n",
        "                    verbose=1)"
      ],
      "execution_count": 45,
      "outputs": [
        {
          "output_type": "stream",
          "text": [
            "Epoch 1/40\n",
            "30/30 [==============================] - 5s 132ms/step - loss: 0.6813 - accuracy: 0.5964 - val_loss: 0.5648 - val_accuracy: 0.7590\n",
            "Epoch 2/40\n",
            "30/30 [==============================] - 4s 127ms/step - loss: 0.4795 - accuracy: 0.8038 - val_loss: 0.3364 - val_accuracy: 0.8662\n",
            "Epoch 3/40\n",
            "30/30 [==============================] - 4s 126ms/step - loss: 0.2612 - accuracy: 0.9048 - val_loss: 0.2982 - val_accuracy: 0.8811\n",
            "Epoch 4/40\n",
            "30/30 [==============================] - 4s 126ms/step - loss: 0.1889 - accuracy: 0.9339 - val_loss: 0.2922 - val_accuracy: 0.8853\n",
            "Epoch 5/40\n",
            "30/30 [==============================] - 4s 125ms/step - loss: 0.1362 - accuracy: 0.9596 - val_loss: 0.3054 - val_accuracy: 0.8825\n",
            "Epoch 6/40\n",
            "30/30 [==============================] - 4s 126ms/step - loss: 0.1064 - accuracy: 0.9727 - val_loss: 0.3290 - val_accuracy: 0.8796\n",
            "Epoch 7/40\n",
            "30/30 [==============================] - 4s 126ms/step - loss: 0.0925 - accuracy: 0.9735 - val_loss: 0.3510 - val_accuracy: 0.8763\n",
            "Epoch 8/40\n",
            "30/30 [==============================] - 4s 125ms/step - loss: 0.0667 - accuracy: 0.9862 - val_loss: 0.3769 - val_accuracy: 0.8743\n",
            "Epoch 9/40\n",
            "30/30 [==============================] - 4s 126ms/step - loss: 0.0519 - accuracy: 0.9908 - val_loss: 0.4063 - val_accuracy: 0.8744\n",
            "Epoch 10/40\n",
            "30/30 [==============================] - 4s 125ms/step - loss: 0.0411 - accuracy: 0.9935 - val_loss: 0.4411 - val_accuracy: 0.8713\n",
            "Epoch 11/40\n",
            "30/30 [==============================] - 4s 126ms/step - loss: 0.0331 - accuracy: 0.9953 - val_loss: 0.4720 - val_accuracy: 0.8682\n",
            "Epoch 12/40\n",
            "30/30 [==============================] - 4s 125ms/step - loss: 0.0246 - accuracy: 0.9976 - val_loss: 0.5069 - val_accuracy: 0.8664\n",
            "Epoch 13/40\n",
            "30/30 [==============================] - 4s 126ms/step - loss: 0.0196 - accuracy: 0.9990 - val_loss: 0.5323 - val_accuracy: 0.8666\n",
            "Epoch 14/40\n",
            "30/30 [==============================] - 4s 127ms/step - loss: 0.0152 - accuracy: 0.9995 - val_loss: 0.5621 - val_accuracy: 0.8655\n",
            "Epoch 15/40\n",
            "30/30 [==============================] - 4s 127ms/step - loss: 0.0129 - accuracy: 0.9994 - val_loss: 0.5871 - val_accuracy: 0.8651\n",
            "Epoch 16/40\n",
            "30/30 [==============================] - 4s 130ms/step - loss: 0.0104 - accuracy: 0.9998 - val_loss: 0.6135 - val_accuracy: 0.8638\n",
            "Epoch 17/40\n",
            "30/30 [==============================] - 4s 131ms/step - loss: 0.0093 - accuracy: 0.9995 - val_loss: 0.6381 - val_accuracy: 0.8632\n",
            "Epoch 18/40\n",
            "30/30 [==============================] - 4s 130ms/step - loss: 0.0074 - accuracy: 0.9996 - val_loss: 0.6597 - val_accuracy: 0.8624\n",
            "Epoch 19/40\n",
            "30/30 [==============================] - 4s 131ms/step - loss: 0.0065 - accuracy: 0.9997 - val_loss: 0.6813 - val_accuracy: 0.8615\n",
            "Epoch 20/40\n",
            "30/30 [==============================] - 4s 132ms/step - loss: 0.0055 - accuracy: 0.9999 - val_loss: 0.7024 - val_accuracy: 0.8605\n",
            "Epoch 21/40\n",
            "30/30 [==============================] - 4s 132ms/step - loss: 0.0047 - accuracy: 0.9999 - val_loss: 0.7219 - val_accuracy: 0.8599\n",
            "Epoch 22/40\n",
            "30/30 [==============================] - 4s 131ms/step - loss: 0.0042 - accuracy: 1.0000 - val_loss: 0.7386 - val_accuracy: 0.8602\n",
            "Epoch 23/40\n",
            "30/30 [==============================] - 4s 132ms/step - loss: 0.0038 - accuracy: 1.0000 - val_loss: 0.7571 - val_accuracy: 0.8601\n",
            "Epoch 24/40\n",
            "30/30 [==============================] - 4s 132ms/step - loss: 0.0033 - accuracy: 0.9999 - val_loss: 0.7734 - val_accuracy: 0.8593\n",
            "Epoch 25/40\n",
            "30/30 [==============================] - 4s 131ms/step - loss: 0.0030 - accuracy: 1.0000 - val_loss: 0.7893 - val_accuracy: 0.8596\n",
            "Epoch 26/40\n",
            "30/30 [==============================] - 4s 129ms/step - loss: 0.0028 - accuracy: 1.0000 - val_loss: 0.8042 - val_accuracy: 0.8589\n",
            "Epoch 27/40\n",
            "30/30 [==============================] - 4s 130ms/step - loss: 0.0024 - accuracy: 1.0000 - val_loss: 0.8189 - val_accuracy: 0.8581\n",
            "Epoch 28/40\n",
            "30/30 [==============================] - 4s 132ms/step - loss: 0.0022 - accuracy: 1.0000 - val_loss: 0.8334 - val_accuracy: 0.8569\n",
            "Epoch 29/40\n",
            "30/30 [==============================] - 4s 131ms/step - loss: 0.0019 - accuracy: 1.0000 - val_loss: 0.8475 - val_accuracy: 0.8572\n",
            "Epoch 30/40\n",
            "30/30 [==============================] - 4s 131ms/step - loss: 0.0018 - accuracy: 0.9999 - val_loss: 0.8597 - val_accuracy: 0.8570\n",
            "Epoch 31/40\n",
            "30/30 [==============================] - 4s 130ms/step - loss: 0.0016 - accuracy: 1.0000 - val_loss: 0.8718 - val_accuracy: 0.8572\n",
            "Epoch 32/40\n",
            "30/30 [==============================] - 4s 133ms/step - loss: 0.0016 - accuracy: 1.0000 - val_loss: 0.8846 - val_accuracy: 0.8566\n",
            "Epoch 33/40\n",
            "30/30 [==============================] - 4s 131ms/step - loss: 0.0014 - accuracy: 1.0000 - val_loss: 0.8960 - val_accuracy: 0.8565\n",
            "Epoch 34/40\n",
            "30/30 [==============================] - 4s 130ms/step - loss: 0.0012 - accuracy: 1.0000 - val_loss: 0.9077 - val_accuracy: 0.8560\n",
            "Epoch 35/40\n",
            "30/30 [==============================] - 4s 132ms/step - loss: 0.0012 - accuracy: 1.0000 - val_loss: 0.9188 - val_accuracy: 0.8559\n",
            "Epoch 36/40\n",
            "30/30 [==============================] - 4s 131ms/step - loss: 0.0012 - accuracy: 1.0000 - val_loss: 0.9298 - val_accuracy: 0.8559\n",
            "Epoch 37/40\n",
            "30/30 [==============================] - 4s 131ms/step - loss: 0.0010 - accuracy: 1.0000 - val_loss: 0.9400 - val_accuracy: 0.8555\n",
            "Epoch 38/40\n",
            "30/30 [==============================] - 4s 132ms/step - loss: 9.5726e-04 - accuracy: 1.0000 - val_loss: 0.9502 - val_accuracy: 0.8554\n",
            "Epoch 39/40\n",
            "30/30 [==============================] - 4s 132ms/step - loss: 9.2918e-04 - accuracy: 1.0000 - val_loss: 0.9609 - val_accuracy: 0.8552\n",
            "Epoch 40/40\n",
            "30/30 [==============================] - 4s 132ms/step - loss: 8.4071e-04 - accuracy: 1.0000 - val_loss: 0.9700 - val_accuracy: 0.8551\n"
          ],
          "name": "stdout"
        }
      ]
    },
    {
      "cell_type": "code",
      "metadata": {
        "colab": {
          "base_uri": "https://localhost:8080/",
          "height": 265
        },
        "id": "8nvkxunysjhr",
        "outputId": "fa386a01-1cb7-4f94-cbbc-2d5484bbad8b"
      },
      "source": [
        "# your code goes here\n",
        "plt.scatter(history.epoch,history.history['loss'])\n",
        "plt.show()"
      ],
      "execution_count": 46,
      "outputs": [
        {
          "output_type": "display_data",
          "data": {
            "image/png": "[encoded data removed]",
            "text/plain": [
              "<Figure size 432x288 with 1 Axes>"
            ]
          },
          "metadata": {
            "tags": [],
            "needs_background": "light"
          }
        }
      ]
    },
    {
      "cell_type": "markdown",
      "metadata": {
        "id": "XkQMLxw-wWG6"
      },
      "source": [
        "## Model 5-2: Adding extra convolutional layer"
      ]
    },
    {
      "cell_type": "code",
      "metadata": {
        "colab": {
          "base_uri": "https://localhost:8080/"
        },
        "id": "7nvF662HOoqg",
        "outputId": "7424c100-5b0d-4da5-e270-eeee8de08a0e"
      },
      "source": [
        "# Added an extra convolutional layer\n",
        "from keras.layers.convolutional import Conv1D\n",
        "from keras.layers.convolutional import MaxPooling1D\n",
        "input_review = Input ( (MAX_SEQUENCE_LENGTH, ), dtype='int32')\n",
        "EMBED_SIZE = 300\n",
        "review_embed = Embedding(VOCAB_SIZE, EMBED_SIZE, name='embed_layer', input_length = MAX_SEQUENCE_LENGTH)(input_review)\n",
        "#embed = embeddingLayer2(input_review)\n",
        "cnn = Conv1D(filters = 100, kernel_size = 6,activation = 'relu')(review_embed)\n",
        "cnn1 = Conv1D(filters = 100, kernel_size = 6,activation = 'relu')(cnn)\n",
        "maxp = GlobalAveragePooling1DMasked() (cnn1)\n",
        "label = Dense(1, activation = 'sigmoid') (maxp)\n",
        "\n",
        "model6 = Model(inputs=[input_review], outputs=[label])\n",
        "model6.summary()"
      ],
      "execution_count": 47,
      "outputs": [
        {
          "output_type": "stream",
          "text": [
            "Model: \"model_8\"\n",
            "_________________________________________________________________\n",
            "Layer (type)                 Output Shape              Param #   \n",
            "=================================================================\n",
            "input_9 (InputLayer)         [(None, 256)]             0         \n",
            "_________________________________________________________________\n",
            "embed_layer (Embedding)      (None, 256, 300)          3000000   \n",
            "_________________________________________________________________\n",
            "conv1d_1 (Conv1D)            (None, 251, 100)          180100    \n",
            "_________________________________________________________________\n",
            "conv1d_2 (Conv1D)            (None, 246, 100)          60100     \n",
            "_________________________________________________________________\n",
            "global_average_pooling1d_mas (None, 100)               0         \n",
            "_________________________________________________________________\n",
            "dense_17 (Dense)             (None, 1)                 101       \n",
            "=================================================================\n",
            "Total params: 3,240,301\n",
            "Trainable params: 3,240,301\n",
            "Non-trainable params: 0\n",
            "_________________________________________________________________\n"
          ],
          "name": "stdout"
        }
      ]
    },
    {
      "cell_type": "code",
      "metadata": {
        "colab": {
          "base_uri": "https://localhost:8080/"
        },
        "id": "p4JyTclMLwSU",
        "outputId": "35414193-36a4-49e4-a860-ad5a70ac4e6a"
      },
      "source": [
        "# Train and test the model\n",
        "# your code goes here\n",
        "model6.compile(optimizer = 'adam', loss = 'binary_crossentropy',metrics=['accuracy'])\n",
        "history = model6.fit(partial_X_train,\n",
        "                    partial_y_train,\n",
        "                    epochs=40,\n",
        "                    batch_size=512,\n",
        "                    validation_data=(X_val, y_val),\n",
        "                    verbose=1)"
      ],
      "execution_count": 48,
      "outputs": [
        {
          "output_type": "stream",
          "text": [
            "Epoch 1/40\n",
            "30/30 [==============================] - 5s 148ms/step - loss: 0.6826 - accuracy: 0.5341 - val_loss: 0.4680 - val_accuracy: 0.7905\n",
            "Epoch 2/40\n",
            "30/30 [==============================] - 4s 142ms/step - loss: 0.3650 - accuracy: 0.8515 - val_loss: 0.3106 - val_accuracy: 0.8714\n",
            "Epoch 3/40\n",
            "30/30 [==============================] - 4s 143ms/step - loss: 0.1913 - accuracy: 0.9280 - val_loss: 0.3396 - val_accuracy: 0.8721\n",
            "Epoch 4/40\n",
            "30/30 [==============================] - 4s 144ms/step - loss: 0.1284 - accuracy: 0.9584 - val_loss: 0.3527 - val_accuracy: 0.8776\n",
            "Epoch 5/40\n",
            "30/30 [==============================] - 4s 145ms/step - loss: 0.0795 - accuracy: 0.9764 - val_loss: 0.4533 - val_accuracy: 0.8606\n",
            "Epoch 6/40\n",
            "30/30 [==============================] - 4s 142ms/step - loss: 0.0588 - accuracy: 0.9823 - val_loss: 0.4879 - val_accuracy: 0.8667\n",
            "Epoch 7/40\n",
            "30/30 [==============================] - 4s 142ms/step - loss: 0.0312 - accuracy: 0.9931 - val_loss: 0.5844 - val_accuracy: 0.8601\n",
            "Epoch 8/40\n",
            "30/30 [==============================] - 4s 142ms/step - loss: 0.0193 - accuracy: 0.9977 - val_loss: 0.6321 - val_accuracy: 0.8644\n",
            "Epoch 9/40\n",
            "30/30 [==============================] - 4s 144ms/step - loss: 0.0105 - accuracy: 0.9993 - val_loss: 0.7031 - val_accuracy: 0.8624\n",
            "Epoch 10/40\n",
            "30/30 [==============================] - 4s 142ms/step - loss: 0.0074 - accuracy: 0.9993 - val_loss: 0.7689 - val_accuracy: 0.8613\n",
            "Epoch 11/40\n",
            "30/30 [==============================] - 4s 144ms/step - loss: 0.0042 - accuracy: 0.9997 - val_loss: 0.8190 - val_accuracy: 0.8629\n",
            "Epoch 12/40\n",
            "30/30 [==============================] - 4s 145ms/step - loss: 0.0033 - accuracy: 0.9997 - val_loss: 0.8619 - val_accuracy: 0.8605\n",
            "Epoch 13/40\n",
            "30/30 [==============================] - 4s 143ms/step - loss: 0.0022 - accuracy: 0.9999 - val_loss: 0.9008 - val_accuracy: 0.8602\n",
            "Epoch 14/40\n",
            "30/30 [==============================] - 4s 143ms/step - loss: 0.0018 - accuracy: 0.9999 - val_loss: 0.9356 - val_accuracy: 0.8598\n",
            "Epoch 15/40\n",
            "30/30 [==============================] - 4s 142ms/step - loss: 0.0013 - accuracy: 1.0000 - val_loss: 0.9669 - val_accuracy: 0.8589\n",
            "Epoch 16/40\n",
            "30/30 [==============================] - 4s 141ms/step - loss: 0.0013 - accuracy: 0.9998 - val_loss: 0.9962 - val_accuracy: 0.8587\n",
            "Epoch 17/40\n",
            "30/30 [==============================] - 4s 142ms/step - loss: 9.1865e-04 - accuracy: 1.0000 - val_loss: 1.0226 - val_accuracy: 0.8591\n",
            "Epoch 18/40\n",
            "30/30 [==============================] - 4s 144ms/step - loss: 8.5130e-04 - accuracy: 0.9999 - val_loss: 1.0478 - val_accuracy: 0.8585\n",
            "Epoch 19/40\n",
            "30/30 [==============================] - 4s 142ms/step - loss: 6.7608e-04 - accuracy: 1.0000 - val_loss: 1.0717 - val_accuracy: 0.8586\n",
            "Epoch 20/40\n",
            "30/30 [==============================] - 4s 143ms/step - loss: 6.0716e-04 - accuracy: 1.0000 - val_loss: 1.0925 - val_accuracy: 0.8589\n",
            "Epoch 21/40\n",
            "30/30 [==============================] - 4s 142ms/step - loss: 5.6531e-04 - accuracy: 1.0000 - val_loss: 1.1143 - val_accuracy: 0.8574\n",
            "Epoch 22/40\n",
            "30/30 [==============================] - 4s 141ms/step - loss: 4.5039e-04 - accuracy: 1.0000 - val_loss: 1.1337 - val_accuracy: 0.8573\n",
            "Epoch 23/40\n",
            "30/30 [==============================] - 4s 142ms/step - loss: 4.1259e-04 - accuracy: 1.0000 - val_loss: 1.1526 - val_accuracy: 0.8572\n",
            "Epoch 24/40\n",
            "30/30 [==============================] - 4s 141ms/step - loss: 3.6933e-04 - accuracy: 1.0000 - val_loss: 1.1709 - val_accuracy: 0.8570\n",
            "Epoch 25/40\n",
            "30/30 [==============================] - 4s 141ms/step - loss: 3.1265e-04 - accuracy: 1.0000 - val_loss: 1.1868 - val_accuracy: 0.8570\n",
            "Epoch 26/40\n",
            "30/30 [==============================] - 4s 140ms/step - loss: 2.9904e-04 - accuracy: 1.0000 - val_loss: 1.2032 - val_accuracy: 0.8568\n",
            "Epoch 27/40\n",
            "30/30 [==============================] - 4s 143ms/step - loss: 2.7485e-04 - accuracy: 1.0000 - val_loss: 1.2187 - val_accuracy: 0.8572\n",
            "Epoch 28/40\n",
            "30/30 [==============================] - 4s 143ms/step - loss: 2.2438e-04 - accuracy: 1.0000 - val_loss: 1.2335 - val_accuracy: 0.8571\n",
            "Epoch 29/40\n",
            "30/30 [==============================] - 4s 144ms/step - loss: 2.2837e-04 - accuracy: 1.0000 - val_loss: 1.2486 - val_accuracy: 0.8568\n",
            "Epoch 30/40\n",
            "30/30 [==============================] - 4s 140ms/step - loss: 2.1236e-04 - accuracy: 1.0000 - val_loss: 1.2615 - val_accuracy: 0.8565\n",
            "Epoch 31/40\n",
            "30/30 [==============================] - 4s 142ms/step - loss: 1.8602e-04 - accuracy: 1.0000 - val_loss: 1.2763 - val_accuracy: 0.8566\n",
            "Epoch 32/40\n",
            "30/30 [==============================] - 4s 141ms/step - loss: 1.6997e-04 - accuracy: 1.0000 - val_loss: 1.2882 - val_accuracy: 0.8561\n",
            "Epoch 33/40\n",
            "30/30 [==============================] - 4s 142ms/step - loss: 1.5138e-04 - accuracy: 1.0000 - val_loss: 1.3007 - val_accuracy: 0.8562\n",
            "Epoch 34/40\n",
            "30/30 [==============================] - 4s 141ms/step - loss: 1.4512e-04 - accuracy: 1.0000 - val_loss: 1.3138 - val_accuracy: 0.8562\n",
            "Epoch 35/40\n",
            "30/30 [==============================] - 4s 143ms/step - loss: 1.2839e-04 - accuracy: 1.0000 - val_loss: 1.3250 - val_accuracy: 0.8559\n",
            "Epoch 36/40\n",
            "30/30 [==============================] - 4s 144ms/step - loss: 1.2906e-04 - accuracy: 1.0000 - val_loss: 1.3371 - val_accuracy: 0.8558\n",
            "Epoch 37/40\n",
            "30/30 [==============================] - 4s 142ms/step - loss: 1.0895e-04 - accuracy: 1.0000 - val_loss: 1.3486 - val_accuracy: 0.8554\n",
            "Epoch 38/40\n",
            "30/30 [==============================] - 4s 141ms/step - loss: 1.1194e-04 - accuracy: 1.0000 - val_loss: 1.3587 - val_accuracy: 0.8555\n",
            "Epoch 39/40\n",
            "30/30 [==============================] - 4s 142ms/step - loss: 9.4415e-05 - accuracy: 1.0000 - val_loss: 1.3692 - val_accuracy: 0.8557\n",
            "Epoch 40/40\n",
            "30/30 [==============================] - 4s 139ms/step - loss: 9.3155e-05 - accuracy: 1.0000 - val_loss: 1.3796 - val_accuracy: 0.8555\n"
          ],
          "name": "stdout"
        }
      ]
    },
    {
      "cell_type": "code",
      "metadata": {
        "colab": {
          "base_uri": "https://localhost:8080/",
          "height": 265
        },
        "id": "T2-fqNHiRRIe",
        "outputId": "f6751dec-e66c-40f6-ea40-cb7e5204f672"
      },
      "source": [
        "# your code goes here\n",
        "plt.scatter(history.epoch,history.history['loss'])\n",
        "plt.show()"
      ],
      "execution_count": 49,
      "outputs": [
        {
          "output_type": "display_data",
          "data": {
            "image/png": "[encoded data removed]",
            "text/plain": [
              "<Figure size 432x288 with 1 Axes>"
            ]
          },
          "metadata": {
            "tags": [],
            "needs_background": "light"
          }
        }
      ]
    },
    {
      "cell_type": "markdown",
      "metadata": {
        "id": "Kx--Ytk3ZbLo"
      },
      "source": [
        "Although adding layer here reduces the training loss, the evaluation accuracy is worse than the model without the extra convolutional layer.\n",
        "\n",
        "Adding more layers can help you to extract more features. But we can do that up to a certain extent. After some point, instead of extracting features, we tend to overfit the data. Overfitting can lead to errors in on form or another, such as false positives. It is not easy to choose the number of units in a hidden layer or the number of hidden layers in a neural network. For many applications, one hidden layer is enough. As a general rule, the number of units in that hidden layer is between the number of inputs and the number of outputs.\n",
        " The best way to decide on the number of units and hidden layers is to try various parameters. Train several neural networks with different numbers of hidden layers and neurons, and monitor the performance of them. You will have to experiment using a series of different architectures. \n",
        "\n",
        "\n",
        "\n"
      ]
    },
    {
      "cell_type": "markdown",
      "metadata": {
        "id": "gn2GSV4ioyO2"
      },
      "source": [
        "\n",
        "\n",
        "---\n",
        "\n"
      ]
    }
  ]
}