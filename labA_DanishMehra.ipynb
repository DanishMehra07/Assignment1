{
  "nbformat": 4,
  "nbformat_minor": 0,
  "metadata": {
    "colab": {
      "name": "labA_DanishMehra.ipynb",
      "provenance": [],
      "collapsed_sections": []
    },
    "kernelspec": {
      "display_name": "Python 3",
      "name": "python3"
    }
  },
  "cells": [
    {
      "cell_type": "markdown",
      "metadata": {
        "id": "t_yvQBKrD8Se"
      },
      "source": [
        "# **ECS 7001 - NN & NNLP**\r\n",
        "\r\n",
        "## **Lab 2: Skip-gram Model for Word2Vec**\r\n",
        "\r\n",
        "<br>\r\n",
        "\r\n",
        "**1st February**\r\n",
        "\r\n",
        "There are two Word2Vec architectures for creating word embeddings: the Continuous Bag of Words (CBOW) architecture and the Skip Gram architecture . In this lab, we will obtain our own word embeddings by training a skip-gram neural network model. Some of the code for this will be supplied here but in some sections, you will be required to implement the code yourself. Hints and\r\n",
        "tips will be provided.\r\n",
        "\r\n",
        "\r\n",
        "The skip gram model is essentially a feedforward neural network with one hidden layer, trained to predict the context word given a target word. There are two ways to train this model: (1) using a hierarchical softmax function and/or (2) by negative sampling. In this lab, we will be training using\r\n",
        "negative sampling. To train with negative sampling, the model is cast as a binary classification problem. The dataset would consist of positive and negative examples of the form:\r\n",
        "\r\n",
        "Input | label\r\n",
        "--| --\r\n",
        "(target_word, word_in_its_context)       |  1 \r\n",
        "(target_word, word_not_in_its_context)   |  0\r\n",
        "\r\n",
        "created from the sentences in a corpus. The exact number of positive and negative examples will depend on the window size, and the balance ratio of positive:negative examples.  \r\n",
        "\r\n",
        "As an example, consider the sentence: “ **The quick brown\r\n",
        "fox jumped over the lazy dog** ”. For the target word ' **fox** ' and a window size of 2, all the positive and negative examples drawn from this sentence would be:\r\n",
        "\r\n",
        "Input | label\r\n",
        "--| --\r\n",
        "(fox, the) | 0\r\n",
        "(fox, quick) | 1\r\n",
        "(fox, brown) | 1\r\n",
        "(fox, jumped) | 1\r\n",
        "(fox, over) |1\r\n",
        "(fox, lazy) | 0\r\n",
        "(fox, dog) | 0\r\n",
        "\r\n",
        "The model is trained to learn to predict 1 when a word is in the context of the target word (i.e.in the window of the target word) and 0 otherwise. The model thus learns the statistics of the given corpus: the frequency with two words appear together would determine how similar they are (similarity is usually measured using cosine distance). After training, the trained hidden layer weights are the word embeddings.\r\n",
        "\r\n"
      ]
    },
    {
      "cell_type": "markdown",
      "metadata": {
        "id": "Ep2X91YdJpkG"
      },
      "source": [
        "### **0. Prepare the environment**\r\n",
        "\r\n",
        "Open Google Colab or activate the virtual environment you’ve created"
      ]
    },
    {
      "cell_type": "markdown",
      "metadata": {
        "id": "w6Pi5uvTLRCo"
      },
      "source": [
        "### **1. Downloading the Corpus**\r\n",
        "\r\n",
        "Our training data will be comprised of 3 documents from the Gutenberg corpus. We can find this and other corpora in nltk https://www.nltk.org/book/ch02.html"
      ]
    },
    {
      "cell_type": "code",
      "metadata": {
        "colab": {
          "base_uri": "https://localhost:8080/"
        },
        "id": "xn7sWMG-KoBV",
        "outputId": "e38d3727-13e5-4bb3-bd0b-22e5a95ecdca"
      },
      "source": [
        "import nltk\r\n",
        "import re\r\n",
        "nltk.download('punkt')\r\n",
        "nltk.download('gutenberg')\r\n",
        "from nltk.corpus import gutenberg\r\n",
        "nltk.download('stopwords')\r\n",
        "from nltk.corpus import stopwords\r\n",
        "from nltk.tokenize import RegexpTokenizer\r\n",
        "austen = gutenberg.sents('austen-sense.txt') + gutenberg.sents('austen-emma.txt') + gutenberg.sents('austen-persuasion.txt')\r\n",
        "import pandas as pd\r\n"
      ],
      "execution_count": 6,
      "outputs": [
        {
          "output_type": "stream",
          "text": [
            "[nltk_data] Downloading package punkt to /root/nltk_data...\n",
            "[nltk_data]   Package punkt is already up-to-date!\n",
            "[nltk_data] Downloading package gutenberg to /root/nltk_data...\n",
            "[nltk_data]   Unzipping corpora/gutenberg.zip.\n",
            "[nltk_data] Downloading package stopwords to /root/nltk_data...\n",
            "[nltk_data]   Package stopwords is already up-to-date!\n"
          ],
          "name": "stdout"
        }
      ]
    },
    {
      "cell_type": "markdown",
      "metadata": {
        "id": "PYD16ST1MIOf"
      },
      "source": [
        "**Sanity check:**\r\n",
        "\r\n",
        "This training corpus contains 16498 sentences. The following print statement should return 16498."
      ]
    },
    {
      "cell_type": "code",
      "metadata": {
        "colab": {
          "base_uri": "https://localhost:8080/"
        },
        "id": "yCH0PmPcL83f",
        "outputId": "478006b4-a5b6-4c13-d862-ec3af71befd0"
      },
      "source": [
        "print(len(austen))"
      ],
      "execution_count": 7,
      "outputs": [
        {
          "output_type": "stream",
          "text": [
            "16498\n"
          ],
          "name": "stdout"
        }
      ]
    },
    {
      "cell_type": "code",
      "metadata": {
        "colab": {
          "base_uri": "https://localhost:8080/"
        },
        "id": "APFWiEejv9i5",
        "outputId": "96dcac2d-8fd7-4ca5-bb48-59b2747e1f04"
      },
      "source": [
        "austen[0]"
      ],
      "execution_count": 8,
      "outputs": [
        {
          "output_type": "execute_result",
          "data": {
            "text/plain": [
              "['[', 'Sense', 'and', 'Sensibility', 'by', 'Jane', 'Austen', '1811', ']']"
            ]
          },
          "metadata": {
            "tags": []
          },
          "execution_count": 8
        }
      ]
    },
    {
      "cell_type": "markdown",
      "metadata": {
        "id": "4c14vElNvMGX"
      },
      "source": [
        "### **2. Preprocessing the Training Corpus**\r\n",
        "\r\n",
        "In this section, you will write code to remove special characters, empty strings, digits and\r\n",
        "stopwords from the sentences and put all the words into lower cases. You might also consider removing sentences with fewer than 3 words or at least empty sentences.\r\n",
        "\r\n",
        "\r\n",
        "**Hints:**\r\n",
        "*   The corpus can be accessed as you would a tokenized list, a list of lists, each inner list contains all the tokens in the sentence. Eg:\r\n",
        "\\>> austen[0] =['[', 'Sense', 'and', 'Sensibility', 'by','Jane', 'Austen', '1811', ']']\r\n",
        "\r\n",
        "*   the python <string> library contains a variable “punctuation”, a string containing all\r\n",
        "the special characters.\r\n",
        "\r\n",
        "*   You might want to write a function that takes the corpus as an argument and returns the preprocessed corpus as a list of lists.\r\n",
        "\r\n",
        " Alternatively, you can use the keras preprocessing library to preprocess the text. More information on the library can be found here:\r\n",
        "https://keras.io/preprocessing/text/\r\n",
        "\r\n",
        "\r\n",
        "**Sanity check:**\r\n",
        "\r\n",
        "After preprocessing the corpus, as a sanity check, print the following line of code. If you chose removed sentences of length with fewer than 3 words, it should be about 13651. \r\n",
        "\r\n",
        "As a test for your preprocessing function, preprocess the sample below and print the output of your function."
      ]
    },
    {
      "cell_type": "code",
      "metadata": {
        "colab": {
          "base_uri": "https://localhost:8080/"
        },
        "id": "V2SIxzvwybiv",
        "outputId": "5e844890-1d88-4cc3-9905-b97a990cc3b5"
      },
      "source": [
        "def preprocess_corpus(corpus):\r\n",
        "    '''\r\n",
        "    Write code for preprocessing corpus here\r\n",
        "    '''\r\n",
        "    print(corpus)\r\n",
        "    tokens = []\r\n",
        "    list1 = []\r\n",
        "    stop = set(stopwords.words('english')) #Stop words\r\n",
        "    for words in corpus:\r\n",
        "      sentences = []\r\n",
        "      for word in words:\r\n",
        "        word = re.sub(r'[^ A-Za-z0-9|]','',word)\r\n",
        "        word = re.sub(\"\\d+\",'',word)\r\n",
        "        if word:\r\n",
        "          if word not in stop:\r\n",
        "            sentences.append(word)\r\n",
        "      tokens.append(sentences)\r\n",
        "    for i in tokens:\r\n",
        "      if len(i) <= 3:\r\n",
        "        pass\r\n",
        "      else:\r\n",
        "        list1.append(i)\r\n",
        "    #normalized_corpus = [t for t in tokens if t not in stop]\r\n",
        "    #print(list1[2])\r\n",
        "    return list1\r\n",
        "\r\n",
        "normalized_corpus = preprocess_corpus(austen)\r\n",
        "print('The new length of the preprocessed output')\r\n",
        "print(len(normalized_corpus))\r\n",
        "print(normalized_corpus[:5])"
      ],
      "execution_count": 9,
      "outputs": [
        {
          "output_type": "stream",
          "text": [
            "[['[', 'Sense', 'and', 'Sensibility', 'by', 'Jane', 'Austen', '1811', ']'], ['CHAPTER', '1'], ...]\n",
            "The new length of the preprocessed output\n",
            "13660\n",
            "[['Sense', 'Sensibility', 'Jane', 'Austen'], ['The', 'family', 'Dashwood', 'long', 'settled', 'Sussex'], ['Their', 'estate', 'large', 'residence', 'Norland', 'Park', 'centre', 'property', 'many', 'generations', 'lived', 'respectable', 'manner', 'engage', 'general', 'good', 'opinion', 'surrounding', 'acquaintance'], ['The', 'late', 'owner', 'estate', 'single', 'man', 'lived', 'advanced', 'age', 'many', 'years', 'life', 'constant', 'companion', 'housekeeper', 'sister'], ['But', 'death', 'happened', 'ten', 'years', 'produced', 'great', 'alteration', 'home', 'supply', 'loss', 'invited', 'received', 'house', 'family', 'nephew', 'Mr', 'Henry', 'Dashwood', 'legal', 'inheritor', 'Norland', 'estate', 'person', 'intended', 'bequeath']]\n"
          ],
          "name": "stdout"
        }
      ]
    },
    {
      "cell_type": "code",
      "metadata": {
        "colab": {
          "base_uri": "https://localhost:8080/"
        },
        "id": "tJ1qxoq-8Kob",
        "outputId": "77f102b1-58c1-4777-9f75-e506527e830f"
      },
      "source": [
        "sample = austen[:2] + austen[100:102]\r\n",
        "preprocessed_sample = preprocess_corpus(sample)\r\n",
        "\r\n",
        "\r\n",
        "print(len(sample), sample)\r\n",
        "print()\r\n",
        "print(len(preprocessed_sample), preprocessed_sample)"
      ],
      "execution_count": 10,
      "outputs": [
        {
          "output_type": "stream",
          "text": [
            "[['[', 'Sense', 'and', 'Sensibility', 'by', 'Jane', 'Austen', '1811', ']'], ['CHAPTER', '1'], ['But', ',', 'then', ',', 'if', 'Mrs', '.', 'Dashwood', 'should', 'live', 'fifteen', 'years', 'we', 'shall', 'be', 'completely', 'taken', 'in', '.\"'], ['\"', 'Fifteen', 'years', '!']]\n",
            "4 [['[', 'Sense', 'and', 'Sensibility', 'by', 'Jane', 'Austen', '1811', ']'], ['CHAPTER', '1'], ['But', ',', 'then', ',', 'if', 'Mrs', '.', 'Dashwood', 'should', 'live', 'fifteen', 'years', 'we', 'shall', 'be', 'completely', 'taken', 'in', '.\"'], ['\"', 'Fifteen', 'years', '!']]\n",
            "\n",
            "2 [['Sense', 'Sensibility', 'Jane', 'Austen'], ['But', 'Mrs', 'Dashwood', 'live', 'fifteen', 'years', 'shall', 'completely', 'taken']]\n"
          ],
          "name": "stdout"
        }
      ]
    },
    {
      "cell_type": "markdown",
      "metadata": {
        "id": "rghchHA66d-V"
      },
      "source": [
        "### **3. Creating the Corpus Vocabulary and Preparing the Data**\r\n",
        "\r\n",
        "\r\n",
        "To prepare the data for machine learning, you will write code to prepare 3 variables:\r\n",
        "\r\n",
        "1. \\<word2idx>: a lookup table, a dictionary of (word index: word) pairs where **word index** is a unique integer assigned to every **unique word** in the corpus.\r\n",
        "2. \\<idx2word>: a dictionary of (token: token index), a reversal of \\<word2idx>. \r\n",
        "3. \\<sents_as_ids>: The input to the model cannot be text, rather, each word needs to be represented by a unique integer and each sentence an array of integers.\r\n",
        "\r\n",
        "\r\n",
        "The incomplete code provided below is just a guide. "
      ]
    },
    {
      "cell_type": "code",
      "metadata": {
        "id": "gmqUdSuU8PyK"
      },
      "source": [
        "word2idx = {}\r\n",
        "idx2word = {}\r\n",
        "\r\n",
        "\r\n",
        "def prepareData(normalized_corpus):\r\n",
        "    '''\r\n",
        "    '''\r\n",
        "    x = []\r\n",
        "    for i in normalized_corpus:\r\n",
        "      for j in i:\r\n",
        "        if j in x:\r\n",
        "          pass\r\n",
        "        else:\r\n",
        "          x.append(j)\r\n",
        "    m =[]\r\n",
        "    for l in range(1,len(x)+1):\r\n",
        "      m.append(l)\r\n",
        "    word2idx = dict(zip(x,m))\r\n",
        "    #print(word2idx.get('Sensibility'))\r\n",
        "    return word2idx\r\n",
        "word2idx = prepareData(normalized_corpus)\r\n",
        "idx2word = {v: k for k, v in word2idx.items()}\r\n",
        "\r\n",
        "def prepareSentsAsId(normalized_corpus):\r\n",
        "    '''\r\n",
        "    '''\r\n",
        "    sents_as_ids = []\r\n",
        "    word2idx = prepareData(normalized_corpus)\r\n",
        "    for i in normalized_corpus:\r\n",
        "      C = (pd.Series(i)).map(word2idx)\r\n",
        "      D = list(C)\r\n",
        "      sents_as_ids.append(D)\r\n",
        "    return sents_as_ids"
      ],
      "execution_count": 11,
      "outputs": []
    },
    {
      "cell_type": "code",
      "metadata": {
        "colab": {
          "base_uri": "https://localhost:8080/"
        },
        "id": "HLDPV4PGwr3B",
        "outputId": "70e7fb58-72a1-406d-9383-eb20baefc635"
      },
      "source": [
        "print('Number of unique words:', len(word2idx))"
      ],
      "execution_count": 12,
      "outputs": [
        {
          "output_type": "stream",
          "text": [
            "Number of unique words: 10808\n"
          ],
          "name": "stdout"
        }
      ]
    },
    {
      "cell_type": "code",
      "metadata": {
        "colab": {
          "base_uri": "https://localhost:8080/"
        },
        "id": "QJW2KcIjwazT",
        "outputId": "e33b0261-2ebd-482e-d5b1-b940f8651c93"
      },
      "source": [
        "print('\\nSample word2idx: ', list(word2idx.items())[:10])"
      ],
      "execution_count": 13,
      "outputs": [
        {
          "output_type": "stream",
          "text": [
            "\n",
            "Sample word2idx:  [('Sense', 1), ('Sensibility', 2), ('Jane', 3), ('Austen', 4), ('The', 5), ('family', 6), ('Dashwood', 7), ('long', 8), ('settled', 9), ('Sussex', 10)]\n"
          ],
          "name": "stdout"
        }
      ]
    },
    {
      "cell_type": "code",
      "metadata": {
        "colab": {
          "base_uri": "https://localhost:8080/"
        },
        "id": "RzgT90aOw_7_",
        "outputId": "00022972-a4ec-4428-89de-f13c2cd2e86b"
      },
      "source": [
        "print('\\nSample idx2word:', list(idx2word.items())[:10])"
      ],
      "execution_count": 14,
      "outputs": [
        {
          "output_type": "stream",
          "text": [
            "\n",
            "Sample idx2word: [(1, 'Sense'), (2, 'Sensibility'), (3, 'Jane'), (4, 'Austen'), (5, 'The'), (6, 'family'), (7, 'Dashwood'), (8, 'long'), (9, 'settled'), (10, 'Sussex')]\n"
          ],
          "name": "stdout"
        }
      ]
    },
    {
      "cell_type": "code",
      "metadata": {
        "colab": {
          "base_uri": "https://localhost:8080/"
        },
        "id": "jXQa20Ta0KFk",
        "outputId": "0875e001-2d62-4bfb-d97c-cdd04cc7ab77"
      },
      "source": [
        "print('\\nSample sents_as_id:', prepareSentsAsId(preprocessed_sample))"
      ],
      "execution_count": 15,
      "outputs": [
        {
          "output_type": "stream",
          "text": [
            "\n",
            "Sample sents_as_id: [[1, 2, 3, 4], [5, 6, 7, 8, 9, 10, 11, 12, 13]]\n"
          ],
          "name": "stdout"
        }
      ]
    },
    {
      "cell_type": "markdown",
      "metadata": {
        "id": "DCa7VGc59bCD"
      },
      "source": [
        "**Sanity Check**\r\n",
        "\r\n",
        "Copy and run the following lines of code:\r\n",
        "\r\n",
        "```\r\n",
        "print('Number of unique words:', len(word2idx)**\r\n",
        "```\r\n",
        "Returns a number between 9800 and 12000, the exact number depends on your preprocessing step. \r\n",
        "\r\n",
        "```\r\n",
        "print('\\nSample word2idx: ', list(word2idx.items())[:10])\r\n",
        "```\r\n",
        "\r\n",
        "Sample word2idx:  [('sense', 0), ('sensibility', 1), ('jane', 2), ('austen', 3), ('the', 4), ('family', 5), ('dashwood', 6), ('long', 7), ('settled', 8), ('sussex', 9)]\r\n",
        "\r\n",
        "\r\n",
        "```\r\n",
        "print('\\nSample idx2word:', list(idx2word.items())[:10])**\r\n",
        "```\r\n",
        "\r\n",
        "Sample idx2word: [(1, 'could'), (2, 'would'), (3, 'mr'), (4, 'mrs'), (5, 'must'), (6, 'said'), (7, 'one'), (8, 'much'), (9, 'miss'), (10, 'every')]\r\n",
        "\r\n",
        "```\r\n",
        "print('\\nSample sents_as_id:', prepareSentsAsId(preprocessed_sample))\r\n",
        "```\r\n",
        "\r\n",
        "Sample sents_as_id: [[0, 1, 2, 3], [41, 72, 6, 201, 619, 35, 620, 296, 621]]\r\n",
        "\r\n"
      ]
    },
    {
      "cell_type": "markdown",
      "metadata": {
        "id": "Uqw71xzzeYSm"
      },
      "source": [
        "After you have created the three variables, set the <vocab_size> and <embed_size> variables with the following commands:"
      ]
    },
    {
      "cell_type": "code",
      "metadata": {
        "id": "WGsp5Lij8qUd"
      },
      "source": [
        "VOCAB_SIZE = len(word2idx) \r\n",
        "EMBED_SIZE = 100 # We are creating 100D embeddings."
      ],
      "execution_count": 16,
      "outputs": []
    },
    {
      "cell_type": "code",
      "metadata": {
        "colab": {
          "base_uri": "https://localhost:8080/"
        },
        "id": "u_yjd5kgqiZi",
        "outputId": "8d143afd-fe32-4a8d-edc8-eb6dd019c162"
      },
      "source": [
        "print('Number of unique words:', len(word2idx))"
      ],
      "execution_count": 17,
      "outputs": [
        {
          "output_type": "stream",
          "text": [
            "Number of unique words: 10808\n"
          ],
          "name": "stdout"
        }
      ]
    },
    {
      "cell_type": "markdown",
      "metadata": {
        "id": "WXhJNdf9TIed"
      },
      "source": [
        "### **4. Generating training instances**\r\n",
        "\r\n",
        "\r\n",
        "In this section we would generate the training examples of the format shown in introduction using the keras skip-gram generator https://keras.io/preprocessing/sequence/ "
      ]
    },
    {
      "cell_type": "code",
      "metadata": {
        "id": "e3g0FLzb7ivg"
      },
      "source": [
        "from keras.preprocessing.sequence import skipgrams\r\n",
        "\r\n",
        "sent_as_ids = prepareSentsAsId(normalized_corpus)\r\n",
        "skip_grams = []# your code for generating training examples goes here\r\n",
        "\r\n",
        "for a in sent_as_ids:\r\n",
        "  skip_grams.append(skipgrams(a,len(word2idx),window_size = 2))"
      ],
      "execution_count": 19,
      "outputs": []
    },
    {
      "cell_type": "markdown",
      "metadata": {
        "id": "EDyy65QlTyf2"
      },
      "source": [
        "**Sanity Check:**\r\n",
        "\r\n",
        "To view the skip_grams for the first sentence in the training data, run the line of code that follows. The output should look like:\r\n",
        "\r\n",
        "(austen (3), sensibility (1)) -> 1\r\n",
        "\r\n",
        "(austen (3), jane (2)) -> 1\r\n",
        "\r\n",
        "(jane (2), sensibility (1)) -> 1\r\n",
        "\r\n",
        "(jane (2), walked (2639)) -> 0\r\n",
        "\r\n",
        "(jane (2), partridge (7948)) -> 0\r\n",
        "\r\n",
        "(sensibility (1), austen (3)) -> 1\r\n",
        "\r\n",
        "(sensibility (1), beneficial (5587)) -> 0\r\n",
        "\r\n",
        "(sensibility (1), jane (2)) -> 1\r\n",
        "\r\n",
        "(sensibility (1), dreamt (8308)) -> 0\r\n",
        "\r\n",
        "(austen (3), perception (6543)) -> 0\r\n",
        "\r\n",
        "(jane (2), austen (3)) -> 1\r\n",
        "\r\n",
        "(austen (3), imposing (8622)) -> 0\r\n"
      ]
    },
    {
      "cell_type": "code",
      "metadata": {
        "colab": {
          "base_uri": "https://localhost:8080/"
        },
        "id": "Qa072PMvTvde",
        "outputId": "07fa4a8b-8cb0-4811-8ddb-de358ec57658"
      },
      "source": [
        "pairs, labels = skip_grams[0][0], skip_grams[0][1]\r\n",
        "\r\n",
        "for i in range(len(pairs)):\r\n",
        "         \tprint('({:s} ({:d}), {:s} ({:d})) -> {:d}'.format(\r\n",
        "        \t# the first word and its index\r\n",
        "        \tidx2word[pairs[i][0]], pairs[i][0],\r\n",
        "        \t# the second word and its index\r\n",
        "        \tidx2word[pairs[i][1]], pairs[i][1],\r\n",
        "        \t# the label\r\n",
        "        \tlabels[i]))\r\n"
      ],
      "execution_count": 20,
      "outputs": [
        {
          "output_type": "stream",
          "text": [
            "(Jane (3), Austen (4)) -> 1\n",
            "(Sense (1), Jane (3)) -> 1\n",
            "(Jane (3), taste (1015)) -> 0\n",
            "(Jane (3), Sense (1)) -> 1\n",
            "(Sensibility (2), Jane (3)) -> 1\n",
            "(Jane (3), Sensibility (2)) -> 1\n",
            "(Sensibility (2), teazing (5217)) -> 0\n",
            "(Sense (1), Sensibility (2)) -> 1\n",
            "(Jane (3), charade (7074)) -> 0\n",
            "(Sensibility (2), Austen (4)) -> 1\n",
            "(Sensibility (2), fury (5349)) -> 0\n",
            "(Sense (1), dearest (1115)) -> 0\n",
            "(Austen (4), Jane (3)) -> 1\n",
            "(Austen (4), Sensibility (2)) -> 1\n",
            "(Sensibility (2), Sense (1)) -> 1\n",
            "(Sensibility (2), WHERE (2750)) -> 0\n",
            "(Jane (3), unitedly (6265)) -> 0\n",
            "(Austen (4), inducement (6013)) -> 0\n",
            "(Sense (1), uncertain (2716)) -> 0\n",
            "(Austen (4), consistent (3005)) -> 0\n"
          ],
          "name": "stdout"
        }
      ]
    },
    {
      "cell_type": "markdown",
      "metadata": {
        "id": "uMQJAolZWVLx"
      },
      "source": [
        "### **5. Building the Skip-gram Neural Network Architecture**\r\n",
        "\r\n",
        "In this section we would be building the skip-gram neural network architecture using the Keras Functional API and the Sequential model introduced in the previous lab. https://keras.io/getting-started/functional-api-guide/ "
      ]
    },
    {
      "cell_type": "code",
      "metadata": {
        "id": "fi0JmuY-Tlsp"
      },
      "source": [
        "from keras.layers import Dot, Input\r\n",
        "from keras.layers.core import Dense, Reshape\r\n",
        "from keras.layers.embeddings import Embedding\r\n",
        "from keras.models import Model\r\n",
        "from keras.utils import plot_model\r\n"
      ],
      "execution_count": 21,
      "outputs": []
    },
    {
      "cell_type": "markdown",
      "metadata": {
        "id": "22d8UIg-cBOc"
      },
      "source": [
        "The skip-gram model is two input one output feedforward neural network with one hidden layer and this will be built over a series of steps.\r\n",
        "\r\n",
        "####**A. The first step is to initialize and transform the first input using the following lines of code:**"
      ]
    },
    {
      "cell_type": "code",
      "metadata": {
        "id": "ggqykF7WUyGP"
      },
      "source": [
        "# The input is an array of target indices e.g. [2, 45, 7, 23,...9]\r\n",
        "target_word = Input((1,), dtype='int32')\r\n",
        "\r\n",
        "\r\n",
        "# feed the words into the model using the Keras <Embedding> layer. This is the hidden layer \r\n",
        "# from whose weights we will get the word embeddings.\r\n",
        "target_embedding = Embedding(VOCAB_SIZE, EMBED_SIZE, name='target_embed_layer',\r\n",
        "                        \tembeddings_initializer='glorot_uniform',\r\n",
        "                         \tinput_length=1)(target_word)\r\n",
        "\r\n",
        "\r\n",
        "# at this point, the input would of the shape (num_inputs x 1 x embed_size) and has to be flattened \r\n",
        "# or reshaped into a (num_inputs x embed_size) tensor.\r\n",
        "target_input = Reshape((EMBED_SIZE, ))(target_embedding)"
      ],
      "execution_count": 22,
      "outputs": []
    },
    {
      "cell_type": "markdown",
      "metadata": {
        "id": "GXn_SVjHckwL"
      },
      "source": [
        "####**B. Write similar code for the ‘context_word’ input.**"
      ]
    },
    {
      "cell_type": "code",
      "metadata": {
        "id": "vkCyRztYcMsp"
      },
      "source": [
        "# The input is an array of target indices e.g. [2, 45, 7, 23,...9]\r\n",
        "context_word = Input((1,), dtype='int32')\r\n",
        "\r\n",
        "\r\n",
        "# feed the words into the model using the Keras <Embedding> layer. This is the hidden layer \r\n",
        "# from whose weights we will get the word embeddings.\r\n",
        "context_embedding = Embedding(VOCAB_SIZE, EMBED_SIZE, name='context_embed_layer',\r\n",
        "                        \tembeddings_initializer='glorot_uniform',\r\n",
        "                         \tinput_length=1)(context_word)\r\n",
        "\r\n",
        "\r\n",
        "# at this point, the input would of the shape (num_inputs x 1 x embed_size) and has to be flattened \r\n",
        "# or reshaped into a (num_inputs x embed_size) tensor.\r\n",
        "context_input = Reshape((EMBED_SIZE, ))(context_embedding) # your code for the context_word goes here"
      ],
      "execution_count": 23,
      "outputs": []
    },
    {
      "cell_type": "markdown",
      "metadata": {
        "id": "btNWVWRqdBJV"
      },
      "source": [
        "####**C. Merge the inputs.**\r\n",
        "\r\n",
        "Recall, each training instance is a (target_word, context_word) combination. Since we are trying to learn the degree of closeness between the two words, the model will compute the cosine distance between the two inputs using the <Dot> layer. https://keras.io/layers/merge/, hence fusing the two inputs into one.\r\n"
      ]
    },
    {
      "cell_type": "code",
      "metadata": {
        "id": "WL0_IgA0cYBx"
      },
      "source": [
        "merged_inputs = Dot(axes=-1, normalize=False)([target_input, context_input])"
      ],
      "execution_count": 24,
      "outputs": []
    },
    {
      "cell_type": "markdown",
      "metadata": {
        "id": "vQEsxQ6We1Ob"
      },
      "source": [
        "####**D. The Output Layer**\r\n",
        "\r\n",
        "Pass the merged inputs (now a vector with a single number the cosine distance between the two input vectors for each word) into a sigmoid activated neuron. The output of this layer is the output of the model.\r\n",
        "\r\n",
        "**Hint**: Use the <Dense> layer ( https://keras.io/layers/core/ ), with a ‘sigmoid’ activation function."
      ]
    },
    {
      "cell_type": "code",
      "metadata": {
        "id": "uAUxsadqcj6Q"
      },
      "source": [
        "from keras.layers import Activation # your code for the output layer goes here\r\n",
        "import tensorflow as tf\r\n",
        "label = Activation('sigmoid')(merged_inputs)"
      ],
      "execution_count": 25,
      "outputs": []
    },
    {
      "cell_type": "markdown",
      "metadata": {
        "id": "yQk1Yj8wfXrF"
      },
      "source": [
        "####**E. Initialize the model:**"
      ]
    },
    {
      "cell_type": "code",
      "metadata": {
        "id": "YHRICxY7cdBB"
      },
      "source": [
        "# label is the output of step D.\r\n",
        "model = Model(inputs=[target_word, context_word], outputs=[label])  "
      ],
      "execution_count": 26,
      "outputs": []
    },
    {
      "cell_type": "markdown",
      "metadata": {
        "id": "DdbRI0TGVZIt"
      },
      "source": [
        "####**F. Compile the model using the <model.compile> command.** Use Loss = ‘mean_squared_error’, optimizer = ‘rmsprop’."
      ]
    },
    {
      "cell_type": "code",
      "metadata": {
        "id": "5LtWvavefueu"
      },
      "source": [
        "model.compile(optimizer = 'rmsprop', loss = 'mean_squared_error')# your code here"
      ],
      "execution_count": 27,
      "outputs": []
    },
    {
      "cell_type": "markdown",
      "metadata": {
        "id": "GC7IShG_fczC"
      },
      "source": [
        "**Sanity check:**\r\n",
        "\r\n",
        "Visualize the model and the model summary by running the following lines of code. \r\n",
        "view the model summary"
      ]
    },
    {
      "cell_type": "code",
      "metadata": {
        "colab": {
          "base_uri": "https://localhost:8080/"
        },
        "id": "e0ki6JDkgJNA",
        "outputId": "86f9b589-58b8-4cc7-d7bc-bdc0c69609f8"
      },
      "source": [
        "model.summary()"
      ],
      "execution_count": 28,
      "outputs": [
        {
          "output_type": "stream",
          "text": [
            "Model: \"model\"\n",
            "__________________________________________________________________________________________________\n",
            "Layer (type)                    Output Shape         Param #     Connected to                     \n",
            "==================================================================================================\n",
            "input_2 (InputLayer)            [(None, 1)]          0                                            \n",
            "__________________________________________________________________________________________________\n",
            "input_3 (InputLayer)            [(None, 1)]          0                                            \n",
            "__________________________________________________________________________________________________\n",
            "target_embed_layer (Embedding)  (None, 1, 100)       1080800     input_2[0][0]                    \n",
            "__________________________________________________________________________________________________\n",
            "context_embed_layer (Embedding) (None, 1, 100)       1080800     input_3[0][0]                    \n",
            "__________________________________________________________________________________________________\n",
            "reshape (Reshape)               (None, 100)          0           target_embed_layer[0][0]         \n",
            "__________________________________________________________________________________________________\n",
            "reshape_1 (Reshape)             (None, 100)          0           context_embed_layer[0][0]        \n",
            "__________________________________________________________________________________________________\n",
            "dot (Dot)                       (None, 1)            0           reshape[0][0]                    \n",
            "                                                                 reshape_1[0][0]                  \n",
            "__________________________________________________________________________________________________\n",
            "activation (Activation)         (None, 1)            0           dot[0][0]                        \n",
            "==================================================================================================\n",
            "Total params: 2,161,600\n",
            "Trainable params: 2,161,600\n",
            "Non-trainable params: 0\n",
            "__________________________________________________________________________________________________\n"
          ],
          "name": "stdout"
        }
      ]
    },
    {
      "cell_type": "markdown",
      "metadata": {
        "id": "3VVPnyFhgVr9"
      },
      "source": [
        "####**G. Plot the model using ```vis utils```.**"
      ]
    },
    {
      "cell_type": "code",
      "metadata": {
        "colab": {
          "base_uri": "https://localhost:8080/",
          "height": 450
        },
        "id": "vvfO-ensggr4",
        "outputId": "d311353f-78d9-4da4-f499-ea69b84512f5"
      },
      "source": [
        "from IPython.display import SVG\r\n",
        "from keras.utils import vis_utils\r\n",
        "SVG(vis_utils.model_to_dot(model, show_shapes=True, show_layer_names=True, dpi=60).create(prog='dot', format='svg'))  \r\n"
      ],
      "execution_count": 29,
      "outputs": [
        {
          "output_type": "execute_result",
          "data": {
            "text/plain": [
              "<IPython.core.display.SVG object>"
            ],
            "image/svg+xml": "<svg height=\"322pt\" viewBox=\"0.00 0.00 765.50 387.00\" width=\"638pt\" xmlns=\"http://www.w3.org/2000/svg\" xmlns:xlink=\"http://www.w3.org/1999/xlink\">\n<g class=\"graph\" id=\"graph0\" transform=\"scale(.8333 .8333) rotate(0) translate(4 383)\">\n<title>G</title>\n<polygon fill=\"#ffffff\" points=\"-4,4 -4,-383 761.5,-383 761.5,4 -4,4\" stroke=\"transparent\"/>\n<!-- 140641715626256 -->\n<g class=\"node\" id=\"node1\">\n<title>140641715626256</title>\n<polygon fill=\"none\" points=\"46,-332.5 46,-378.5 318,-378.5 318,-332.5 46,-332.5\" stroke=\"#000000\"/>\n<text fill=\"#000000\" font-family=\"Times,serif\" font-size=\"14.00\" text-anchor=\"middle\" x=\"112.5\" y=\"-351.8\">input_2: InputLayer</text>\n<polyline fill=\"none\" points=\"179,-332.5 179,-378.5 \" stroke=\"#000000\"/>\n<text fill=\"#000000\" font-family=\"Times,serif\" font-size=\"14.00\" text-anchor=\"middle\" x=\"208\" y=\"-363.3\">input:</text>\n<polyline fill=\"none\" points=\"179,-355.5 237,-355.5 \" stroke=\"#000000\"/>\n<text fill=\"#000000\" font-family=\"Times,serif\" font-size=\"14.00\" text-anchor=\"middle\" x=\"208\" y=\"-340.3\">output:</text>\n<polyline fill=\"none\" points=\"237,-332.5 237,-378.5 \" stroke=\"#000000\"/>\n<text fill=\"#000000\" font-family=\"Times,serif\" font-size=\"14.00\" text-anchor=\"middle\" x=\"277.5\" y=\"-363.3\">[(None, 1)]</text>\n<polyline fill=\"none\" points=\"237,-355.5 318,-355.5 \" stroke=\"#000000\"/>\n<text fill=\"#000000\" font-family=\"Times,serif\" font-size=\"14.00\" text-anchor=\"middle\" x=\"277.5\" y=\"-340.3\">[(None, 1)]</text>\n</g>\n<!-- 140641715626768 -->\n<g class=\"node\" id=\"node3\">\n<title>140641715626768</title>\n<polygon fill=\"none\" points=\"0,-249.5 0,-295.5 364,-295.5 364,-249.5 0,-249.5\" stroke=\"#000000\"/>\n<text fill=\"#000000\" font-family=\"Times,serif\" font-size=\"14.00\" text-anchor=\"middle\" x=\"102\" y=\"-268.8\">target_embed_layer: Embedding</text>\n<polyline fill=\"none\" points=\"204,-249.5 204,-295.5 \" stroke=\"#000000\"/>\n<text fill=\"#000000\" font-family=\"Times,serif\" font-size=\"14.00\" text-anchor=\"middle\" x=\"233\" y=\"-280.3\">input:</text>\n<polyline fill=\"none\" points=\"204,-272.5 262,-272.5 \" stroke=\"#000000\"/>\n<text fill=\"#000000\" font-family=\"Times,serif\" font-size=\"14.00\" text-anchor=\"middle\" x=\"233\" y=\"-257.3\">output:</text>\n<polyline fill=\"none\" points=\"262,-249.5 262,-295.5 \" stroke=\"#000000\"/>\n<text fill=\"#000000\" font-family=\"Times,serif\" font-size=\"14.00\" text-anchor=\"middle\" x=\"313\" y=\"-280.3\">(None, 1)</text>\n<polyline fill=\"none\" points=\"262,-272.5 364,-272.5 \" stroke=\"#000000\"/>\n<text fill=\"#000000\" font-family=\"Times,serif\" font-size=\"14.00\" text-anchor=\"middle\" x=\"313\" y=\"-257.3\">(None, 1, 100)</text>\n</g>\n<!-- 140641715626256&#45;&gt;140641715626768 -->\n<g class=\"edge\" id=\"edge1\">\n<title>140641715626256-&gt;140641715626768</title>\n<path d=\"M182,-332.3799C182,-324.1745 182,-314.7679 182,-305.8786\" fill=\"none\" stroke=\"#000000\"/>\n<polygon fill=\"#000000\" points=\"185.5001,-305.784 182,-295.784 178.5001,-305.784 185.5001,-305.784\" stroke=\"#000000\"/>\n</g>\n<!-- 140641680892112 -->\n<g class=\"node\" id=\"node2\">\n<title>140641680892112</title>\n<polygon fill=\"none\" points=\"434,-332.5 434,-378.5 706,-378.5 706,-332.5 434,-332.5\" stroke=\"#000000\"/>\n<text fill=\"#000000\" font-family=\"Times,serif\" font-size=\"14.00\" text-anchor=\"middle\" x=\"500.5\" y=\"-351.8\">input_3: InputLayer</text>\n<polyline fill=\"none\" points=\"567,-332.5 567,-378.5 \" stroke=\"#000000\"/>\n<text fill=\"#000000\" font-family=\"Times,serif\" font-size=\"14.00\" text-anchor=\"middle\" x=\"596\" y=\"-363.3\">input:</text>\n<polyline fill=\"none\" points=\"567,-355.5 625,-355.5 \" stroke=\"#000000\"/>\n<text fill=\"#000000\" font-family=\"Times,serif\" font-size=\"14.00\" text-anchor=\"middle\" x=\"596\" y=\"-340.3\">output:</text>\n<polyline fill=\"none\" points=\"625,-332.5 625,-378.5 \" stroke=\"#000000\"/>\n<text fill=\"#000000\" font-family=\"Times,serif\" font-size=\"14.00\" text-anchor=\"middle\" x=\"665.5\" y=\"-363.3\">[(None, 1)]</text>\n<polyline fill=\"none\" points=\"625,-355.5 706,-355.5 \" stroke=\"#000000\"/>\n<text fill=\"#000000\" font-family=\"Times,serif\" font-size=\"14.00\" text-anchor=\"middle\" x=\"665.5\" y=\"-340.3\">[(None, 1)]</text>\n</g>\n<!-- 140641682294288 -->\n<g class=\"node\" id=\"node4\">\n<title>140641682294288</title>\n<polygon fill=\"none\" points=\"382.5,-249.5 382.5,-295.5 757.5,-295.5 757.5,-249.5 382.5,-249.5\" stroke=\"#000000\"/>\n<text fill=\"#000000\" font-family=\"Times,serif\" font-size=\"14.00\" text-anchor=\"middle\" x=\"490\" y=\"-268.8\">context_embed_layer: Embedding</text>\n<polyline fill=\"none\" points=\"597.5,-249.5 597.5,-295.5 \" stroke=\"#000000\"/>\n<text fill=\"#000000\" font-family=\"Times,serif\" font-size=\"14.00\" text-anchor=\"middle\" x=\"626.5\" y=\"-280.3\">input:</text>\n<polyline fill=\"none\" points=\"597.5,-272.5 655.5,-272.5 \" stroke=\"#000000\"/>\n<text fill=\"#000000\" font-family=\"Times,serif\" font-size=\"14.00\" text-anchor=\"middle\" x=\"626.5\" y=\"-257.3\">output:</text>\n<polyline fill=\"none\" points=\"655.5,-249.5 655.5,-295.5 \" stroke=\"#000000\"/>\n<text fill=\"#000000\" font-family=\"Times,serif\" font-size=\"14.00\" text-anchor=\"middle\" x=\"706.5\" y=\"-280.3\">(None, 1)</text>\n<polyline fill=\"none\" points=\"655.5,-272.5 757.5,-272.5 \" stroke=\"#000000\"/>\n<text fill=\"#000000\" font-family=\"Times,serif\" font-size=\"14.00\" text-anchor=\"middle\" x=\"706.5\" y=\"-257.3\">(None, 1, 100)</text>\n</g>\n<!-- 140641680892112&#45;&gt;140641682294288 -->\n<g class=\"edge\" id=\"edge2\">\n<title>140641680892112-&gt;140641682294288</title>\n<path d=\"M570,-332.3799C570,-324.1745 570,-314.7679 570,-305.8786\" fill=\"none\" stroke=\"#000000\"/>\n<polygon fill=\"#000000\" points=\"573.5001,-305.784 570,-295.784 566.5001,-305.784 573.5001,-305.784\" stroke=\"#000000\"/>\n</g>\n<!-- 140641686875024 -->\n<g class=\"node\" id=\"node5\">\n<title>140641686875024</title>\n<polygon fill=\"none\" points=\"87.5,-166.5 87.5,-212.5 362.5,-212.5 362.5,-166.5 87.5,-166.5\" stroke=\"#000000\"/>\n<text fill=\"#000000\" font-family=\"Times,serif\" font-size=\"14.00\" text-anchor=\"middle\" x=\"145\" y=\"-185.8\">reshape: Reshape</text>\n<polyline fill=\"none\" points=\"202.5,-166.5 202.5,-212.5 \" stroke=\"#000000\"/>\n<text fill=\"#000000\" font-family=\"Times,serif\" font-size=\"14.00\" text-anchor=\"middle\" x=\"231.5\" y=\"-197.3\">input:</text>\n<polyline fill=\"none\" points=\"202.5,-189.5 260.5,-189.5 \" stroke=\"#000000\"/>\n<text fill=\"#000000\" font-family=\"Times,serif\" font-size=\"14.00\" text-anchor=\"middle\" x=\"231.5\" y=\"-174.3\">output:</text>\n<polyline fill=\"none\" points=\"260.5,-166.5 260.5,-212.5 \" stroke=\"#000000\"/>\n<text fill=\"#000000\" font-family=\"Times,serif\" font-size=\"14.00\" text-anchor=\"middle\" x=\"311.5\" y=\"-197.3\">(None, 1, 100)</text>\n<polyline fill=\"none\" points=\"260.5,-189.5 362.5,-189.5 \" stroke=\"#000000\"/>\n<text fill=\"#000000\" font-family=\"Times,serif\" font-size=\"14.00\" text-anchor=\"middle\" x=\"311.5\" y=\"-174.3\">(None, 100)</text>\n</g>\n<!-- 140641715626768&#45;&gt;140641686875024 -->\n<g class=\"edge\" id=\"edge3\">\n<title>140641715626768-&gt;140641686875024</title>\n<path d=\"M193.9779,-249.3799C198.4137,-240.8178 203.5271,-230.9477 208.3066,-221.7222\" fill=\"none\" stroke=\"#000000\"/>\n<polygon fill=\"#000000\" points=\"211.4448,-223.2732 212.9372,-212.784 205.2294,-220.0531 211.4448,-223.2732\" stroke=\"#000000\"/>\n</g>\n<!-- 140641681278608 -->\n<g class=\"node\" id=\"node6\">\n<title>140641681278608</title>\n<polygon fill=\"none\" points=\"403,-166.5 403,-212.5 693,-212.5 693,-166.5 403,-166.5\" stroke=\"#000000\"/>\n<text fill=\"#000000\" font-family=\"Times,serif\" font-size=\"14.00\" text-anchor=\"middle\" x=\"468\" y=\"-185.8\">reshape_1: Reshape</text>\n<polyline fill=\"none\" points=\"533,-166.5 533,-212.5 \" stroke=\"#000000\"/>\n<text fill=\"#000000\" font-family=\"Times,serif\" font-size=\"14.00\" text-anchor=\"middle\" x=\"562\" y=\"-197.3\">input:</text>\n<polyline fill=\"none\" points=\"533,-189.5 591,-189.5 \" stroke=\"#000000\"/>\n<text fill=\"#000000\" font-family=\"Times,serif\" font-size=\"14.00\" text-anchor=\"middle\" x=\"562\" y=\"-174.3\">output:</text>\n<polyline fill=\"none\" points=\"591,-166.5 591,-212.5 \" stroke=\"#000000\"/>\n<text fill=\"#000000\" font-family=\"Times,serif\" font-size=\"14.00\" text-anchor=\"middle\" x=\"642\" y=\"-197.3\">(None, 1, 100)</text>\n<polyline fill=\"none\" points=\"591,-189.5 693,-189.5 \" stroke=\"#000000\"/>\n<text fill=\"#000000\" font-family=\"Times,serif\" font-size=\"14.00\" text-anchor=\"middle\" x=\"642\" y=\"-174.3\">(None, 100)</text>\n</g>\n<!-- 140641682294288&#45;&gt;140641681278608 -->\n<g class=\"edge\" id=\"edge4\">\n<title>140641682294288-&gt;140641681278608</title>\n<path d=\"M563.8718,-249.3799C561.6732,-241.0854 559.1493,-231.5633 556.7706,-222.5889\" fill=\"none\" stroke=\"#000000\"/>\n<polygon fill=\"#000000\" points=\"560.117,-221.5534 554.1717,-212.784 553.3507,-223.347 560.117,-221.5534\" stroke=\"#000000\"/>\n</g>\n<!-- 140641682235216 -->\n<g class=\"node\" id=\"node7\">\n<title>140641682235216</title>\n<polygon fill=\"none\" points=\"226.5,-83.5 226.5,-129.5 523.5,-129.5 523.5,-83.5 226.5,-83.5\" stroke=\"#000000\"/>\n<text fill=\"#000000\" font-family=\"Times,serif\" font-size=\"14.00\" text-anchor=\"middle\" x=\"259\" y=\"-102.8\">dot: Dot</text>\n<polyline fill=\"none\" points=\"291.5,-83.5 291.5,-129.5 \" stroke=\"#000000\"/>\n<text fill=\"#000000\" font-family=\"Times,serif\" font-size=\"14.00\" text-anchor=\"middle\" x=\"320.5\" y=\"-114.3\">input:</text>\n<polyline fill=\"none\" points=\"291.5,-106.5 349.5,-106.5 \" stroke=\"#000000\"/>\n<text fill=\"#000000\" font-family=\"Times,serif\" font-size=\"14.00\" text-anchor=\"middle\" x=\"320.5\" y=\"-91.3\">output:</text>\n<polyline fill=\"none\" points=\"349.5,-83.5 349.5,-129.5 \" stroke=\"#000000\"/>\n<text fill=\"#000000\" font-family=\"Times,serif\" font-size=\"14.00\" text-anchor=\"middle\" x=\"436.5\" y=\"-114.3\">[(None, 100), (None, 100)]</text>\n<polyline fill=\"none\" points=\"349.5,-106.5 523.5,-106.5 \" stroke=\"#000000\"/>\n<text fill=\"#000000\" font-family=\"Times,serif\" font-size=\"14.00\" text-anchor=\"middle\" x=\"436.5\" y=\"-91.3\">(None, 1)</text>\n</g>\n<!-- 140641686875024&#45;&gt;140641682235216 -->\n<g class=\"edge\" id=\"edge5\">\n<title>140641686875024-&gt;140641682235216</title>\n<path d=\"M266.7834,-166.3799C284.5881,-156.5279 305.5226,-144.9442 324.2107,-134.6034\" fill=\"none\" stroke=\"#000000\"/>\n<polygon fill=\"#000000\" points=\"326.1256,-137.544 333.1808,-129.6399 322.7364,-131.4191 326.1256,-137.544\" stroke=\"#000000\"/>\n</g>\n<!-- 140641681278608&#45;&gt;140641682235216 -->\n<g class=\"edge\" id=\"edge6\">\n<title>140641681278608-&gt;140641682235216</title>\n<path d=\"M499.8099,-166.3799C478.9017,-156.3488 454.2514,-144.5224 432.404,-134.0406\" fill=\"none\" stroke=\"#000000\"/>\n<polygon fill=\"#000000\" points=\"433.7615,-130.81 423.2315,-129.6399 430.7335,-137.1212 433.7615,-130.81\" stroke=\"#000000\"/>\n</g>\n<!-- 140641715547792 -->\n<g class=\"node\" id=\"node8\">\n<title>140641715547792</title>\n<polygon fill=\"none\" points=\"240.5,-.5 240.5,-46.5 509.5,-46.5 509.5,-.5 240.5,-.5\" stroke=\"#000000\"/>\n<text fill=\"#000000\" font-family=\"Times,serif\" font-size=\"14.00\" text-anchor=\"middle\" x=\"310\" y=\"-19.8\">activation: Activation</text>\n<polyline fill=\"none\" points=\"379.5,-.5 379.5,-46.5 \" stroke=\"#000000\"/>\n<text fill=\"#000000\" font-family=\"Times,serif\" font-size=\"14.00\" text-anchor=\"middle\" x=\"408.5\" y=\"-31.3\">input:</text>\n<polyline fill=\"none\" points=\"379.5,-23.5 437.5,-23.5 \" stroke=\"#000000\"/>\n<text fill=\"#000000\" font-family=\"Times,serif\" font-size=\"14.00\" text-anchor=\"middle\" x=\"408.5\" y=\"-8.3\">output:</text>\n<polyline fill=\"none\" points=\"437.5,-.5 437.5,-46.5 \" stroke=\"#000000\"/>\n<text fill=\"#000000\" font-family=\"Times,serif\" font-size=\"14.00\" text-anchor=\"middle\" x=\"473.5\" y=\"-31.3\">(None, 1)</text>\n<polyline fill=\"none\" points=\"437.5,-23.5 509.5,-23.5 \" stroke=\"#000000\"/>\n<text fill=\"#000000\" font-family=\"Times,serif\" font-size=\"14.00\" text-anchor=\"middle\" x=\"473.5\" y=\"-8.3\">(None, 1)</text>\n</g>\n<!-- 140641682235216&#45;&gt;140641715547792 -->\n<g class=\"edge\" id=\"edge7\">\n<title>140641682235216-&gt;140641715547792</title>\n<path d=\"M375,-83.3799C375,-75.1745 375,-65.7679 375,-56.8786\" fill=\"none\" stroke=\"#000000\"/>\n<polygon fill=\"#000000\" points=\"378.5001,-56.784 375,-46.784 371.5001,-56.784 378.5001,-56.784\" stroke=\"#000000\"/>\n</g>\n</g>\n</svg>"
          },
          "metadata": {
            "tags": []
          },
          "execution_count": 29
        }
      ]
    },
    {
      "cell_type": "markdown",
      "metadata": {
        "id": "zbOcZD6igpxy"
      },
      "source": [
        "###**6.Training the Model**\r\n",
        "\r\n",
        "Run the following block of code to train the model for 5 epochs:"
      ]
    },
    {
      "cell_type": "code",
      "metadata": {
        "colab": {
          "base_uri": "https://localhost:8080/"
        },
        "id": "RmQN4r52gmLR",
        "outputId": "ed30dd7f-beb6-4ab7-b755-1143d1669b9b"
      },
      "source": [
        "import numpy as np\r\n",
        "\r\n",
        "NUM_EPOCHS = 5\r\n",
        "\r\n",
        "for epoch in range(1, NUM_EPOCHS+1):\r\n",
        "    epoch_loss = 0\r\n",
        "    for i, sent_examples in enumerate(skip_grams[:10000]):\r\n",
        "        target_wds = np.array([pair[0] for pair in sent_examples[0]], dtype='int32')\r\n",
        "        context_wds = np.array([pair[1] for pair in sent_examples[0]], dtype='int32')\r\n",
        "        labels = np.array(sent_examples[1], dtype='int32')\r\n",
        "        X = [target_wds, context_wds]\r\n",
        "        Y = labels\r\n",
        "        if i % 5000 == 0: \r\n",
        "        \tprint('Processed %d sentences' %i)\r\n",
        "        epoch_loss += model.train_on_batch(X, Y)\r\n",
        "    print('Processed all %d sentences' %i)\r\n",
        "    print('Epoch:', epoch, 'Loss:', epoch_loss, '\\n')\r\n",
        "\r\n"
      ],
      "execution_count": 30,
      "outputs": [
        {
          "output_type": "stream",
          "text": [
            "Processed 0 sentences\n",
            "Processed 5000 sentences\n",
            "Processed all 9999 sentences\n",
            "Epoch: 1 Loss: 1862.2674378398806 \n",
            "\n",
            "Processed 0 sentences\n",
            "Processed 5000 sentences\n",
            "Processed all 9999 sentences\n",
            "Epoch: 2 Loss: 1419.2041484704241 \n",
            "\n",
            "Processed 0 sentences\n",
            "Processed 5000 sentences\n",
            "Processed all 9999 sentences\n",
            "Epoch: 3 Loss: 1356.0557269393466 \n",
            "\n",
            "Processed 0 sentences\n",
            "Processed 5000 sentences\n",
            "Processed all 9999 sentences\n",
            "Epoch: 4 Loss: 1326.069272265071 \n",
            "\n",
            "Processed 0 sentences\n",
            "Processed 5000 sentences\n",
            "Processed all 9999 sentences\n",
            "Epoch: 5 Loss: 1302.120917307213 \n",
            "\n"
          ],
          "name": "stdout"
        }
      ]
    },
    {
      "cell_type": "markdown",
      "metadata": {
        "id": "Sj6BiOKfiI7R"
      },
      "source": [
        "The training takes about 10 minutes to run.\r\n",
        "\r\n",
        "<br>\r\n",
        "\r\n",
        "In the introduction, we outlined two approaches to training using the skipgram architecture. In this tutorial, we implemented the negative sampling training approach. While waiting for the training to complete, read this article http://mccormickml.com/2016/04/19/word2vec-tutorial-the-skip-gram-model/. It contains the skipgram model with softmax training. \r\n",
        "\r\n",
        "<br>\r\n",
        "\r\n",
        "After reading the article, answer the following questions:  \r\n",
        "●\tWhat would the inputs and outputs to the model be?\r\n",
        "\r\n",
        "●\tHow would you use the Keras framework to create this architecture?\r\n",
        "\r\n",
        "●\tWhat are the reasons this training approach is \r\n",
        "considered inefficient?\r\n"
      ]
    },
    {
      "cell_type": "markdown",
      "metadata": {
        "id": "Fdl5x1yN6iP5"
      },
      "source": [
        "### What would be the Inputs and Outputs to the model be?\r\n",
        "\r\n",
        "#### Inputs are wordtoindex of context word and target word. Outputs are probability of pair is positive or negative\r\n",
        "\r\n",
        "### How would you use the Keras framework to create this architecture?\r\n",
        "#### Define the layers in the model. Connect the flow of input and outputs through each layer. Fit the model and then evaluate on test data to get fast and accurate results.\r\n",
        "\r\n",
        "### What are the reasons this training approach is considered inefficient?\r\n",
        "#### Sometimes when we use two different embedding Matrices , same word may have different vectors."
      ]
    },
    {
      "cell_type": "markdown",
      "metadata": {
        "id": "Bwz_8kTZ6UVF"
      },
      "source": [
        "###**7. Getting the Word Embeddings**\r\n",
        "\r\n",
        "The word embeddings are the weights of the target word embedding layer.\r\n"
      ]
    },
    {
      "cell_type": "code",
      "metadata": {
        "colab": {
          "base_uri": "https://localhost:8080/"
        },
        "id": "kiQTO6VgcN90",
        "outputId": "6e29337f-ab10-4c2b-8351-1734732738e3"
      },
      "source": [
        "word_embeddings = model.get_layer('target_embed_layer').get_weights()[0] \r\n",
        "\r\n",
        "# should return (VOCAB_SIZE, EMBED_SIZE)\r\n",
        "print(word_embeddings.shape)"
      ],
      "execution_count": 31,
      "outputs": [
        {
          "output_type": "stream",
          "text": [
            "(10808, 100)\n"
          ],
          "name": "stdout"
        }
      ]
    },
    {
      "cell_type": "markdown",
      "metadata": {
        "id": "33-QRJFv6v5t"
      },
      "source": [
        "Print out a few words and their embeddings using the next block of code. Your output may not be exactly as above but the command should print 10 words and their respective vectors."
      ]
    },
    {
      "cell_type": "code",
      "metadata": {
        "colab": {
          "base_uri": "https://localhost:8080/"
        },
        "id": "HffZwwLUcXb1",
        "outputId": "f8e6dc58-f27a-4c51-8e00-76fa67f4e600"
      },
      "source": [
        "from pandas import DataFrame\r\n",
        "\r\n",
        "print(DataFrame(word_embeddings, index=idx2word.values()).head(10))"
      ],
      "execution_count": 32,
      "outputs": [
        {
          "output_type": "stream",
          "text": [
            "                   0         1         2   ...        97        98        99\n",
            "Sense        0.010083 -0.012033 -0.016542  ...  0.003729 -0.014503  0.019011\n",
            "Sensibility  0.010376 -0.023291  0.008540  ...  0.030873 -0.024183  0.011487\n",
            "Jane         0.016210 -0.014352  0.023118  ...  0.020753 -0.014591  0.034952\n",
            "Austen       0.011112 -0.078037  0.038333  ...  0.008071  0.010603  0.035187\n",
            "The          0.005096 -0.014580 -0.007197  ...  0.015193 -0.015456  0.022403\n",
            "family       0.027164 -0.017446 -0.005271  ... -0.011948  0.054367  0.092967\n",
            "Dashwood    -0.145946 -0.032238  0.018873  ...  0.052960 -0.162810  0.091453\n",
            "long        -0.236915 -0.052849  0.114623  ...  0.102109 -0.154706 -0.048957\n",
            "settled      0.067867 -0.000789 -0.019915  ...  0.061657 -0.019171  0.089344\n",
            "Sussex       0.053522 -0.021792  0.059648  ...  0.058734 -0.012536  0.010037\n",
            "\n",
            "[10 rows x 100 columns]\n"
          ],
          "name": "stdout"
        }
      ]
    },
    {
      "cell_type": "markdown",
      "metadata": {
        "id": "-Ki8NtrS7ezr"
      },
      "source": [
        "###**8.  Measuring Similarity Between Word Pairs**\r\n",
        "\r\n"
      ]
    },
    {
      "cell_type": "code",
      "metadata": {
        "id": "dbb-uoe666oV",
        "colab": {
          "base_uri": "https://localhost:8080/"
        },
        "outputId": "85e291bc-f231-41a3-8d35-757ab0bfe3fd"
      },
      "source": [
        "from sklearn.metrics.pairwise import cosine_similarity\r\n",
        "\r\n",
        "similarity_matrix = cosine_similarity(word_embeddings)\r\n",
        "\r\n",
        "# should print(VOCAB_SIZE, VOCAB_SIZE)\r\n",
        "print(similarity_matrix.shape)   "
      ],
      "execution_count": 33,
      "outputs": [
        {
          "output_type": "stream",
          "text": [
            "(10808, 10808)\n"
          ],
          "name": "stdout"
        }
      ]
    },
    {
      "cell_type": "markdown",
      "metadata": {
        "id": "u2U4S29p7MVz"
      },
      "source": [
        "Matrix is generated to show similarity between the words in the Vocabulary."
      ]
    },
    {
      "cell_type": "markdown",
      "metadata": {
        "id": "k0fyfgvB90G5"
      },
      "source": [
        "###**9. Exploring and Visualizing your Word Embeddings using t-SNE**\r\n",
        "\r\n",
        "**A.\tGet the most similar words to the search items in the list below**\r\n",
        "\r\n",
        "search_terms = ['family', 'love', 'equality', 'wisdom', 'justice',  'humour', 'rejection']\r\n",
        "\r\n",
        "\r\n",
        "**Sanity check:**\r\n",
        "The similar words obtained would depend on your training but the above command should print a dictionary. Each key is a search term and each value is a list of the 5 words the model predicts to be most similar to the key word. \r\n"
      ]
    },
    {
      "cell_type": "code",
      "metadata": {
        "colab": {
          "base_uri": "https://localhost:8080/"
        },
        "id": "lXpeLVsN3Ruy",
        "outputId": "f5a46e6e-2f5a-460d-b6db-e9da97295ce3"
      },
      "source": [
        "search_terms = ['family', 'love', 'equality', 'wisdom', 'justice', 'humour', 'rejection']\r\n",
        "\r\n",
        "# write code to get the 5 words most similar to the words in search_terms\r\n",
        "for index in range(len(search_terms)):\r\n",
        "  index = index\r\n",
        "  similarwords  = [idx2word[i] for i in list(np.argsort(similarity_matrix[word2idx[search_terms[index]]])[-6:-1])]\r\n",
        "  print('5 similar words for {}'.format(search_terms[index]),similarwords)\r\n",
        "index = 2\r\n",
        "similarwords  = [idx2word[i] for i in list(np.argsort(similarity_matrix[word2idx[search_terms[index]]])[-6:-1])]\r\n",
        "print('5 similar words for {}'.format(search_terms[index]),similarwords)"
      ],
      "execution_count": 38,
      "outputs": [
        {
          "output_type": "stream",
          "text": [
            "5 similar words for family ['much', 'see', 'replied', 'making', 'Edward']\n",
            "5 similar words for love ['need', 'afraid', 'fair', 'reason', 'rather']\n",
            "5 similar words for equality ['Have', 'Now', 'Did', 'Come', 'advise']\n",
            "5 similar words for wisdom ['en', 'Sandersons', 'vicinity', 'crosses', 'recited']\n",
            "5 similar words for justice ['Did', 'droll', 'All', 'Indeed', 'affording']\n",
            "5 similar words for humour ['persuading', 'Yes', 'gladly', 'intimate', 'gives']\n",
            "5 similar words for rejection ['blushing', 'light', 'congratulate', 'refusal', 'defence']\n",
            "5 similar words for equality ['Have', 'Now', 'Did', 'Come', 'advise']\n"
          ],
          "name": "stdout"
        }
      ]
    },
    {
      "cell_type": "code",
      "metadata": {
        "colab": {
          "base_uri": "https://localhost:8080/"
        },
        "id": "hWbSfqYschRs",
        "outputId": "13c35ceb-521d-47af-fc39-71ac93f1082e"
      },
      "source": [
        "search_terms = ['think', 'thought', 'friend', 'love', 'disdain']\r\n",
        "\r\n",
        "# write code to get the 5 words most similar to the words in search_terms\r\n",
        "for idx in range(len(search_terms)):\r\n",
        "  idx = idx\r\n",
        "  similarwords  = [idx2word[i] for i in list(np.argsort(similarity_matrix[word2idx[search_terms[idx]]])[-6:-1])]\r\n",
        "  print('5 similar words for {}'.format(search_terms[idx]),similarwords)\r\n",
        "\r\n",
        "idx = 2\r\n",
        "similarwords  = [idx2word[i] for i in list(np.argsort(similarity_matrix[word2idx[search_terms[idx]]])[-6:-1])]\r\n",
        "print('5 similar words for {}'.format(search_terms[idx]),similarwords)"
      ],
      "execution_count": 44,
      "outputs": [
        {
          "output_type": "stream",
          "text": [
            "5 similar words for think ['But', 'You', 'may', 'shall', 'cannot']\n",
            "5 similar words for thought ['But', 'extremely', 'find', 'You', 'cannot']\n",
            "5 similar words for friend ['farther', 'Harriet', 'found', 'seeing', 'girl']\n",
            "5 similar words for love ['need', 'afraid', 'fair', 'reason', 'rather']\n",
            "5 similar words for disdain ['ONE', 'tolerate', 'Donwell', 'Very', 'awkward']\n",
            "5 similar words for friend ['farther', 'Harriet', 'found', 'seeing', 'girl']\n"
          ],
          "name": "stdout"
        }
      ]
    },
    {
      "cell_type": "markdown",
      "metadata": {
        "id": "5I_X9W-vGXiZ"
      },
      "source": [
        "**B. Plot the words in the dictionary above using t-SN**E https://lvdmaaten.github.io/tsne/ \r\n",
        "\r\n",
        "Plot 50 of the word embeddings using the code snippets below:\r\n",
        "\r\n",
        "\r\n",
        "\r\n",
        "\r\n",
        "\r\n",
        "\r\n",
        "\r\n",
        "\r\n",
        "\r\n",
        "\r\n",
        "\r\n",
        "\r\n"
      ]
    },
    {
      "cell_type": "code",
      "metadata": {
        "colab": {
          "base_uri": "https://localhost:8080/",
          "height": 483
        },
        "id": "FMnyCjS4cnb8",
        "outputId": "36d56b81-6fc5-408a-d219-d6da28c4e385"
      },
      "source": [
        "from sklearn.manifold import TSNE\r\n",
        "import matplotlib.pyplot as plt\r\n",
        "\r\n",
        "tsne = TSNE(perplexity=3, n_components=2, init='pca', n_iter=5000, method='exact')\r\n",
        "np.set_printoptions(suppress=True)\r\n",
        "plot_only = 50 \r\n",
        "\r\n",
        "T = tsne.fit_transform(word_embeddings[:plot_only, :])\r\n",
        "labels = [idx2word[i+1] for i in range(plot_only)]\r\n",
        "plt.figure(figsize=(14, 8))\r\n",
        "plt.scatter(T[:, 0], T[:, 1])\r\n",
        "for label, x, y in zip(labels, T[:, 0], T[:, 1]):\r\n",
        "    plt.annotate(label, xy=(x+1, y+1), xytext=(0, 0), textcoords='offset points', ha='right', va='bottom')                      \t                        \r\n",
        "\r\n"
      ],
      "execution_count": 45,
      "outputs": [
        {
          "output_type": "display_data",
          "data": {
            "image/png": "[encoded data removed]",
            "text/plain": [
              "<Figure size 1008x576 with 1 Axes>"
            ]
          },
          "metadata": {
            "tags": [],
            "needs_background": "light"
          }
        }
      ]
    },
    {
      "cell_type": "markdown",
      "metadata": {
        "id": "OsCVTRUMP1qi"
      },
      "source": [
        "**10. Resources used**\r\n",
        "\r\n",
        "http://jalammar.github.io/illustrated-word2vec/\r\n",
        "https://adventuresinmachinelearning.com/word2vec-tutorial-tensorflow/ \r\n",
        "https://towardsdatascience.com/understanding-feature-engineering-part-4-deep-learning-methods-for-text-data-96c44370bbfa \r\n",
        "https://adventuresinmachinelearning.com/word2vec-keras-tutorial/ \r\n",
        "https://www.tensorflow.org/tutorials/representation/word2vec#the_skip-gram_model \r\n",
        "https://github.com/tensorflow/tensorflow/blob/master/tensorflow/examples/tutorials/word2vec/word2vec_basic.py \r\n",
        "\r\n"
      ]
    },
    {
      "cell_type": "code",
      "metadata": {
        "id": "HCAYO90bV-DR"
      },
      "source": [
        ""
      ],
      "execution_count": null,
      "outputs": []
    }
  ]
}